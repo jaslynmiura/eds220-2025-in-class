{
 "cells": [
  {
   "cell_type": "markdown",
   "id": "270bd624-80d7-4800-b461-e047fa8490ea",
   "metadata": {},
   "source": [
    "# Python Review\n",
    "\n",
    "Goals:\n",
    "- recall basic python vocabulary\n",
    "- practice markdown\n",
    "\n",
    "## Libraries and packages\n",
    "**library**: a collection of coade that we can use to perform specific tasks in our programs.\n",
    "\n",
    "**NumPy**:\n",
    "- core library for numerical computing in Python\n",
    "- many other libraries use NumPy arrays as building blocks\n",
    "- computations on NumPy are optimized for speed and memory usage\n",
    "\n",
    "Let's impory NumPy with **standard abbreviation**"
   ]
  },
  {
   "cell_type": "code",
   "execution_count": 1,
   "id": "53c61ac5-9430-4766-92c5-ce979f920939",
   "metadata": {
    "tags": []
   },
   "outputs": [],
   "source": [
    "import numpy as np"
   ]
  },
  {
   "cell_type": "markdown",
   "id": "43fcab46-fe0f-48ff-b901-67b40338db38",
   "metadata": {},
   "source": [
    "## Variables\n",
    "\n",
    "**variable**: a name we assign to a particular object in Python\n",
    "\n",
    "Example:"
   ]
  },
  {
   "cell_type": "code",
   "execution_count": 2,
   "id": "01282c89-c8fc-4ebb-9753-0d40e9204069",
   "metadata": {
    "tags": []
   },
   "outputs": [],
   "source": [
    "# Assign a small array to a variable a\n",
    "a = np.array([[1, 1, 2], [3, 5, 8]])"
   ]
  },
  {
   "cell_type": "code",
   "execution_count": 3,
   "id": "fe1b02af-f0a9-4918-87a9-1724705f91de",
   "metadata": {
    "tags": []
   },
   "outputs": [
    {
     "data": {
      "text/plain": [
       "array([[1, 1, 2],\n",
       "       [3, 5, 8]])"
      ]
     },
     "execution_count": 3,
     "metadata": {},
     "output_type": "execute_result"
    }
   ],
   "source": [
    "# Run a cell with the variable name to show value\n",
    "a"
   ]
  },
  {
   "cell_type": "code",
   "execution_count": 4,
   "id": "877e44f3-a632-48b5-9841-802140392280",
   "metadata": {
    "tags": []
   },
   "outputs": [
    {
     "name": "stdout",
     "output_type": "stream",
     "text": [
      "[[1 1 2]\n",
      " [3 5 8]]\n"
     ]
    }
   ],
   "source": [
    "# Use the `print` function to print the value\n",
    "print(a)"
   ]
  },
  {
   "cell_type": "markdown",
   "id": "0f493827-2dd9-4a85-9f4d-7ced2ebdd3bf",
   "metadata": {},
   "source": [
    "## Objects\n",
    "\n",
    "**objects** (informally speaking) is a bundle of *properties* and *actions* about something specific.\n",
    "\n",
    "Example:\n",
    "\n",
    "Object: data frame\n",
    "\n",
    "Properties: number rows, names of the columns, date created\n",
    "\n",
    "Actions: selecting a specifc row, adding a new column\n",
    "\n",
    "A variable is a the name we give a specific object, and the same object can be referenced by different variables\n",
    "\n",
    "In practice, we can often use variable and object interchangeably.\n",
    "\n",
    "## Types\n",
    "\n",
    "Every object in Python has a **type**. The type tells us what kind of object it is.\n",
    "\n",
    "We can also call the type of an object, the **class** of an object and they both mean what kind of object we have"
   ]
  },
  {
   "cell_type": "code",
   "execution_count": 5,
   "id": "0cea534f-a308-4235-971f-83c19878cbed",
   "metadata": {},
   "outputs": [
    {
     "name": "stdout",
     "output_type": "stream",
     "text": [
      "[[1 1 2]\n",
      " [3 5 8]]\n"
     ]
    },
    {
     "data": {
      "text/plain": [
       "numpy.ndarray"
      ]
     },
     "execution_count": 5,
     "metadata": {},
     "output_type": "execute_result"
    }
   ],
   "source": [
    "print(a)\n",
    "\n",
    "# Check the type/class of a variable/object by using `type` function\n",
    "type(a)"
   ]
  },
  {
   "cell_type": "code",
   "execution_count": 6,
   "id": "6fb40c6b-9b44-4c8d-ba90-85c3f6a23629",
   "metadata": {
    "tags": []
   },
   "outputs": [
    {
     "name": "stdout",
     "output_type": "stream",
     "text": [
      "1\n"
     ]
    },
    {
     "data": {
      "text/plain": [
       "numpy.int64"
      ]
     },
     "execution_count": 6,
     "metadata": {},
     "output_type": "execute_result"
    }
   ],
   "source": [
    "# Indexing the value in the first row and first column\n",
    "print(a[0,0])\n",
    "\n",
    "# Check the type of an entry of the array by indexing\n",
    "type(a[0,0])"
   ]
  },
  {
   "cell_type": "markdown",
   "id": "cc5eb192-1dce-4103-b88b-33be25550da5",
   "metadata": {},
   "source": [
    "Notice that `type(a[0,0])` is `numpy.int64` and is not just the standard Python integer type. This is telling us that 1 is an integer stored as a 64-bit number."
   ]
  },
  {
   "cell_type": "code",
   "execution_count": 10,
   "id": "98282101-37b2-402d-874f-e5c65990b28d",
   "metadata": {
    "tags": []
   },
   "outputs": [
    {
     "name": "stdout",
     "output_type": "stream",
     "text": [
      "5\n"
     ]
    }
   ],
   "source": [
    "print(a[1,1])"
   ]
  },
  {
   "cell_type": "markdown",
   "id": "e582b676-315a-4a0e-85ca-54d030abd1f5",
   "metadata": {},
   "source": [
    "## Functions\n",
    "\n",
    "`print` was our first example of a Python **function**.\n",
    "\n",
    "Functions take in a set of **arguements** and those arguements creat an **output**.\n",
    "\n",
    "arguement = parameter.\n",
    "\n",
    "We can ask information about a function by executing `?function`"
   ]
  },
  {
   "cell_type": "code",
   "execution_count": 11,
   "id": "7d55d74b-391f-4e00-94bf-4a5525aff9bf",
   "metadata": {
    "tags": []
   },
   "outputs": [
    {
     "data": {
      "text/plain": [
       "\u001b[0;31mSignature:\u001b[0m \u001b[0mprint\u001b[0m\u001b[0;34m(\u001b[0m\u001b[0;34m*\u001b[0m\u001b[0margs\u001b[0m\u001b[0;34m,\u001b[0m \u001b[0msep\u001b[0m\u001b[0;34m=\u001b[0m\u001b[0;34m' '\u001b[0m\u001b[0;34m,\u001b[0m \u001b[0mend\u001b[0m\u001b[0;34m=\u001b[0m\u001b[0;34m'\\n'\u001b[0m\u001b[0;34m,\u001b[0m \u001b[0mfile\u001b[0m\u001b[0;34m=\u001b[0m\u001b[0;32mNone\u001b[0m\u001b[0;34m,\u001b[0m \u001b[0mflush\u001b[0m\u001b[0;34m=\u001b[0m\u001b[0;32mFalse\u001b[0m\u001b[0;34m)\u001b[0m\u001b[0;34m\u001b[0m\u001b[0;34m\u001b[0m\u001b[0m\n",
       "\u001b[0;31mDocstring:\u001b[0m\n",
       "Prints the values to a stream, or to sys.stdout by default.\n",
       "\n",
       "sep\n",
       "  string inserted between values, default a space.\n",
       "end\n",
       "  string appended after the last value, default a newline.\n",
       "file\n",
       "  a file-like object (stream); defaults to the current sys.stdout.\n",
       "flush\n",
       "  whether to forcibly flush the stream.\n",
       "\u001b[0;31mType:\u001b[0m      builtin_function_or_method"
      ]
     },
     "metadata": {},
     "output_type": "display_data"
    }
   ],
   "source": [
    "?print"
   ]
  },
  {
   "cell_type": "markdown",
   "id": "c3db77bd-364a-4cc2-8d24-309444ebb4ed",
   "metadata": {},
   "source": [
    "This information is a **docstring**.\n",
    "\n",
    "A function has two types of arguements:\n",
    "\n",
    "- **non-optional arguements**: arguements *you* need to specify for the function to do something\n",
    "- **optional arguement**: arguements that are pre-filled with a default value by the function. You can override them. Optional arguements appear inside the parenthesis in the form `optional_arguement=default_value`"
   ]
  },
  {
   "cell_type": "code",
   "execution_count": 12,
   "id": "b4428f64-7220-40ba-ab28-d3e4566f8543",
   "metadata": {
    "tags": []
   },
   "outputs": [
    {
     "name": "stdout",
     "output_type": "stream",
     "text": [
      "changing the default end arguement :)"
     ]
    }
   ],
   "source": [
    "print('changing the default end arguement', end=' :)')"
   ]
  },
  {
   "cell_type": "markdown",
   "id": "d5de413c-dc78-4105-9f8f-895a87edabae",
   "metadata": {},
   "source": [
    "## Attributed & methods\n",
    "\n",
    "An object in Python has attributed and methods.\n",
    "\n",
    "- **attribute**: a property of an object, some piece of information about it\n",
    "- **method**: a procedure associated with the object, an action where the main ingredient is the object.\n",
    "\n",
    "### Check-in\n",
    "\n",
    "Fish attributes:\n",
    "\n",
    "-length, color, species\n",
    "\n",
    "Fish methods:\n",
    "\n",
    "- die(), bite(), swim()\n",
    "\n",
    "**Example**\n",
    "Attributed for `numpy.arrays`\n",
    "\n",
    "We can access a variable's attributed and methods by adding a period `.` at the end of the variable's name.\n",
    "\n",
    "`variable.method()` or `variable.attribute`"
   ]
  },
  {
   "cell_type": "code",
   "execution_count": 13,
   "id": "3df7f95b-9012-4600-b890-d2a32ac13702",
   "metadata": {
    "tags": []
   },
   "outputs": [
    {
     "data": {
      "text/plain": [
       "(2, 3)"
      ]
     },
     "execution_count": 13,
     "metadata": {},
     "output_type": "execute_result"
    }
   ],
   "source": [
    "a.shape"
   ]
  },
  {
   "cell_type": "code",
   "execution_count": 14,
   "id": "f5582fb3-ebd4-4f98-b6b6-12c21c5827b4",
   "metadata": {
    "tags": []
   },
   "outputs": [
    {
     "data": {
      "text/plain": [
       "tuple"
      ]
     },
     "execution_count": 14,
     "metadata": {},
     "output_type": "execute_result"
    }
   ],
   "source": [
    "type(a.shape)"
   ]
  },
  {
   "cell_type": "code",
   "execution_count": 15,
   "id": "d0bb711a-32b0-478e-84ee-fc06b347dbe5",
   "metadata": {
    "tags": []
   },
   "outputs": [
    {
     "data": {
      "text/plain": [
       "array([1, 1, 2])"
      ]
     },
     "execution_count": 15,
     "metadata": {},
     "output_type": "execute_result"
    }
   ],
   "source": [
    "# Methods examples\n",
    "# min() returns the minimum value along a specified axis\n",
    "a.min(axis=0)"
   ]
  },
  {
   "cell_type": "markdown",
   "id": "09bb878b-fc6d-42f4-bb6f-afa38d7e8000",
   "metadata": {},
   "source": [
    "## Check-in\n",
    "\n",
    "We can also call the `min` method without any parameters:"
   ]
  },
  {
   "cell_type": "code",
   "execution_count": 16,
   "id": "b9c525a1-a58b-4a39-8f85-e82da9766909",
   "metadata": {
    "tags": []
   },
   "outputs": [
    {
     "data": {
      "text/plain": [
       "1"
      ]
     },
     "execution_count": 16,
     "metadata": {},
     "output_type": "execute_result"
    }
   ],
   "source": [
    "a.min() \n",
    "\n",
    "# This is an optional parameter, since the function works even if we don't specify the parameter"
   ]
  },
  {
   "cell_type": "markdown",
   "id": "25867a2d-ac5c-4edf-ad97-bb4a2a857c93",
   "metadata": {},
   "source": [
    "Remember: methods are functions associated with an object."
   ]
  },
  {
   "cell_type": "code",
   "execution_count": 17,
   "id": "30a10f5b-5c1f-42e3-8ba7-b246827a0c40",
   "metadata": {
    "tags": []
   },
   "outputs": [
    {
     "data": {
      "text/plain": [
       "builtin_function_or_method"
      ]
     },
     "execution_count": 17,
     "metadata": {},
     "output_type": "execute_result"
    }
   ],
   "source": [
    "type(a.min)"
   ]
  },
  {
   "cell_type": "markdown",
   "id": "9ff2c5fc-ae75-4828-a214-cc1200bcb191",
   "metadata": {},
   "source": [
    "## Exercise\n",
    "\n",
    "1. Read the `print` function help. What is the type of the arguement `sep`? Is this an optional or non-optional arguemnet? Why?\n",
    "\n",
    "2. Create two new variables, one with the integer value 77 and another one with the string 99.\n",
    "\n",
    "3. Use your variables to print `77%99%77` by changing the value of one of the optional arguements in `print`."
   ]
  },
  {
   "cell_type": "code",
   "execution_count": 18,
   "id": "a7862aa7-fa9f-48b7-898c-95c908844c43",
   "metadata": {
    "tags": []
   },
   "outputs": [
    {
     "data": {
      "text/plain": [
       "\u001b[0;31mSignature:\u001b[0m \u001b[0mprint\u001b[0m\u001b[0;34m(\u001b[0m\u001b[0;34m*\u001b[0m\u001b[0margs\u001b[0m\u001b[0;34m,\u001b[0m \u001b[0msep\u001b[0m\u001b[0;34m=\u001b[0m\u001b[0;34m' '\u001b[0m\u001b[0;34m,\u001b[0m \u001b[0mend\u001b[0m\u001b[0;34m=\u001b[0m\u001b[0;34m'\\n'\u001b[0m\u001b[0;34m,\u001b[0m \u001b[0mfile\u001b[0m\u001b[0;34m=\u001b[0m\u001b[0;32mNone\u001b[0m\u001b[0;34m,\u001b[0m \u001b[0mflush\u001b[0m\u001b[0;34m=\u001b[0m\u001b[0;32mFalse\u001b[0m\u001b[0;34m)\u001b[0m\u001b[0;34m\u001b[0m\u001b[0;34m\u001b[0m\u001b[0m\n",
       "\u001b[0;31mDocstring:\u001b[0m\n",
       "Prints the values to a stream, or to sys.stdout by default.\n",
       "\n",
       "sep\n",
       "  string inserted between values, default a space.\n",
       "end\n",
       "  string appended after the last value, default a newline.\n",
       "file\n",
       "  a file-like object (stream); defaults to the current sys.stdout.\n",
       "flush\n",
       "  whether to forcibly flush the stream.\n",
       "\u001b[0;31mType:\u001b[0m      builtin_function_or_method"
      ]
     },
     "metadata": {},
     "output_type": "display_data"
    }
   ],
   "source": [
    "?print"
   ]
  },
  {
   "cell_type": "markdown",
   "id": "61fac73c-eb55-4192-a0ad-c5d9808d242e",
   "metadata": {},
   "source": [
    "The type of `sep` is a **string** (as noted in the documentation). It is also an **optional arguement** since if not given a string it will insert a space as the default."
   ]
  },
  {
   "cell_type": "code",
   "execution_count": 19,
   "id": "18a85eb5-9c09-4d1c-bf3b-dd020abb510a",
   "metadata": {
    "tags": []
   },
   "outputs": [],
   "source": [
    "j = 77\n",
    "k = 99"
   ]
  },
  {
   "cell_type": "code",
   "execution_count": 23,
   "id": "f711a396-11d0-4db9-a2e7-20cf8be7e74c",
   "metadata": {
    "tags": []
   },
   "outputs": [
    {
     "name": "stdout",
     "output_type": "stream",
     "text": [
      "77%99%77\n"
     ]
    }
   ],
   "source": [
    "print(j,k,j, sep='%')"
   ]
  },
  {
   "cell_type": "code",
   "execution_count": null,
   "id": "b16ec999-d321-44fe-8406-85ec4b3f7293",
   "metadata": {},
   "outputs": [],
   "source": []
  }
 ],
 "metadata": {
  "kernelspec": {
   "display_name": "EDS220",
   "language": "python",
   "name": "eds220-env"
  },
  "language_info": {
   "codemirror_mode": {
    "name": "ipython",
    "version": 3
   },
   "file_extension": ".py",
   "mimetype": "text/x-python",
   "name": "python",
   "nbconvert_exporter": "python",
   "pygments_lexer": "ipython3",
   "version": "3.11.4"
  }
 },
 "nbformat": 4,
 "nbformat_minor": 5
}
