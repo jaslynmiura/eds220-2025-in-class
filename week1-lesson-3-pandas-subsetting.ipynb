{
 "cells": [
  {
   "cell_type": "markdown",
   "id": "b709b197-ef9b-4181-87d2-8913e3bc85c9",
   "metadata": {},
   "source": [
    "# Subsetting \n",
    "\n",
    "Review core methods to select data from a `pandas.DataFrame`\n",
    "\n",
    "## Read in a CSV"
   ]
  },
  {
   "cell_type": "code",
   "execution_count": 1,
   "id": "088cfe61-c6de-4065-ad3f-640d02275d21",
   "metadata": {
    "tags": []
   },
   "outputs": [
    {
     "data": {
      "application/vnd.microsoft.datawrangler.viewer.v0+json": {
       "columns": [
        {
         "name": "index",
         "rawType": "int64",
         "type": "integer"
        },
        {
         "name": "year",
         "rawType": "int64",
         "type": "integer"
        },
        {
         "name": "CSM_winter",
         "rawType": "float64",
         "type": "float"
        },
        {
         "name": "CSM_spring",
         "rawType": "float64",
         "type": "float"
        },
        {
         "name": "CSM_fall",
         "rawType": "float64",
         "type": "float"
        },
        {
         "name": "MUL_winter",
         "rawType": "float64",
         "type": "float"
        },
        {
         "name": "MUL_spring",
         "rawType": "float64",
         "type": "float"
        },
        {
         "name": "MUL_fall",
         "rawType": "float64",
         "type": "float"
        },
        {
         "name": "SDW_winter",
         "rawType": "float64",
         "type": "float"
        },
        {
         "name": "SDW_spring",
         "rawType": "float64",
         "type": "float"
        },
        {
         "name": "SDW_fall",
         "rawType": "float64",
         "type": "float"
        },
        {
         "name": "TJE_winter",
         "rawType": "float64",
         "type": "float"
        },
        {
         "name": "TJE_spring",
         "rawType": "float64",
         "type": "float"
        },
        {
         "name": "TJE_fall",
         "rawType": "float64",
         "type": "float"
        }
       ],
       "ref": "e16dc370-7949-4a3a-a5d4-7c315490403e",
       "rows": [
        [
         "0",
         "2010",
         "39.0",
         "40.0",
         "50.0",
         "45.0",
         null,
         "61.0",
         null,
         "75.0",
         "85.0",
         null,
         null,
         "81.0"
        ],
        [
         "1",
         "2011",
         "48.0",
         "44.0",
         null,
         "58.0",
         "52.0",
         null,
         "78.0",
         "74.0",
         null,
         "67.0",
         "70.0",
         null
        ],
        [
         "2",
         "2012",
         "51.0",
         "43.0",
         "49.0",
         "57.0",
         "58.0",
         "53.0",
         "71.0",
         "72.0",
         "73.0",
         "70.0",
         "63.0",
         "69.0"
        ],
        [
         "3",
         "2013",
         "42.0",
         "46.0",
         "38.0",
         "60.0",
         "58.0",
         "62.0",
         "69.0",
         "70.0",
         "70.0",
         "69.0",
         "74.0",
         "64.0"
        ],
        [
         "4",
         "2014",
         "38.0",
         "43.0",
         "45.0",
         "49.0",
         "52.0",
         "57.0",
         "61.0",
         "78.0",
         "71.0",
         "60.0",
         "81.0",
         "62.0"
        ]
       ],
       "shape": {
        "columns": 13,
        "rows": 5
       }
      },
      "text/html": [
       "<div>\n",
       "<style scoped>\n",
       "    .dataframe tbody tr th:only-of-type {\n",
       "        vertical-align: middle;\n",
       "    }\n",
       "\n",
       "    .dataframe tbody tr th {\n",
       "        vertical-align: top;\n",
       "    }\n",
       "\n",
       "    .dataframe thead th {\n",
       "        text-align: right;\n",
       "    }\n",
       "</style>\n",
       "<table border=\"1\" class=\"dataframe\">\n",
       "  <thead>\n",
       "    <tr style=\"text-align: right;\">\n",
       "      <th></th>\n",
       "      <th>year</th>\n",
       "      <th>CSM_winter</th>\n",
       "      <th>CSM_spring</th>\n",
       "      <th>CSM_fall</th>\n",
       "      <th>MUL_winter</th>\n",
       "      <th>MUL_spring</th>\n",
       "      <th>MUL_fall</th>\n",
       "      <th>SDW_winter</th>\n",
       "      <th>SDW_spring</th>\n",
       "      <th>SDW_fall</th>\n",
       "      <th>TJE_winter</th>\n",
       "      <th>TJE_spring</th>\n",
       "      <th>TJE_fall</th>\n",
       "    </tr>\n",
       "  </thead>\n",
       "  <tbody>\n",
       "    <tr>\n",
       "      <th>0</th>\n",
       "      <td>2010</td>\n",
       "      <td>39.0</td>\n",
       "      <td>40.0</td>\n",
       "      <td>50.0</td>\n",
       "      <td>45.0</td>\n",
       "      <td>NaN</td>\n",
       "      <td>61.0</td>\n",
       "      <td>NaN</td>\n",
       "      <td>75.0</td>\n",
       "      <td>85.0</td>\n",
       "      <td>NaN</td>\n",
       "      <td>NaN</td>\n",
       "      <td>81.0</td>\n",
       "    </tr>\n",
       "    <tr>\n",
       "      <th>1</th>\n",
       "      <td>2011</td>\n",
       "      <td>48.0</td>\n",
       "      <td>44.0</td>\n",
       "      <td>NaN</td>\n",
       "      <td>58.0</td>\n",
       "      <td>52.0</td>\n",
       "      <td>NaN</td>\n",
       "      <td>78.0</td>\n",
       "      <td>74.0</td>\n",
       "      <td>NaN</td>\n",
       "      <td>67.0</td>\n",
       "      <td>70.0</td>\n",
       "      <td>NaN</td>\n",
       "    </tr>\n",
       "    <tr>\n",
       "      <th>2</th>\n",
       "      <td>2012</td>\n",
       "      <td>51.0</td>\n",
       "      <td>43.0</td>\n",
       "      <td>49.0</td>\n",
       "      <td>57.0</td>\n",
       "      <td>58.0</td>\n",
       "      <td>53.0</td>\n",
       "      <td>71.0</td>\n",
       "      <td>72.0</td>\n",
       "      <td>73.0</td>\n",
       "      <td>70.0</td>\n",
       "      <td>63.0</td>\n",
       "      <td>69.0</td>\n",
       "    </tr>\n",
       "    <tr>\n",
       "      <th>3</th>\n",
       "      <td>2013</td>\n",
       "      <td>42.0</td>\n",
       "      <td>46.0</td>\n",
       "      <td>38.0</td>\n",
       "      <td>60.0</td>\n",
       "      <td>58.0</td>\n",
       "      <td>62.0</td>\n",
       "      <td>69.0</td>\n",
       "      <td>70.0</td>\n",
       "      <td>70.0</td>\n",
       "      <td>69.0</td>\n",
       "      <td>74.0</td>\n",
       "      <td>64.0</td>\n",
       "    </tr>\n",
       "    <tr>\n",
       "      <th>4</th>\n",
       "      <td>2014</td>\n",
       "      <td>38.0</td>\n",
       "      <td>43.0</td>\n",
       "      <td>45.0</td>\n",
       "      <td>49.0</td>\n",
       "      <td>52.0</td>\n",
       "      <td>57.0</td>\n",
       "      <td>61.0</td>\n",
       "      <td>78.0</td>\n",
       "      <td>71.0</td>\n",
       "      <td>60.0</td>\n",
       "      <td>81.0</td>\n",
       "      <td>62.0</td>\n",
       "    </tr>\n",
       "  </tbody>\n",
       "</table>\n",
       "</div>"
      ],
      "text/plain": [
       "   year  CSM_winter  CSM_spring  CSM_fall  MUL_winter  MUL_spring  MUL_fall  \\\n",
       "0  2010        39.0        40.0      50.0        45.0         NaN      61.0   \n",
       "1  2011        48.0        44.0       NaN        58.0        52.0       NaN   \n",
       "2  2012        51.0        43.0      49.0        57.0        58.0      53.0   \n",
       "3  2013        42.0        46.0      38.0        60.0        58.0      62.0   \n",
       "4  2014        38.0        43.0      45.0        49.0        52.0      57.0   \n",
       "\n",
       "   SDW_winter  SDW_spring  SDW_fall  TJE_winter  TJE_spring  TJE_fall  \n",
       "0         NaN        75.0      85.0         NaN         NaN      81.0  \n",
       "1        78.0        74.0       NaN        67.0        70.0       NaN  \n",
       "2        71.0        72.0      73.0        70.0        63.0      69.0  \n",
       "3        69.0        70.0      70.0        69.0        74.0      64.0  \n",
       "4        61.0        78.0      71.0        60.0        81.0      62.0  "
      ]
     },
     "execution_count": 1,
     "metadata": {},
     "output_type": "execute_result"
    }
   ],
   "source": [
    "import pandas as pd\n",
    "\n",
    "# Read in file, arguement is the file path\n",
    "df = pd.read_csv('data/wetlands_seasonal_bird_diversity.csv')\n",
    "\n",
    "# Print data frmae's first five rows\n",
    "df.head()"
   ]
  },
  {
   "cell_type": "code",
   "execution_count": 2,
   "id": "128b0ac0-dedf-4d1a-8c7a-1ffe0af25824",
   "metadata": {
    "tags": []
   },
   "outputs": [
    {
     "data": {
      "application/vnd.microsoft.datawrangler.viewer.v0+json": {
       "columns": [
        {
         "name": "index",
         "rawType": "int64",
         "type": "integer"
        },
        {
         "name": "year",
         "rawType": "int64",
         "type": "integer"
        },
        {
         "name": "CSM_winter",
         "rawType": "float64",
         "type": "float"
        },
        {
         "name": "CSM_spring",
         "rawType": "float64",
         "type": "float"
        },
        {
         "name": "CSM_fall",
         "rawType": "float64",
         "type": "float"
        },
        {
         "name": "MUL_winter",
         "rawType": "float64",
         "type": "float"
        },
        {
         "name": "MUL_spring",
         "rawType": "float64",
         "type": "float"
        },
        {
         "name": "MUL_fall",
         "rawType": "float64",
         "type": "float"
        },
        {
         "name": "SDW_winter",
         "rawType": "float64",
         "type": "float"
        },
        {
         "name": "SDW_spring",
         "rawType": "float64",
         "type": "float"
        },
        {
         "name": "SDW_fall",
         "rawType": "float64",
         "type": "float"
        },
        {
         "name": "TJE_winter",
         "rawType": "float64",
         "type": "float"
        },
        {
         "name": "TJE_spring",
         "rawType": "float64",
         "type": "float"
        },
        {
         "name": "TJE_fall",
         "rawType": "float64",
         "type": "float"
        }
       ],
       "ref": "31cdbf2c-48a6-4294-a72b-775ccfbb1d4d",
       "rows": [
        [
         "9",
         "2019",
         "39.0",
         "39.0",
         "40.0",
         "57.0",
         "52.0",
         "53.0",
         "54.0",
         "55.0",
         "53.0",
         "63.0",
         "54.0",
         "50.0"
        ],
        [
         "10",
         "2020",
         "46.0",
         null,
         "47.0",
         "56.0",
         null,
         "66.0",
         "57.0",
         null,
         "58.0",
         "54.0",
         "40.0",
         "54.0"
        ],
        [
         "11",
         "2021",
         "47.0",
         "44.0",
         "53.0",
         "54.0",
         "55.0",
         "60.0",
         "57.0",
         "58.0",
         "57.0",
         "53.0",
         "68.0",
         "51.0"
        ],
        [
         "12",
         "2022",
         "40.0",
         "46.0",
         "49.0",
         "60.0",
         "55.0",
         "65.0",
         "57.0",
         "60.0",
         "57.0",
         "60.0",
         "61.0",
         "60.0"
        ],
        [
         "13",
         "2023",
         "56.0",
         "43.0",
         "36.0",
         "72.0",
         "59.0",
         "53.0",
         "64.0",
         "63.0",
         "33.0",
         "60.0",
         "56.0",
         "38.0"
        ]
       ],
       "shape": {
        "columns": 13,
        "rows": 5
       }
      },
      "text/html": [
       "<div>\n",
       "<style scoped>\n",
       "    .dataframe tbody tr th:only-of-type {\n",
       "        vertical-align: middle;\n",
       "    }\n",
       "\n",
       "    .dataframe tbody tr th {\n",
       "        vertical-align: top;\n",
       "    }\n",
       "\n",
       "    .dataframe thead th {\n",
       "        text-align: right;\n",
       "    }\n",
       "</style>\n",
       "<table border=\"1\" class=\"dataframe\">\n",
       "  <thead>\n",
       "    <tr style=\"text-align: right;\">\n",
       "      <th></th>\n",
       "      <th>year</th>\n",
       "      <th>CSM_winter</th>\n",
       "      <th>CSM_spring</th>\n",
       "      <th>CSM_fall</th>\n",
       "      <th>MUL_winter</th>\n",
       "      <th>MUL_spring</th>\n",
       "      <th>MUL_fall</th>\n",
       "      <th>SDW_winter</th>\n",
       "      <th>SDW_spring</th>\n",
       "      <th>SDW_fall</th>\n",
       "      <th>TJE_winter</th>\n",
       "      <th>TJE_spring</th>\n",
       "      <th>TJE_fall</th>\n",
       "    </tr>\n",
       "  </thead>\n",
       "  <tbody>\n",
       "    <tr>\n",
       "      <th>9</th>\n",
       "      <td>2019</td>\n",
       "      <td>39.0</td>\n",
       "      <td>39.0</td>\n",
       "      <td>40.0</td>\n",
       "      <td>57.0</td>\n",
       "      <td>52.0</td>\n",
       "      <td>53.0</td>\n",
       "      <td>54.0</td>\n",
       "      <td>55.0</td>\n",
       "      <td>53.0</td>\n",
       "      <td>63.0</td>\n",
       "      <td>54.0</td>\n",
       "      <td>50.0</td>\n",
       "    </tr>\n",
       "    <tr>\n",
       "      <th>10</th>\n",
       "      <td>2020</td>\n",
       "      <td>46.0</td>\n",
       "      <td>NaN</td>\n",
       "      <td>47.0</td>\n",
       "      <td>56.0</td>\n",
       "      <td>NaN</td>\n",
       "      <td>66.0</td>\n",
       "      <td>57.0</td>\n",
       "      <td>NaN</td>\n",
       "      <td>58.0</td>\n",
       "      <td>54.0</td>\n",
       "      <td>40.0</td>\n",
       "      <td>54.0</td>\n",
       "    </tr>\n",
       "    <tr>\n",
       "      <th>11</th>\n",
       "      <td>2021</td>\n",
       "      <td>47.0</td>\n",
       "      <td>44.0</td>\n",
       "      <td>53.0</td>\n",
       "      <td>54.0</td>\n",
       "      <td>55.0</td>\n",
       "      <td>60.0</td>\n",
       "      <td>57.0</td>\n",
       "      <td>58.0</td>\n",
       "      <td>57.0</td>\n",
       "      <td>53.0</td>\n",
       "      <td>68.0</td>\n",
       "      <td>51.0</td>\n",
       "    </tr>\n",
       "    <tr>\n",
       "      <th>12</th>\n",
       "      <td>2022</td>\n",
       "      <td>40.0</td>\n",
       "      <td>46.0</td>\n",
       "      <td>49.0</td>\n",
       "      <td>60.0</td>\n",
       "      <td>55.0</td>\n",
       "      <td>65.0</td>\n",
       "      <td>57.0</td>\n",
       "      <td>60.0</td>\n",
       "      <td>57.0</td>\n",
       "      <td>60.0</td>\n",
       "      <td>61.0</td>\n",
       "      <td>60.0</td>\n",
       "    </tr>\n",
       "    <tr>\n",
       "      <th>13</th>\n",
       "      <td>2023</td>\n",
       "      <td>56.0</td>\n",
       "      <td>43.0</td>\n",
       "      <td>36.0</td>\n",
       "      <td>72.0</td>\n",
       "      <td>59.0</td>\n",
       "      <td>53.0</td>\n",
       "      <td>64.0</td>\n",
       "      <td>63.0</td>\n",
       "      <td>33.0</td>\n",
       "      <td>60.0</td>\n",
       "      <td>56.0</td>\n",
       "      <td>38.0</td>\n",
       "    </tr>\n",
       "  </tbody>\n",
       "</table>\n",
       "</div>"
      ],
      "text/plain": [
       "    year  CSM_winter  CSM_spring  CSM_fall  MUL_winter  MUL_spring  MUL_fall  \\\n",
       "9   2019        39.0        39.0      40.0        57.0        52.0      53.0   \n",
       "10  2020        46.0         NaN      47.0        56.0         NaN      66.0   \n",
       "11  2021        47.0        44.0      53.0        54.0        55.0      60.0   \n",
       "12  2022        40.0        46.0      49.0        60.0        55.0      65.0   \n",
       "13  2023        56.0        43.0      36.0        72.0        59.0      53.0   \n",
       "\n",
       "    SDW_winter  SDW_spring  SDW_fall  TJE_winter  TJE_spring  TJE_fall  \n",
       "9         54.0        55.0      53.0        63.0        54.0      50.0  \n",
       "10        57.0         NaN      58.0        54.0        40.0      54.0  \n",
       "11        57.0        58.0      57.0        53.0        68.0      51.0  \n",
       "12        57.0        60.0      57.0        60.0        61.0      60.0  \n",
       "13        64.0        63.0      33.0        60.0        56.0      38.0  "
      ]
     },
     "execution_count": 2,
     "metadata": {},
     "output_type": "execute_result"
    }
   ],
   "source": [
    "# Print data frame's last five rows\n",
    "df.tail()"
   ]
  },
  {
   "cell_type": "code",
   "execution_count": 3,
   "id": "04d60a73-c6b7-4a28-9be0-fdcb3eff18f5",
   "metadata": {
    "tags": []
   },
   "outputs": [
    {
     "data": {
      "text/plain": [
       "Index(['year', 'CSM_winter', 'CSM_spring', 'CSM_fall', 'MUL_winter',\n",
       "       'MUL_spring', 'MUL_fall', 'SDW_winter', 'SDW_spring', 'SDW_fall',\n",
       "       'TJE_winter', 'TJE_spring', 'TJE_fall'],\n",
       "      dtype='object')"
      ]
     },
     "execution_count": 3,
     "metadata": {},
     "output_type": "execute_result"
    }
   ],
   "source": [
    "# Print data frame's column names\n",
    "df.columns"
   ]
  },
  {
   "cell_type": "code",
   "execution_count": 4,
   "id": "324165b5-c03c-4ac3-b3ee-0992e1f7057a",
   "metadata": {
    "tags": []
   },
   "outputs": [
    {
     "data": {
      "application/vnd.microsoft.datawrangler.viewer.v0+json": {
       "columns": [
        {
         "name": "index",
         "rawType": "object",
         "type": "string"
        },
        {
         "name": "0",
         "rawType": "object",
         "type": "unknown"
        }
       ],
       "ref": "9f62dd2d-9535-42d0-8165-dfa4b602782e",
       "rows": [
        [
         "year",
         "int64"
        ],
        [
         "CSM_winter",
         "float64"
        ],
        [
         "CSM_spring",
         "float64"
        ],
        [
         "CSM_fall",
         "float64"
        ],
        [
         "MUL_winter",
         "float64"
        ],
        [
         "MUL_spring",
         "float64"
        ],
        [
         "MUL_fall",
         "float64"
        ],
        [
         "SDW_winter",
         "float64"
        ],
        [
         "SDW_spring",
         "float64"
        ],
        [
         "SDW_fall",
         "float64"
        ],
        [
         "TJE_winter",
         "float64"
        ],
        [
         "TJE_spring",
         "float64"
        ],
        [
         "TJE_fall",
         "float64"
        ]
       ],
       "shape": {
        "columns": 1,
        "rows": 13
       }
      },
      "text/plain": [
       "year            int64\n",
       "CSM_winter    float64\n",
       "CSM_spring    float64\n",
       "CSM_fall      float64\n",
       "MUL_winter    float64\n",
       "MUL_spring    float64\n",
       "MUL_fall      float64\n",
       "SDW_winter    float64\n",
       "SDW_spring    float64\n",
       "SDW_fall      float64\n",
       "TJE_winter    float64\n",
       "TJE_spring    float64\n",
       "TJE_fall      float64\n",
       "dtype: object"
      ]
     },
     "execution_count": 4,
     "metadata": {},
     "output_type": "execute_result"
    }
   ],
   "source": [
    "# List the data types of each column\n",
    "df.dtypes"
   ]
  },
  {
   "cell_type": "code",
   "execution_count": 5,
   "id": "530cd6c0-cc76-491d-beb7-7d2937beace6",
   "metadata": {
    "tags": []
   },
   "outputs": [
    {
     "data": {
      "text/plain": [
       "pandas.core.series.Series"
      ]
     },
     "execution_count": 5,
     "metadata": {},
     "output_type": "execute_result"
    }
   ],
   "source": [
    "type(df.dtypes)"
   ]
  },
  {
   "cell_type": "code",
   "execution_count": 6,
   "id": "7fb7a81e-71be-40c9-a609-a786c0ddff6e",
   "metadata": {
    "tags": []
   },
   "outputs": [
    {
     "data": {
      "text/plain": [
       "(14, 13)"
      ]
     },
     "execution_count": 6,
     "metadata": {},
     "output_type": "execute_result"
    }
   ],
   "source": [
    "# Print data frame's shape: output is a tupe (# rows, # columns)\n",
    "df.shape"
   ]
  },
  {
   "cell_type": "markdown",
   "id": "5cafa512-a7ac-48f4-9059-16ab443553f9",
   "metadata": {},
   "source": [
    "## Selecting a single column\n",
    "\n",
    "Simplest case: selecting a single column by column name.\n",
    "\n",
    "General syntax:\n",
    "```\n",
    "df['column_name']\n",
    "```\n",
    "\n",
    "This is an example of **label-based subsetting**. WHich means we select data from our data frame using the *names* of the columns, *not their positions*.\n",
    "\n",
    "### Example"
   ]
  },
  {
   "cell_type": "code",
   "execution_count": 7,
   "id": "c150cd96-fab1-4ba3-a5eb-9a00d7ddd91e",
   "metadata": {
    "tags": []
   },
   "outputs": [
    {
     "data": {
      "application/vnd.microsoft.datawrangler.viewer.v0+json": {
       "columns": [
        {
         "name": "index",
         "rawType": "int64",
         "type": "integer"
        },
        {
         "name": "MUL_spring",
         "rawType": "float64",
         "type": "float"
        }
       ],
       "ref": "46573412-3897-43f9-8698-f718d9a12058",
       "rows": [
        [
         "0",
         null
        ],
        [
         "1",
         "52.0"
        ],
        [
         "2",
         "58.0"
        ],
        [
         "3",
         "58.0"
        ],
        [
         "4",
         "52.0"
        ],
        [
         "5",
         "50.0"
        ],
        [
         "6",
         "48.0"
        ],
        [
         "7",
         "54.0"
        ],
        [
         "8",
         "54.0"
        ],
        [
         "9",
         "52.0"
        ],
        [
         "10",
         null
        ],
        [
         "11",
         "55.0"
        ],
        [
         "12",
         "55.0"
        ],
        [
         "13",
         "59.0"
        ]
       ],
       "shape": {
        "columns": 1,
        "rows": 14
       }
      },
      "text/plain": [
       "0      NaN\n",
       "1     52.0\n",
       "2     58.0\n",
       "3     58.0\n",
       "4     52.0\n",
       "5     50.0\n",
       "6     48.0\n",
       "7     54.0\n",
       "8     54.0\n",
       "9     52.0\n",
       "10     NaN\n",
       "11    55.0\n",
       "12    55.0\n",
       "13    59.0\n",
       "Name: MUL_spring, dtype: float64"
      ]
     },
     "execution_count": 7,
     "metadata": {},
     "output_type": "execute_result"
    }
   ],
   "source": [
    "# Select number of bird species observed at Mugu Lagoon in spring\n",
    "mul_spring = df['MUL_spring']\n",
    "\n",
    "mul_spring"
   ]
  },
  {
   "cell_type": "code",
   "execution_count": 8,
   "id": "83d96d80-8f62-4a43-8e60-9e9c7051e17f",
   "metadata": {
    "tags": []
   },
   "outputs": [
    {
     "data": {
      "text/plain": [
       "pandas.core.series.Series"
      ]
     },
     "execution_count": 8,
     "metadata": {},
     "output_type": "execute_result"
    }
   ],
   "source": [
    "type(mul_spring)"
   ]
  },
  {
   "cell_type": "markdown",
   "id": "f0594f7a-f873-45c8-bccb-e3a621e3b548",
   "metadata": {},
   "source": [
    "We can do label-based subsetting of a single column using attribute syntac\n",
    "\n",
    "`df.column_name`\n",
    "\n",
    "### Example"
   ]
  },
  {
   "cell_type": "code",
   "execution_count": 9,
   "id": "253db5c8-84ae-4be2-9242-378c96d916a1",
   "metadata": {
    "tags": []
   },
   "outputs": [
    {
     "data": {
      "application/vnd.microsoft.datawrangler.viewer.v0+json": {
       "columns": [
        {
         "name": "index",
         "rawType": "int64",
         "type": "integer"
        },
        {
         "name": "MUL_spring",
         "rawType": "float64",
         "type": "float"
        }
       ],
       "ref": "692e02f6-500d-414d-b5b0-7adfcb6ead09",
       "rows": [
        [
         "0",
         null
        ],
        [
         "1",
         "52.0"
        ],
        [
         "2",
         "58.0"
        ],
        [
         "3",
         "58.0"
        ],
        [
         "4",
         "52.0"
        ],
        [
         "5",
         "50.0"
        ],
        [
         "6",
         "48.0"
        ],
        [
         "7",
         "54.0"
        ],
        [
         "8",
         "54.0"
        ],
        [
         "9",
         "52.0"
        ],
        [
         "10",
         null
        ],
        [
         "11",
         "55.0"
        ],
        [
         "12",
         "55.0"
        ],
        [
         "13",
         "59.0"
        ]
       ],
       "shape": {
        "columns": 1,
        "rows": 14
       }
      },
      "text/plain": [
       "0      NaN\n",
       "1     52.0\n",
       "2     58.0\n",
       "3     58.0\n",
       "4     52.0\n",
       "5     50.0\n",
       "6     48.0\n",
       "7     54.0\n",
       "8     54.0\n",
       "9     52.0\n",
       "10     NaN\n",
       "11    55.0\n",
       "12    55.0\n",
       "13    59.0\n",
       "Name: MUL_spring, dtype: float64"
      ]
     },
     "execution_count": 9,
     "metadata": {},
     "output_type": "execute_result"
    }
   ],
   "source": [
    "df.MUL_spring"
   ]
  },
  {
   "cell_type": "markdown",
   "id": "769fca5a-ab16-4eaf-bd19-27a37c349b7f",
   "metadata": {},
   "source": [
    "Favor `df[column_name]` instead of `df.column_name`\n",
    "\n",
    "Why?\n",
    "\n",
    "- The column name might match and attribute or method\n",
    "- The column name could have a space\n",
    "\n",
    "## Selecting multiple columns...\n",
    "\n",
    "... using a list of column names.\n",
    "\n",
    "Syntax:\n",
    "\n",
    "```\n",
    "df[ ['column1', 'column2', 'column3']]\n",
    "```\n",
    "\n",
    "Notice: there are double square brackets\n",
    "\n",
    "- outter brackets are the selection\n",
    "- inner brackets are the list of names\n",
    "\n",
    "### Example"
   ]
  },
  {
   "cell_type": "code",
   "execution_count": 10,
   "id": "5245cae4-83bd-436d-81b7-6b1c5e1b7ed3",
   "metadata": {
    "tags": []
   },
   "outputs": [],
   "source": [
    "# Select species abundance in Tijuana Estuary during winter and fall\n",
    "tje_wf = df[['TJE_winter', 'TJE_fall']]"
   ]
  },
  {
   "cell_type": "code",
   "execution_count": 11,
   "id": "ceda6cc7-13a0-40d0-bc4e-8bdf47c71a1a",
   "metadata": {
    "tags": []
   },
   "outputs": [
    {
     "name": "stdout",
     "output_type": "stream",
     "text": [
      "<class 'pandas.core.frame.DataFrame'>\n",
      "(14, 2)\n"
     ]
    }
   ],
   "source": [
    "# Check the type of tje_wf\n",
    "print(type(tje_wf))\n",
    "\n",
    "\n",
    "# Check the shape of the selection \n",
    "print(tje_wf.shape)"
   ]
  },
  {
   "cell_type": "markdown",
   "id": "436d9ec1-d19d-48c9-b3f8-8fb0e6f1b849",
   "metadata": {},
   "source": [
    "## ... using a slice\n",
    "\n",
    "To select a slice of the columns we will use a special case of `loc` selection.\n",
    "\n",
    "Syntax:\n",
    "```\n",
    "df.loc[ : , 'column_start':'column_end']\n",
    "```\n",
    "\n",
    "`column_start` and `column_end` = starting and ending point of column slice, slice includes both endpoints.\n",
    "\n",
    "- first values passed to `loc` is used to select rows, using a `:` as the row-selection parameter means \"select all the rows\"\n",
    "\n",
    "### Example"
   ]
  },
  {
   "cell_type": "code",
   "execution_count": 12,
   "id": "d60cee4a-4664-4e58-80f2-5103362bc6ea",
   "metadata": {
    "tags": []
   },
   "outputs": [
    {
     "data": {
      "application/vnd.microsoft.datawrangler.viewer.v0+json": {
       "columns": [
        {
         "name": "index",
         "rawType": "int64",
         "type": "integer"
        },
        {
         "name": "CSM_winter",
         "rawType": "float64",
         "type": "float"
        },
        {
         "name": "CSM_spring",
         "rawType": "float64",
         "type": "float"
        },
        {
         "name": "CSM_fall",
         "rawType": "float64",
         "type": "float"
        },
        {
         "name": "MUL_winter",
         "rawType": "float64",
         "type": "float"
        },
        {
         "name": "MUL_spring",
         "rawType": "float64",
         "type": "float"
        },
        {
         "name": "MUL_fall",
         "rawType": "float64",
         "type": "float"
        }
       ],
       "ref": "8797fbd4-89b9-45ee-a837-440bc471a666",
       "rows": [
        [
         "0",
         "39.0",
         "40.0",
         "50.0",
         "45.0",
         null,
         "61.0"
        ],
        [
         "1",
         "48.0",
         "44.0",
         null,
         "58.0",
         "52.0",
         null
        ],
        [
         "2",
         "51.0",
         "43.0",
         "49.0",
         "57.0",
         "58.0",
         "53.0"
        ],
        [
         "3",
         "42.0",
         "46.0",
         "38.0",
         "60.0",
         "58.0",
         "62.0"
        ],
        [
         "4",
         "38.0",
         "43.0",
         "45.0",
         "49.0",
         "52.0",
         "57.0"
        ]
       ],
       "shape": {
        "columns": 6,
        "rows": 5
       }
      },
      "text/html": [
       "<div>\n",
       "<style scoped>\n",
       "    .dataframe tbody tr th:only-of-type {\n",
       "        vertical-align: middle;\n",
       "    }\n",
       "\n",
       "    .dataframe tbody tr th {\n",
       "        vertical-align: top;\n",
       "    }\n",
       "\n",
       "    .dataframe thead th {\n",
       "        text-align: right;\n",
       "    }\n",
       "</style>\n",
       "<table border=\"1\" class=\"dataframe\">\n",
       "  <thead>\n",
       "    <tr style=\"text-align: right;\">\n",
       "      <th></th>\n",
       "      <th>CSM_winter</th>\n",
       "      <th>CSM_spring</th>\n",
       "      <th>CSM_fall</th>\n",
       "      <th>MUL_winter</th>\n",
       "      <th>MUL_spring</th>\n",
       "      <th>MUL_fall</th>\n",
       "    </tr>\n",
       "  </thead>\n",
       "  <tbody>\n",
       "    <tr>\n",
       "      <th>0</th>\n",
       "      <td>39.0</td>\n",
       "      <td>40.0</td>\n",
       "      <td>50.0</td>\n",
       "      <td>45.0</td>\n",
       "      <td>NaN</td>\n",
       "      <td>61.0</td>\n",
       "    </tr>\n",
       "    <tr>\n",
       "      <th>1</th>\n",
       "      <td>48.0</td>\n",
       "      <td>44.0</td>\n",
       "      <td>NaN</td>\n",
       "      <td>58.0</td>\n",
       "      <td>52.0</td>\n",
       "      <td>NaN</td>\n",
       "    </tr>\n",
       "    <tr>\n",
       "      <th>2</th>\n",
       "      <td>51.0</td>\n",
       "      <td>43.0</td>\n",
       "      <td>49.0</td>\n",
       "      <td>57.0</td>\n",
       "      <td>58.0</td>\n",
       "      <td>53.0</td>\n",
       "    </tr>\n",
       "    <tr>\n",
       "      <th>3</th>\n",
       "      <td>42.0</td>\n",
       "      <td>46.0</td>\n",
       "      <td>38.0</td>\n",
       "      <td>60.0</td>\n",
       "      <td>58.0</td>\n",
       "      <td>62.0</td>\n",
       "    </tr>\n",
       "    <tr>\n",
       "      <th>4</th>\n",
       "      <td>38.0</td>\n",
       "      <td>43.0</td>\n",
       "      <td>45.0</td>\n",
       "      <td>49.0</td>\n",
       "      <td>52.0</td>\n",
       "      <td>57.0</td>\n",
       "    </tr>\n",
       "  </tbody>\n",
       "</table>\n",
       "</div>"
      ],
      "text/plain": [
       "   CSM_winter  CSM_spring  CSM_fall  MUL_winter  MUL_spring  MUL_fall\n",
       "0        39.0        40.0      50.0        45.0         NaN      61.0\n",
       "1        48.0        44.0       NaN        58.0        52.0       NaN\n",
       "2        51.0        43.0      49.0        57.0        58.0      53.0\n",
       "3        42.0        46.0      38.0        60.0        58.0      62.0\n",
       "4        38.0        43.0      45.0        49.0        52.0      57.0"
      ]
     },
     "execution_count": 12,
     "metadata": {},
     "output_type": "execute_result"
    }
   ],
   "source": [
    "# Select columns between CSM_winter and MUL_fall\n",
    "csm_mul = df.loc[ :, 'CSM_winter':'MUL_fall']\n",
    "csm_mul.head()"
   ]
  },
  {
   "cell_type": "markdown",
   "id": "333458c0-1014-4898-b5dc-3bf3e1fe7f62",
   "metadata": {},
   "source": [
    "## Selecting rows...\n",
    "\n",
    "### ... using a condition\n",
    "\n",
    "Syntax:\n",
    "```\n",
    "df[condition_on_rows]\n",
    "```\n",
    "\n",
    "That `condition_on_rows` can be many things.\n",
    "\n",
    "### Example\n",
    "\n",
    "We are interested in all data after 2020"
   ]
  },
  {
   "cell_type": "code",
   "execution_count": 13,
   "id": "831cca25-348f-44f0-8b3f-c2f79e27b60d",
   "metadata": {
    "tags": []
   },
   "outputs": [
    {
     "data": {
      "application/vnd.microsoft.datawrangler.viewer.v0+json": {
       "columns": [
        {
         "name": "index",
         "rawType": "int64",
         "type": "integer"
        },
        {
         "name": "year",
         "rawType": "int64",
         "type": "integer"
        },
        {
         "name": "CSM_winter",
         "rawType": "float64",
         "type": "float"
        },
        {
         "name": "CSM_spring",
         "rawType": "float64",
         "type": "float"
        },
        {
         "name": "CSM_fall",
         "rawType": "float64",
         "type": "float"
        },
        {
         "name": "MUL_winter",
         "rawType": "float64",
         "type": "float"
        },
        {
         "name": "MUL_spring",
         "rawType": "float64",
         "type": "float"
        },
        {
         "name": "MUL_fall",
         "rawType": "float64",
         "type": "float"
        },
        {
         "name": "SDW_winter",
         "rawType": "float64",
         "type": "float"
        },
        {
         "name": "SDW_spring",
         "rawType": "float64",
         "type": "float"
        },
        {
         "name": "SDW_fall",
         "rawType": "float64",
         "type": "float"
        },
        {
         "name": "TJE_winter",
         "rawType": "float64",
         "type": "float"
        },
        {
         "name": "TJE_spring",
         "rawType": "float64",
         "type": "float"
        },
        {
         "name": "TJE_fall",
         "rawType": "float64",
         "type": "float"
        }
       ],
       "ref": "2038cf08-c2de-4bb0-96da-024ec4d75366",
       "rows": [
        [
         "11",
         "2021",
         "47.0",
         "44.0",
         "53.0",
         "54.0",
         "55.0",
         "60.0",
         "57.0",
         "58.0",
         "57.0",
         "53.0",
         "68.0",
         "51.0"
        ],
        [
         "12",
         "2022",
         "40.0",
         "46.0",
         "49.0",
         "60.0",
         "55.0",
         "65.0",
         "57.0",
         "60.0",
         "57.0",
         "60.0",
         "61.0",
         "60.0"
        ],
        [
         "13",
         "2023",
         "56.0",
         "43.0",
         "36.0",
         "72.0",
         "59.0",
         "53.0",
         "64.0",
         "63.0",
         "33.0",
         "60.0",
         "56.0",
         "38.0"
        ]
       ],
       "shape": {
        "columns": 13,
        "rows": 3
       }
      },
      "text/html": [
       "<div>\n",
       "<style scoped>\n",
       "    .dataframe tbody tr th:only-of-type {\n",
       "        vertical-align: middle;\n",
       "    }\n",
       "\n",
       "    .dataframe tbody tr th {\n",
       "        vertical-align: top;\n",
       "    }\n",
       "\n",
       "    .dataframe thead th {\n",
       "        text-align: right;\n",
       "    }\n",
       "</style>\n",
       "<table border=\"1\" class=\"dataframe\">\n",
       "  <thead>\n",
       "    <tr style=\"text-align: right;\">\n",
       "      <th></th>\n",
       "      <th>year</th>\n",
       "      <th>CSM_winter</th>\n",
       "      <th>CSM_spring</th>\n",
       "      <th>CSM_fall</th>\n",
       "      <th>MUL_winter</th>\n",
       "      <th>MUL_spring</th>\n",
       "      <th>MUL_fall</th>\n",
       "      <th>SDW_winter</th>\n",
       "      <th>SDW_spring</th>\n",
       "      <th>SDW_fall</th>\n",
       "      <th>TJE_winter</th>\n",
       "      <th>TJE_spring</th>\n",
       "      <th>TJE_fall</th>\n",
       "    </tr>\n",
       "  </thead>\n",
       "  <tbody>\n",
       "    <tr>\n",
       "      <th>11</th>\n",
       "      <td>2021</td>\n",
       "      <td>47.0</td>\n",
       "      <td>44.0</td>\n",
       "      <td>53.0</td>\n",
       "      <td>54.0</td>\n",
       "      <td>55.0</td>\n",
       "      <td>60.0</td>\n",
       "      <td>57.0</td>\n",
       "      <td>58.0</td>\n",
       "      <td>57.0</td>\n",
       "      <td>53.0</td>\n",
       "      <td>68.0</td>\n",
       "      <td>51.0</td>\n",
       "    </tr>\n",
       "    <tr>\n",
       "      <th>12</th>\n",
       "      <td>2022</td>\n",
       "      <td>40.0</td>\n",
       "      <td>46.0</td>\n",
       "      <td>49.0</td>\n",
       "      <td>60.0</td>\n",
       "      <td>55.0</td>\n",
       "      <td>65.0</td>\n",
       "      <td>57.0</td>\n",
       "      <td>60.0</td>\n",
       "      <td>57.0</td>\n",
       "      <td>60.0</td>\n",
       "      <td>61.0</td>\n",
       "      <td>60.0</td>\n",
       "    </tr>\n",
       "    <tr>\n",
       "      <th>13</th>\n",
       "      <td>2023</td>\n",
       "      <td>56.0</td>\n",
       "      <td>43.0</td>\n",
       "      <td>36.0</td>\n",
       "      <td>72.0</td>\n",
       "      <td>59.0</td>\n",
       "      <td>53.0</td>\n",
       "      <td>64.0</td>\n",
       "      <td>63.0</td>\n",
       "      <td>33.0</td>\n",
       "      <td>60.0</td>\n",
       "      <td>56.0</td>\n",
       "      <td>38.0</td>\n",
       "    </tr>\n",
       "  </tbody>\n",
       "</table>\n",
       "</div>"
      ],
      "text/plain": [
       "    year  CSM_winter  CSM_spring  CSM_fall  MUL_winter  MUL_spring  MUL_fall  \\\n",
       "11  2021        47.0        44.0      53.0        54.0        55.0      60.0   \n",
       "12  2022        40.0        46.0      49.0        60.0        55.0      65.0   \n",
       "13  2023        56.0        43.0      36.0        72.0        59.0      53.0   \n",
       "\n",
       "    SDW_winter  SDW_spring  SDW_fall  TJE_winter  TJE_spring  TJE_fall  \n",
       "11        57.0        58.0      57.0        53.0        68.0      51.0  \n",
       "12        57.0        60.0      57.0        60.0        61.0      60.0  \n",
       "13        64.0        63.0      33.0        60.0        56.0      38.0  "
      ]
     },
     "execution_count": 13,
     "metadata": {},
     "output_type": "execute_result"
    }
   ],
   "source": [
    "# Select all rows iwth year > 2020\n",
    "beyond_2020 = df[df['year'] > 2020]\n",
    "\n",
    "beyond_2020"
   ]
  },
  {
   "cell_type": "markdown",
   "id": "58724d76-c672-44c7-9e74-05ee6d1b21b1",
   "metadata": {},
   "source": [
    "Condition for our rows = `df['year'] > 2020` this is a `panda.Seires` with **bolean values** (T/F) indicates which rows statisfy the condition year > 2020"
   ]
  },
  {
   "cell_type": "code",
   "execution_count": 14,
   "id": "a61ec699-7c42-438d-9a1e-3bae1e2477f7",
   "metadata": {
    "tags": []
   },
   "outputs": [
    {
     "name": "stdout",
     "output_type": "stream",
     "text": [
      "<class 'pandas.core.series.Series'>\n"
     ]
    },
    {
     "data": {
      "application/vnd.microsoft.datawrangler.viewer.v0+json": {
       "columns": [
        {
         "name": "index",
         "rawType": "int64",
         "type": "integer"
        },
        {
         "name": "year",
         "rawType": "bool",
         "type": "boolean"
        }
       ],
       "ref": "9a795cc1-b467-4dae-b804-642c77b5bb9c",
       "rows": [
        [
         "0",
         "False"
        ],
        [
         "1",
         "False"
        ],
        [
         "2",
         "False"
        ],
        [
         "3",
         "False"
        ],
        [
         "4",
         "False"
        ],
        [
         "5",
         "False"
        ],
        [
         "6",
         "False"
        ],
        [
         "7",
         "False"
        ],
        [
         "8",
         "False"
        ],
        [
         "9",
         "False"
        ],
        [
         "10",
         "False"
        ],
        [
         "11",
         "True"
        ],
        [
         "12",
         "True"
        ],
        [
         "13",
         "True"
        ]
       ],
       "shape": {
        "columns": 1,
        "rows": 14
       }
      },
      "text/plain": [
       "0     False\n",
       "1     False\n",
       "2     False\n",
       "3     False\n",
       "4     False\n",
       "5     False\n",
       "6     False\n",
       "7     False\n",
       "8     False\n",
       "9     False\n",
       "10    False\n",
       "11     True\n",
       "12     True\n",
       "13     True\n",
       "Name: year, dtype: bool"
      ]
     },
     "execution_count": 14,
     "metadata": {},
     "output_type": "execute_result"
    }
   ],
   "source": [
    "# Check the type of df['year']>2020\n",
    "print(type(df['year']>2020))\n",
    "\n",
    "# Print the boolean series\n",
    "df['year']>2020"
   ]
  },
  {
   "cell_type": "markdown",
   "id": "4c2305fc-6aeb-4e5c-9728-e21175ddc7f8",
   "metadata": {},
   "source": [
    "### Check-in\n",
    "Get the subset of the data frame on which the San Dieguito Wetland has at least 75 species recorded during spring."
   ]
  },
  {
   "cell_type": "code",
   "execution_count": 15,
   "id": "480317bc-7011-4313-a147-d6730091fe3d",
   "metadata": {
    "tags": []
   },
   "outputs": [
    {
     "data": {
      "application/vnd.microsoft.datawrangler.viewer.v0+json": {
       "columns": [
        {
         "name": "index",
         "rawType": "int64",
         "type": "integer"
        },
        {
         "name": "year",
         "rawType": "int64",
         "type": "integer"
        },
        {
         "name": "CSM_winter",
         "rawType": "float64",
         "type": "float"
        },
        {
         "name": "CSM_spring",
         "rawType": "float64",
         "type": "float"
        },
        {
         "name": "CSM_fall",
         "rawType": "float64",
         "type": "float"
        },
        {
         "name": "MUL_winter",
         "rawType": "float64",
         "type": "float"
        },
        {
         "name": "MUL_spring",
         "rawType": "float64",
         "type": "float"
        },
        {
         "name": "MUL_fall",
         "rawType": "float64",
         "type": "float"
        },
        {
         "name": "SDW_winter",
         "rawType": "float64",
         "type": "float"
        },
        {
         "name": "SDW_spring",
         "rawType": "float64",
         "type": "float"
        },
        {
         "name": "SDW_fall",
         "rawType": "float64",
         "type": "float"
        },
        {
         "name": "TJE_winter",
         "rawType": "float64",
         "type": "float"
        },
        {
         "name": "TJE_spring",
         "rawType": "float64",
         "type": "float"
        },
        {
         "name": "TJE_fall",
         "rawType": "float64",
         "type": "float"
        }
       ],
       "ref": "99846e31-6957-4738-b874-17f61e3551c0",
       "rows": [
        [
         "0",
         "2010",
         "39.0",
         "40.0",
         "50.0",
         "45.0",
         null,
         "61.0",
         null,
         "75.0",
         "85.0",
         null,
         null,
         "81.0"
        ],
        [
         "4",
         "2014",
         "38.0",
         "43.0",
         "45.0",
         "49.0",
         "52.0",
         "57.0",
         "61.0",
         "78.0",
         "71.0",
         "60.0",
         "81.0",
         "62.0"
        ]
       ],
       "shape": {
        "columns": 13,
        "rows": 2
       }
      },
      "text/html": [
       "<div>\n",
       "<style scoped>\n",
       "    .dataframe tbody tr th:only-of-type {\n",
       "        vertical-align: middle;\n",
       "    }\n",
       "\n",
       "    .dataframe tbody tr th {\n",
       "        vertical-align: top;\n",
       "    }\n",
       "\n",
       "    .dataframe thead th {\n",
       "        text-align: right;\n",
       "    }\n",
       "</style>\n",
       "<table border=\"1\" class=\"dataframe\">\n",
       "  <thead>\n",
       "    <tr style=\"text-align: right;\">\n",
       "      <th></th>\n",
       "      <th>year</th>\n",
       "      <th>CSM_winter</th>\n",
       "      <th>CSM_spring</th>\n",
       "      <th>CSM_fall</th>\n",
       "      <th>MUL_winter</th>\n",
       "      <th>MUL_spring</th>\n",
       "      <th>MUL_fall</th>\n",
       "      <th>SDW_winter</th>\n",
       "      <th>SDW_spring</th>\n",
       "      <th>SDW_fall</th>\n",
       "      <th>TJE_winter</th>\n",
       "      <th>TJE_spring</th>\n",
       "      <th>TJE_fall</th>\n",
       "    </tr>\n",
       "  </thead>\n",
       "  <tbody>\n",
       "    <tr>\n",
       "      <th>0</th>\n",
       "      <td>2010</td>\n",
       "      <td>39.0</td>\n",
       "      <td>40.0</td>\n",
       "      <td>50.0</td>\n",
       "      <td>45.0</td>\n",
       "      <td>NaN</td>\n",
       "      <td>61.0</td>\n",
       "      <td>NaN</td>\n",
       "      <td>75.0</td>\n",
       "      <td>85.0</td>\n",
       "      <td>NaN</td>\n",
       "      <td>NaN</td>\n",
       "      <td>81.0</td>\n",
       "    </tr>\n",
       "    <tr>\n",
       "      <th>4</th>\n",
       "      <td>2014</td>\n",
       "      <td>38.0</td>\n",
       "      <td>43.0</td>\n",
       "      <td>45.0</td>\n",
       "      <td>49.0</td>\n",
       "      <td>52.0</td>\n",
       "      <td>57.0</td>\n",
       "      <td>61.0</td>\n",
       "      <td>78.0</td>\n",
       "      <td>71.0</td>\n",
       "      <td>60.0</td>\n",
       "      <td>81.0</td>\n",
       "      <td>62.0</td>\n",
       "    </tr>\n",
       "  </tbody>\n",
       "</table>\n",
       "</div>"
      ],
      "text/plain": [
       "   year  CSM_winter  CSM_spring  CSM_fall  MUL_winter  MUL_spring  MUL_fall  \\\n",
       "0  2010        39.0        40.0      50.0        45.0         NaN      61.0   \n",
       "4  2014        38.0        43.0      45.0        49.0        52.0      57.0   \n",
       "\n",
       "   SDW_winter  SDW_spring  SDW_fall  TJE_winter  TJE_spring  TJE_fall  \n",
       "0         NaN        75.0      85.0         NaN         NaN      81.0  \n",
       "4        61.0        78.0      71.0        60.0        81.0      62.0  "
      ]
     },
     "execution_count": 15,
     "metadata": {},
     "output_type": "execute_result"
    }
   ],
   "source": [
    "df[df['SDW_spring'] >= 75]"
   ]
  },
  {
   "cell_type": "code",
   "execution_count": 16,
   "id": "3730943d-43d7-490d-9858-053206a821b8",
   "metadata": {
    "tags": []
   },
   "outputs": [
    {
     "data": {
      "application/vnd.microsoft.datawrangler.viewer.v0+json": {
       "columns": [
        {
         "name": "index",
         "rawType": "int64",
         "type": "integer"
        },
        {
         "name": "SDW_spring",
         "rawType": "float64",
         "type": "float"
        }
       ],
       "ref": "9312e30c-aeac-4e6c-b7ac-caf224af2c83",
       "rows": [
        [
         "0",
         "75.0"
        ],
        [
         "1",
         "74.0"
        ],
        [
         "2",
         "72.0"
        ],
        [
         "3",
         "70.0"
        ],
        [
         "4",
         "78.0"
        ],
        [
         "5",
         "61.0"
        ],
        [
         "6",
         "62.0"
        ],
        [
         "7",
         "45.0"
        ],
        [
         "8",
         "49.0"
        ],
        [
         "9",
         "55.0"
        ],
        [
         "10",
         null
        ],
        [
         "11",
         "58.0"
        ],
        [
         "12",
         "60.0"
        ],
        [
         "13",
         "63.0"
        ]
       ],
       "shape": {
        "columns": 1,
        "rows": 14
       }
      },
      "text/plain": [
       "0     75.0\n",
       "1     74.0\n",
       "2     72.0\n",
       "3     70.0\n",
       "4     78.0\n",
       "5     61.0\n",
       "6     62.0\n",
       "7     45.0\n",
       "8     49.0\n",
       "9     55.0\n",
       "10     NaN\n",
       "11    58.0\n",
       "12    60.0\n",
       "13    63.0\n",
       "Name: SDW_spring, dtype: float64"
      ]
     },
     "execution_count": 16,
     "metadata": {},
     "output_type": "execute_result"
    }
   ],
   "source": [
    "df['SDW_spring']"
   ]
  },
  {
   "cell_type": "markdown",
   "id": "d7880ca1-7e95-4c57-9f3d-035883776ec2",
   "metadata": {},
   "source": [
    "### Example\n",
    "\n",
    "Suppose we want to look at data from 2012 to 2015 (including both years)."
   ]
  },
  {
   "cell_type": "code",
   "execution_count": 17,
   "id": "a3a5e794-da5d-4bf1-bd42-8ea2ae9233f1",
   "metadata": {
    "tags": []
   },
   "outputs": [
    {
     "data": {
      "application/vnd.microsoft.datawrangler.viewer.v0+json": {
       "columns": [
        {
         "name": "index",
         "rawType": "int64",
         "type": "integer"
        },
        {
         "name": "year",
         "rawType": "int64",
         "type": "integer"
        },
        {
         "name": "CSM_winter",
         "rawType": "float64",
         "type": "float"
        },
        {
         "name": "CSM_spring",
         "rawType": "float64",
         "type": "float"
        },
        {
         "name": "CSM_fall",
         "rawType": "float64",
         "type": "float"
        },
        {
         "name": "MUL_winter",
         "rawType": "float64",
         "type": "float"
        },
        {
         "name": "MUL_spring",
         "rawType": "float64",
         "type": "float"
        },
        {
         "name": "MUL_fall",
         "rawType": "float64",
         "type": "float"
        },
        {
         "name": "SDW_winter",
         "rawType": "float64",
         "type": "float"
        },
        {
         "name": "SDW_spring",
         "rawType": "float64",
         "type": "float"
        },
        {
         "name": "SDW_fall",
         "rawType": "float64",
         "type": "float"
        },
        {
         "name": "TJE_winter",
         "rawType": "float64",
         "type": "float"
        },
        {
         "name": "TJE_spring",
         "rawType": "float64",
         "type": "float"
        },
        {
         "name": "TJE_fall",
         "rawType": "float64",
         "type": "float"
        }
       ],
       "ref": "8d23d988-8749-4030-86ee-bc7dd1f43bb0",
       "rows": [
        [
         "2",
         "2012",
         "51.0",
         "43.0",
         "49.0",
         "57.0",
         "58.0",
         "53.0",
         "71.0",
         "72.0",
         "73.0",
         "70.0",
         "63.0",
         "69.0"
        ],
        [
         "3",
         "2013",
         "42.0",
         "46.0",
         "38.0",
         "60.0",
         "58.0",
         "62.0",
         "69.0",
         "70.0",
         "70.0",
         "69.0",
         "74.0",
         "64.0"
        ],
        [
         "4",
         "2014",
         "38.0",
         "43.0",
         "45.0",
         "49.0",
         "52.0",
         "57.0",
         "61.0",
         "78.0",
         "71.0",
         "60.0",
         "81.0",
         "62.0"
        ],
        [
         "5",
         "2015",
         "44.0",
         "42.0",
         "45.0",
         "58.0",
         "50.0",
         "51.0",
         "71.0",
         "61.0",
         "65.0",
         "73.0",
         "76.0",
         "64.0"
        ]
       ],
       "shape": {
        "columns": 13,
        "rows": 4
       }
      },
      "text/html": [
       "<div>\n",
       "<style scoped>\n",
       "    .dataframe tbody tr th:only-of-type {\n",
       "        vertical-align: middle;\n",
       "    }\n",
       "\n",
       "    .dataframe tbody tr th {\n",
       "        vertical-align: top;\n",
       "    }\n",
       "\n",
       "    .dataframe thead th {\n",
       "        text-align: right;\n",
       "    }\n",
       "</style>\n",
       "<table border=\"1\" class=\"dataframe\">\n",
       "  <thead>\n",
       "    <tr style=\"text-align: right;\">\n",
       "      <th></th>\n",
       "      <th>year</th>\n",
       "      <th>CSM_winter</th>\n",
       "      <th>CSM_spring</th>\n",
       "      <th>CSM_fall</th>\n",
       "      <th>MUL_winter</th>\n",
       "      <th>MUL_spring</th>\n",
       "      <th>MUL_fall</th>\n",
       "      <th>SDW_winter</th>\n",
       "      <th>SDW_spring</th>\n",
       "      <th>SDW_fall</th>\n",
       "      <th>TJE_winter</th>\n",
       "      <th>TJE_spring</th>\n",
       "      <th>TJE_fall</th>\n",
       "    </tr>\n",
       "  </thead>\n",
       "  <tbody>\n",
       "    <tr>\n",
       "      <th>2</th>\n",
       "      <td>2012</td>\n",
       "      <td>51.0</td>\n",
       "      <td>43.0</td>\n",
       "      <td>49.0</td>\n",
       "      <td>57.0</td>\n",
       "      <td>58.0</td>\n",
       "      <td>53.0</td>\n",
       "      <td>71.0</td>\n",
       "      <td>72.0</td>\n",
       "      <td>73.0</td>\n",
       "      <td>70.0</td>\n",
       "      <td>63.0</td>\n",
       "      <td>69.0</td>\n",
       "    </tr>\n",
       "    <tr>\n",
       "      <th>3</th>\n",
       "      <td>2013</td>\n",
       "      <td>42.0</td>\n",
       "      <td>46.0</td>\n",
       "      <td>38.0</td>\n",
       "      <td>60.0</td>\n",
       "      <td>58.0</td>\n",
       "      <td>62.0</td>\n",
       "      <td>69.0</td>\n",
       "      <td>70.0</td>\n",
       "      <td>70.0</td>\n",
       "      <td>69.0</td>\n",
       "      <td>74.0</td>\n",
       "      <td>64.0</td>\n",
       "    </tr>\n",
       "    <tr>\n",
       "      <th>4</th>\n",
       "      <td>2014</td>\n",
       "      <td>38.0</td>\n",
       "      <td>43.0</td>\n",
       "      <td>45.0</td>\n",
       "      <td>49.0</td>\n",
       "      <td>52.0</td>\n",
       "      <td>57.0</td>\n",
       "      <td>61.0</td>\n",
       "      <td>78.0</td>\n",
       "      <td>71.0</td>\n",
       "      <td>60.0</td>\n",
       "      <td>81.0</td>\n",
       "      <td>62.0</td>\n",
       "    </tr>\n",
       "    <tr>\n",
       "      <th>5</th>\n",
       "      <td>2015</td>\n",
       "      <td>44.0</td>\n",
       "      <td>42.0</td>\n",
       "      <td>45.0</td>\n",
       "      <td>58.0</td>\n",
       "      <td>50.0</td>\n",
       "      <td>51.0</td>\n",
       "      <td>71.0</td>\n",
       "      <td>61.0</td>\n",
       "      <td>65.0</td>\n",
       "      <td>73.0</td>\n",
       "      <td>76.0</td>\n",
       "      <td>64.0</td>\n",
       "    </tr>\n",
       "  </tbody>\n",
       "</table>\n",
       "</div>"
      ],
      "text/plain": [
       "   year  CSM_winter  CSM_spring  CSM_fall  MUL_winter  MUL_spring  MUL_fall  \\\n",
       "2  2012        51.0        43.0      49.0        57.0        58.0      53.0   \n",
       "3  2013        42.0        46.0      38.0        60.0        58.0      62.0   \n",
       "4  2014        38.0        43.0      45.0        49.0        52.0      57.0   \n",
       "5  2015        44.0        42.0      45.0        58.0        50.0      51.0   \n",
       "\n",
       "   SDW_winter  SDW_spring  SDW_fall  TJE_winter  TJE_spring  TJE_fall  \n",
       "2        71.0        72.0      73.0        70.0        63.0      69.0  \n",
       "3        69.0        70.0      70.0        69.0        74.0      64.0  \n",
       "4        61.0        78.0      71.0        60.0        81.0      62.0  \n",
       "5        71.0        61.0      65.0        73.0        76.0      64.0  "
      ]
     },
     "execution_count": 17,
     "metadata": {},
     "output_type": "execute_result"
    }
   ],
   "source": [
    "subset = df[df['year'].between(2012,2015)]\n",
    "subset"
   ]
  },
  {
   "cell_type": "markdown",
   "id": "87ac5612-a97f-4e58-bdee-8d3483690020",
   "metadata": {},
   "source": [
    "- `df['year']` = column with year values, this is a `pandas.Series`\n",
    "- `df['year'].between()` we have that `between()` is a method for the pandas.Series. Calling it using `.`\n",
    "- (2012, 2015): parameter. If we look at the documentation, we see that the method includes both endpoints\n",
    "- `df['year'].between(2012, 2015)` = a pandas.Seires of boolean values indicating which rows have year equal to 2012, 2013, 2014, 2015\n",
    "- when you put `df['year'].between(2012, 2015)` in the selection brackets, we obtain rge rows we need.\n",
    "\n",
    "## Avoid using `loc` for selecting only rows.\n",
    "\n",
    "It is equivalent to write\n",
    "\n",
    "```\n",
    "# Select rows with year < 2015\n",
    "df[df['year']<2015]\n",
    "```\n",
    "\n",
    "and\n",
    "\n",
    "```\n",
    "df.loc[df['year']<2015, :]\n",
    "```\n",
    "\n",
    "In the second one:\n",
    "- using `df.loc[row-selection, column-selection]`\n",
    "- the row selection is the condition `df['year']<2015`\n",
    "- the column selection is `:` = all columns\n",
    "\n",
    "## ... using multiple conditions\n",
    "We can combine conditions to select rows by surrounding each in parenthesis `()` and using the operator `|` and the and operator `&`.\n",
    "\n",
    "### Example: or"
   ]
  },
  {
   "cell_type": "code",
   "execution_count": 18,
   "id": "2458f1a2-aed2-49e4-8451-620d428f10de",
   "metadata": {
    "tags": []
   },
   "outputs": [
    {
     "data": {
      "application/vnd.microsoft.datawrangler.viewer.v0+json": {
       "columns": [
        {
         "name": "index",
         "rawType": "int64",
         "type": "integer"
        },
        {
         "name": "year",
         "rawType": "int64",
         "type": "integer"
        },
        {
         "name": "CSM_winter",
         "rawType": "float64",
         "type": "float"
        },
        {
         "name": "CSM_spring",
         "rawType": "float64",
         "type": "float"
        },
        {
         "name": "CSM_fall",
         "rawType": "float64",
         "type": "float"
        },
        {
         "name": "MUL_winter",
         "rawType": "float64",
         "type": "float"
        },
        {
         "name": "MUL_spring",
         "rawType": "float64",
         "type": "float"
        },
        {
         "name": "MUL_fall",
         "rawType": "float64",
         "type": "float"
        },
        {
         "name": "SDW_winter",
         "rawType": "float64",
         "type": "float"
        },
        {
         "name": "SDW_spring",
         "rawType": "float64",
         "type": "float"
        },
        {
         "name": "SDW_fall",
         "rawType": "float64",
         "type": "float"
        },
        {
         "name": "TJE_winter",
         "rawType": "float64",
         "type": "float"
        },
        {
         "name": "TJE_spring",
         "rawType": "float64",
         "type": "float"
        },
        {
         "name": "TJE_fall",
         "rawType": "float64",
         "type": "float"
        }
       ],
       "ref": "a8582042-01a0-4980-b95b-91e1b9ef6b01",
       "rows": [
        [
         "2",
         "2012",
         "51.0",
         "43.0",
         "49.0",
         "57.0",
         "58.0",
         "53.0",
         "71.0",
         "72.0",
         "73.0",
         "70.0",
         "63.0",
         "69.0"
        ],
        [
         "11",
         "2021",
         "47.0",
         "44.0",
         "53.0",
         "54.0",
         "55.0",
         "60.0",
         "57.0",
         "58.0",
         "57.0",
         "53.0",
         "68.0",
         "51.0"
        ],
        [
         "13",
         "2023",
         "56.0",
         "43.0",
         "36.0",
         "72.0",
         "59.0",
         "53.0",
         "64.0",
         "63.0",
         "33.0",
         "60.0",
         "56.0",
         "38.0"
        ]
       ],
       "shape": {
        "columns": 13,
        "rows": 3
       }
      },
      "text/html": [
       "<div>\n",
       "<style scoped>\n",
       "    .dataframe tbody tr th:only-of-type {\n",
       "        vertical-align: middle;\n",
       "    }\n",
       "\n",
       "    .dataframe tbody tr th {\n",
       "        vertical-align: top;\n",
       "    }\n",
       "\n",
       "    .dataframe thead th {\n",
       "        text-align: right;\n",
       "    }\n",
       "</style>\n",
       "<table border=\"1\" class=\"dataframe\">\n",
       "  <thead>\n",
       "    <tr style=\"text-align: right;\">\n",
       "      <th></th>\n",
       "      <th>year</th>\n",
       "      <th>CSM_winter</th>\n",
       "      <th>CSM_spring</th>\n",
       "      <th>CSM_fall</th>\n",
       "      <th>MUL_winter</th>\n",
       "      <th>MUL_spring</th>\n",
       "      <th>MUL_fall</th>\n",
       "      <th>SDW_winter</th>\n",
       "      <th>SDW_spring</th>\n",
       "      <th>SDW_fall</th>\n",
       "      <th>TJE_winter</th>\n",
       "      <th>TJE_spring</th>\n",
       "      <th>TJE_fall</th>\n",
       "    </tr>\n",
       "  </thead>\n",
       "  <tbody>\n",
       "    <tr>\n",
       "      <th>2</th>\n",
       "      <td>2012</td>\n",
       "      <td>51.0</td>\n",
       "      <td>43.0</td>\n",
       "      <td>49.0</td>\n",
       "      <td>57.0</td>\n",
       "      <td>58.0</td>\n",
       "      <td>53.0</td>\n",
       "      <td>71.0</td>\n",
       "      <td>72.0</td>\n",
       "      <td>73.0</td>\n",
       "      <td>70.0</td>\n",
       "      <td>63.0</td>\n",
       "      <td>69.0</td>\n",
       "    </tr>\n",
       "    <tr>\n",
       "      <th>11</th>\n",
       "      <td>2021</td>\n",
       "      <td>47.0</td>\n",
       "      <td>44.0</td>\n",
       "      <td>53.0</td>\n",
       "      <td>54.0</td>\n",
       "      <td>55.0</td>\n",
       "      <td>60.0</td>\n",
       "      <td>57.0</td>\n",
       "      <td>58.0</td>\n",
       "      <td>57.0</td>\n",
       "      <td>53.0</td>\n",
       "      <td>68.0</td>\n",
       "      <td>51.0</td>\n",
       "    </tr>\n",
       "    <tr>\n",
       "      <th>13</th>\n",
       "      <td>2023</td>\n",
       "      <td>56.0</td>\n",
       "      <td>43.0</td>\n",
       "      <td>36.0</td>\n",
       "      <td>72.0</td>\n",
       "      <td>59.0</td>\n",
       "      <td>53.0</td>\n",
       "      <td>64.0</td>\n",
       "      <td>63.0</td>\n",
       "      <td>33.0</td>\n",
       "      <td>60.0</td>\n",
       "      <td>56.0</td>\n",
       "      <td>38.0</td>\n",
       "    </tr>\n",
       "  </tbody>\n",
       "</table>\n",
       "</div>"
      ],
      "text/plain": [
       "    year  CSM_winter  CSM_spring  CSM_fall  MUL_winter  MUL_spring  MUL_fall  \\\n",
       "2   2012        51.0        43.0      49.0        57.0        58.0      53.0   \n",
       "11  2021        47.0        44.0      53.0        54.0        55.0      60.0   \n",
       "13  2023        56.0        43.0      36.0        72.0        59.0      53.0   \n",
       "\n",
       "    SDW_winter  SDW_spring  SDW_fall  TJE_winter  TJE_spring  TJE_fall  \n",
       "2         71.0        72.0      73.0        70.0        63.0      69.0  \n",
       "11        57.0        58.0      57.0        53.0        68.0      51.0  \n",
       "13        64.0        63.0      33.0        60.0        56.0      38.0  "
      ]
     },
     "execution_count": 18,
     "metadata": {},
     "output_type": "execute_result"
    }
   ],
   "source": [
    "# Select rpws in CSM with more than 50 species in winter or fall\n",
    "df[ (df['CSM_winter'] > 50) | (df['CSM_fall'] > 50) ]"
   ]
  },
  {
   "cell_type": "markdown",
   "id": "4035399a-d962-407b-a0b1-dcaa33851d07",
   "metadata": {},
   "source": [
    "Select rows in which both CSM and SDW have more than 60 bord species during spring"
   ]
  },
  {
   "cell_type": "code",
   "execution_count": 19,
   "id": "1f4d6d7d-ae32-421d-9589-500bb99b0fe3",
   "metadata": {
    "tags": []
   },
   "outputs": [
    {
     "data": {
      "application/vnd.microsoft.datawrangler.viewer.v0+json": {
       "columns": [
        {
         "name": "index",
         "rawType": "int64",
         "type": "integer"
        },
        {
         "name": "year",
         "rawType": "int64",
         "type": "integer"
        },
        {
         "name": "CSM_winter",
         "rawType": "float64",
         "type": "float"
        },
        {
         "name": "CSM_spring",
         "rawType": "float64",
         "type": "float"
        },
        {
         "name": "CSM_fall",
         "rawType": "float64",
         "type": "float"
        },
        {
         "name": "MUL_winter",
         "rawType": "float64",
         "type": "float"
        },
        {
         "name": "MUL_spring",
         "rawType": "float64",
         "type": "float"
        },
        {
         "name": "MUL_fall",
         "rawType": "float64",
         "type": "float"
        },
        {
         "name": "SDW_winter",
         "rawType": "float64",
         "type": "float"
        },
        {
         "name": "SDW_spring",
         "rawType": "float64",
         "type": "float"
        },
        {
         "name": "SDW_fall",
         "rawType": "float64",
         "type": "float"
        },
        {
         "name": "TJE_winter",
         "rawType": "float64",
         "type": "float"
        },
        {
         "name": "TJE_spring",
         "rawType": "float64",
         "type": "float"
        },
        {
         "name": "TJE_fall",
         "rawType": "float64",
         "type": "float"
        }
       ],
       "ref": "8e80d875-178c-43a4-8a05-fb66afb7d26e",
       "rows": [],
       "shape": {
        "columns": 13,
        "rows": 0
       }
      },
      "text/html": [
       "<div>\n",
       "<style scoped>\n",
       "    .dataframe tbody tr th:only-of-type {\n",
       "        vertical-align: middle;\n",
       "    }\n",
       "\n",
       "    .dataframe tbody tr th {\n",
       "        vertical-align: top;\n",
       "    }\n",
       "\n",
       "    .dataframe thead th {\n",
       "        text-align: right;\n",
       "    }\n",
       "</style>\n",
       "<table border=\"1\" class=\"dataframe\">\n",
       "  <thead>\n",
       "    <tr style=\"text-align: right;\">\n",
       "      <th></th>\n",
       "      <th>year</th>\n",
       "      <th>CSM_winter</th>\n",
       "      <th>CSM_spring</th>\n",
       "      <th>CSM_fall</th>\n",
       "      <th>MUL_winter</th>\n",
       "      <th>MUL_spring</th>\n",
       "      <th>MUL_fall</th>\n",
       "      <th>SDW_winter</th>\n",
       "      <th>SDW_spring</th>\n",
       "      <th>SDW_fall</th>\n",
       "      <th>TJE_winter</th>\n",
       "      <th>TJE_spring</th>\n",
       "      <th>TJE_fall</th>\n",
       "    </tr>\n",
       "  </thead>\n",
       "  <tbody>\n",
       "  </tbody>\n",
       "</table>\n",
       "</div>"
      ],
      "text/plain": [
       "Empty DataFrame\n",
       "Columns: [year, CSM_winter, CSM_spring, CSM_fall, MUL_winter, MUL_spring, MUL_fall, SDW_winter, SDW_spring, SDW_fall, TJE_winter, TJE_spring, TJE_fall]\n",
       "Index: []"
      ]
     },
     "execution_count": 19,
     "metadata": {},
     "output_type": "execute_result"
    }
   ],
   "source": [
    "df[(df['CSM_spring'] > 60) & (df['SDW_spring'] > 60)]"
   ]
  },
  {
   "cell_type": "code",
   "execution_count": 20,
   "id": "220317f3-f5ba-4ad5-bb6c-05826311b1d8",
   "metadata": {},
   "outputs": [],
   "source": [
    "cond1 = df['CSM_spring'] > 60\n",
    "cond2 = df['CSM_fall'] > 50"
   ]
  },
  {
   "cell_type": "markdown",
   "id": "24202999",
   "metadata": {},
   "source": [
    "### Selecting rows by position\n",
    "\n",
    "Sometimes we may want to select rows based on their *actual position* in the data frame.\n",
    "This is **position-based subsetting**. We use `iloc` selection\n",
    "\n",
    "Syntax:\n",
    "```\n",
    "df.iloc[row-indices]\n",
    "```\n",
    "`iloc` = integer-location based indexing\n",
    "\n",
    "### Example"
   ]
  },
  {
   "cell_type": "code",
   "execution_count": 21,
   "id": "1499bcc5",
   "metadata": {},
   "outputs": [
    {
     "data": {
      "application/vnd.microsoft.datawrangler.viewer.v0+json": {
       "columns": [
        {
         "name": "index",
         "rawType": "object",
         "type": "string"
        },
        {
         "name": "4",
         "rawType": "float64",
         "type": "float"
        }
       ],
       "ref": "37d3725c-09c4-4d43-8ec1-e2840541a3c4",
       "rows": [
        [
         "year",
         "2014.0"
        ],
        [
         "CSM_winter",
         "38.0"
        ],
        [
         "CSM_spring",
         "43.0"
        ],
        [
         "CSM_fall",
         "45.0"
        ],
        [
         "MUL_winter",
         "49.0"
        ],
        [
         "MUL_spring",
         "52.0"
        ],
        [
         "MUL_fall",
         "57.0"
        ],
        [
         "SDW_winter",
         "61.0"
        ],
        [
         "SDW_spring",
         "78.0"
        ],
        [
         "SDW_fall",
         "71.0"
        ],
        [
         "TJE_winter",
         "60.0"
        ],
        [
         "TJE_spring",
         "81.0"
        ],
        [
         "TJE_fall",
         "62.0"
        ]
       ],
       "shape": {
        "columns": 1,
        "rows": 13
       }
      },
      "text/plain": [
       "year          2014.0\n",
       "CSM_winter      38.0\n",
       "CSM_spring      43.0\n",
       "CSM_fall        45.0\n",
       "MUL_winter      49.0\n",
       "MUL_spring      52.0\n",
       "MUL_fall        57.0\n",
       "SDW_winter      61.0\n",
       "SDW_spring      78.0\n",
       "SDW_fall        71.0\n",
       "TJE_winter      60.0\n",
       "TJE_spring      81.0\n",
       "TJE_fall        62.0\n",
       "Name: 4, dtype: float64"
      ]
     },
     "execution_count": 21,
     "metadata": {},
     "output_type": "execute_result"
    }
   ],
   "source": [
    "# Select the fifth row (index = 4)\n",
    "df.iloc[4]"
   ]
  },
  {
   "cell_type": "code",
   "execution_count": 22,
   "id": "e20e9bdc",
   "metadata": {},
   "outputs": [
    {
     "data": {
      "application/vnd.microsoft.datawrangler.viewer.v0+json": {
       "columns": [
        {
         "name": "index",
         "rawType": "int64",
         "type": "integer"
        },
        {
         "name": "year",
         "rawType": "int64",
         "type": "integer"
        },
        {
         "name": "CSM_winter",
         "rawType": "float64",
         "type": "float"
        },
        {
         "name": "CSM_spring",
         "rawType": "float64",
         "type": "float"
        },
        {
         "name": "CSM_fall",
         "rawType": "float64",
         "type": "float"
        },
        {
         "name": "MUL_winter",
         "rawType": "float64",
         "type": "float"
        },
        {
         "name": "MUL_spring",
         "rawType": "float64",
         "type": "float"
        },
        {
         "name": "MUL_fall",
         "rawType": "float64",
         "type": "float"
        },
        {
         "name": "SDW_winter",
         "rawType": "float64",
         "type": "float"
        },
        {
         "name": "SDW_spring",
         "rawType": "float64",
         "type": "float"
        },
        {
         "name": "SDW_fall",
         "rawType": "float64",
         "type": "float"
        },
        {
         "name": "TJE_winter",
         "rawType": "float64",
         "type": "float"
        },
        {
         "name": "TJE_spring",
         "rawType": "float64",
         "type": "float"
        },
        {
         "name": "TJE_fall",
         "rawType": "float64",
         "type": "float"
        }
       ],
       "ref": "9665de71-e025-4783-ab56-0c32d087f49f",
       "rows": [
        [
         "0",
         "2010",
         "39.0",
         "40.0",
         "50.0",
         "45.0",
         null,
         "61.0",
         null,
         "75.0",
         "85.0",
         null,
         null,
         "81.0"
        ],
        [
         "1",
         "2011",
         "48.0",
         "44.0",
         null,
         "58.0",
         "52.0",
         null,
         "78.0",
         "74.0",
         null,
         "67.0",
         "70.0",
         null
        ],
        [
         "2",
         "2012",
         "51.0",
         "43.0",
         "49.0",
         "57.0",
         "58.0",
         "53.0",
         "71.0",
         "72.0",
         "73.0",
         "70.0",
         "63.0",
         "69.0"
        ],
        [
         "3",
         "2013",
         "42.0",
         "46.0",
         "38.0",
         "60.0",
         "58.0",
         "62.0",
         "69.0",
         "70.0",
         "70.0",
         "69.0",
         "74.0",
         "64.0"
        ],
        [
         "4",
         "2014",
         "38.0",
         "43.0",
         "45.0",
         "49.0",
         "52.0",
         "57.0",
         "61.0",
         "78.0",
         "71.0",
         "60.0",
         "81.0",
         "62.0"
        ],
        [
         "5",
         "2015",
         "44.0",
         "42.0",
         "45.0",
         "58.0",
         "50.0",
         "51.0",
         "71.0",
         "61.0",
         "65.0",
         "73.0",
         "76.0",
         "64.0"
        ],
        [
         "6",
         "2016",
         "41.0",
         "36.0",
         "47.0",
         "63.0",
         "48.0",
         "58.0",
         "67.0",
         "62.0",
         "57.0",
         "76.0",
         "76.0",
         "58.0"
        ],
        [
         "7",
         "2017",
         "46.0",
         "41.0",
         "43.0",
         "57.0",
         "54.0",
         "53.0",
         "66.0",
         "45.0",
         "54.0",
         "72.0",
         "63.0",
         "57.0"
        ],
        [
         "8",
         "2018",
         "48.0",
         "48.0",
         "44.0",
         "56.0",
         "54.0",
         "57.0",
         "55.0",
         "49.0",
         "51.0",
         "66.0",
         "60.0",
         "55.0"
        ],
        [
         "9",
         "2019",
         "39.0",
         "39.0",
         "40.0",
         "57.0",
         "52.0",
         "53.0",
         "54.0",
         "55.0",
         "53.0",
         "63.0",
         "54.0",
         "50.0"
        ],
        [
         "10",
         "2020",
         "46.0",
         null,
         "47.0",
         "56.0",
         null,
         "66.0",
         "57.0",
         null,
         "58.0",
         "54.0",
         "40.0",
         "54.0"
        ],
        [
         "11",
         "2021",
         "47.0",
         "44.0",
         "53.0",
         "54.0",
         "55.0",
         "60.0",
         "57.0",
         "58.0",
         "57.0",
         "53.0",
         "68.0",
         "51.0"
        ],
        [
         "12",
         "2022",
         "40.0",
         "46.0",
         "49.0",
         "60.0",
         "55.0",
         "65.0",
         "57.0",
         "60.0",
         "57.0",
         "60.0",
         "61.0",
         "60.0"
        ],
        [
         "13",
         "2023",
         "56.0",
         "43.0",
         "36.0",
         "72.0",
         "59.0",
         "53.0",
         "64.0",
         "63.0",
         "33.0",
         "60.0",
         "56.0",
         "38.0"
        ]
       ],
       "shape": {
        "columns": 13,
        "rows": 14
       }
      },
      "text/html": [
       "<div>\n",
       "<style scoped>\n",
       "    .dataframe tbody tr th:only-of-type {\n",
       "        vertical-align: middle;\n",
       "    }\n",
       "\n",
       "    .dataframe tbody tr th {\n",
       "        vertical-align: top;\n",
       "    }\n",
       "\n",
       "    .dataframe thead th {\n",
       "        text-align: right;\n",
       "    }\n",
       "</style>\n",
       "<table border=\"1\" class=\"dataframe\">\n",
       "  <thead>\n",
       "    <tr style=\"text-align: right;\">\n",
       "      <th></th>\n",
       "      <th>year</th>\n",
       "      <th>CSM_winter</th>\n",
       "      <th>CSM_spring</th>\n",
       "      <th>CSM_fall</th>\n",
       "      <th>MUL_winter</th>\n",
       "      <th>MUL_spring</th>\n",
       "      <th>MUL_fall</th>\n",
       "      <th>SDW_winter</th>\n",
       "      <th>SDW_spring</th>\n",
       "      <th>SDW_fall</th>\n",
       "      <th>TJE_winter</th>\n",
       "      <th>TJE_spring</th>\n",
       "      <th>TJE_fall</th>\n",
       "    </tr>\n",
       "  </thead>\n",
       "  <tbody>\n",
       "    <tr>\n",
       "      <th>0</th>\n",
       "      <td>2010</td>\n",
       "      <td>39.0</td>\n",
       "      <td>40.0</td>\n",
       "      <td>50.0</td>\n",
       "      <td>45.0</td>\n",
       "      <td>NaN</td>\n",
       "      <td>61.0</td>\n",
       "      <td>NaN</td>\n",
       "      <td>75.0</td>\n",
       "      <td>85.0</td>\n",
       "      <td>NaN</td>\n",
       "      <td>NaN</td>\n",
       "      <td>81.0</td>\n",
       "    </tr>\n",
       "    <tr>\n",
       "      <th>1</th>\n",
       "      <td>2011</td>\n",
       "      <td>48.0</td>\n",
       "      <td>44.0</td>\n",
       "      <td>NaN</td>\n",
       "      <td>58.0</td>\n",
       "      <td>52.0</td>\n",
       "      <td>NaN</td>\n",
       "      <td>78.0</td>\n",
       "      <td>74.0</td>\n",
       "      <td>NaN</td>\n",
       "      <td>67.0</td>\n",
       "      <td>70.0</td>\n",
       "      <td>NaN</td>\n",
       "    </tr>\n",
       "    <tr>\n",
       "      <th>2</th>\n",
       "      <td>2012</td>\n",
       "      <td>51.0</td>\n",
       "      <td>43.0</td>\n",
       "      <td>49.0</td>\n",
       "      <td>57.0</td>\n",
       "      <td>58.0</td>\n",
       "      <td>53.0</td>\n",
       "      <td>71.0</td>\n",
       "      <td>72.0</td>\n",
       "      <td>73.0</td>\n",
       "      <td>70.0</td>\n",
       "      <td>63.0</td>\n",
       "      <td>69.0</td>\n",
       "    </tr>\n",
       "    <tr>\n",
       "      <th>3</th>\n",
       "      <td>2013</td>\n",
       "      <td>42.0</td>\n",
       "      <td>46.0</td>\n",
       "      <td>38.0</td>\n",
       "      <td>60.0</td>\n",
       "      <td>58.0</td>\n",
       "      <td>62.0</td>\n",
       "      <td>69.0</td>\n",
       "      <td>70.0</td>\n",
       "      <td>70.0</td>\n",
       "      <td>69.0</td>\n",
       "      <td>74.0</td>\n",
       "      <td>64.0</td>\n",
       "    </tr>\n",
       "    <tr>\n",
       "      <th>4</th>\n",
       "      <td>2014</td>\n",
       "      <td>38.0</td>\n",
       "      <td>43.0</td>\n",
       "      <td>45.0</td>\n",
       "      <td>49.0</td>\n",
       "      <td>52.0</td>\n",
       "      <td>57.0</td>\n",
       "      <td>61.0</td>\n",
       "      <td>78.0</td>\n",
       "      <td>71.0</td>\n",
       "      <td>60.0</td>\n",
       "      <td>81.0</td>\n",
       "      <td>62.0</td>\n",
       "    </tr>\n",
       "    <tr>\n",
       "      <th>5</th>\n",
       "      <td>2015</td>\n",
       "      <td>44.0</td>\n",
       "      <td>42.0</td>\n",
       "      <td>45.0</td>\n",
       "      <td>58.0</td>\n",
       "      <td>50.0</td>\n",
       "      <td>51.0</td>\n",
       "      <td>71.0</td>\n",
       "      <td>61.0</td>\n",
       "      <td>65.0</td>\n",
       "      <td>73.0</td>\n",
       "      <td>76.0</td>\n",
       "      <td>64.0</td>\n",
       "    </tr>\n",
       "    <tr>\n",
       "      <th>6</th>\n",
       "      <td>2016</td>\n",
       "      <td>41.0</td>\n",
       "      <td>36.0</td>\n",
       "      <td>47.0</td>\n",
       "      <td>63.0</td>\n",
       "      <td>48.0</td>\n",
       "      <td>58.0</td>\n",
       "      <td>67.0</td>\n",
       "      <td>62.0</td>\n",
       "      <td>57.0</td>\n",
       "      <td>76.0</td>\n",
       "      <td>76.0</td>\n",
       "      <td>58.0</td>\n",
       "    </tr>\n",
       "    <tr>\n",
       "      <th>7</th>\n",
       "      <td>2017</td>\n",
       "      <td>46.0</td>\n",
       "      <td>41.0</td>\n",
       "      <td>43.0</td>\n",
       "      <td>57.0</td>\n",
       "      <td>54.0</td>\n",
       "      <td>53.0</td>\n",
       "      <td>66.0</td>\n",
       "      <td>45.0</td>\n",
       "      <td>54.0</td>\n",
       "      <td>72.0</td>\n",
       "      <td>63.0</td>\n",
       "      <td>57.0</td>\n",
       "    </tr>\n",
       "    <tr>\n",
       "      <th>8</th>\n",
       "      <td>2018</td>\n",
       "      <td>48.0</td>\n",
       "      <td>48.0</td>\n",
       "      <td>44.0</td>\n",
       "      <td>56.0</td>\n",
       "      <td>54.0</td>\n",
       "      <td>57.0</td>\n",
       "      <td>55.0</td>\n",
       "      <td>49.0</td>\n",
       "      <td>51.0</td>\n",
       "      <td>66.0</td>\n",
       "      <td>60.0</td>\n",
       "      <td>55.0</td>\n",
       "    </tr>\n",
       "    <tr>\n",
       "      <th>9</th>\n",
       "      <td>2019</td>\n",
       "      <td>39.0</td>\n",
       "      <td>39.0</td>\n",
       "      <td>40.0</td>\n",
       "      <td>57.0</td>\n",
       "      <td>52.0</td>\n",
       "      <td>53.0</td>\n",
       "      <td>54.0</td>\n",
       "      <td>55.0</td>\n",
       "      <td>53.0</td>\n",
       "      <td>63.0</td>\n",
       "      <td>54.0</td>\n",
       "      <td>50.0</td>\n",
       "    </tr>\n",
       "    <tr>\n",
       "      <th>10</th>\n",
       "      <td>2020</td>\n",
       "      <td>46.0</td>\n",
       "      <td>NaN</td>\n",
       "      <td>47.0</td>\n",
       "      <td>56.0</td>\n",
       "      <td>NaN</td>\n",
       "      <td>66.0</td>\n",
       "      <td>57.0</td>\n",
       "      <td>NaN</td>\n",
       "      <td>58.0</td>\n",
       "      <td>54.0</td>\n",
       "      <td>40.0</td>\n",
       "      <td>54.0</td>\n",
       "    </tr>\n",
       "    <tr>\n",
       "      <th>11</th>\n",
       "      <td>2021</td>\n",
       "      <td>47.0</td>\n",
       "      <td>44.0</td>\n",
       "      <td>53.0</td>\n",
       "      <td>54.0</td>\n",
       "      <td>55.0</td>\n",
       "      <td>60.0</td>\n",
       "      <td>57.0</td>\n",
       "      <td>58.0</td>\n",
       "      <td>57.0</td>\n",
       "      <td>53.0</td>\n",
       "      <td>68.0</td>\n",
       "      <td>51.0</td>\n",
       "    </tr>\n",
       "    <tr>\n",
       "      <th>12</th>\n",
       "      <td>2022</td>\n",
       "      <td>40.0</td>\n",
       "      <td>46.0</td>\n",
       "      <td>49.0</td>\n",
       "      <td>60.0</td>\n",
       "      <td>55.0</td>\n",
       "      <td>65.0</td>\n",
       "      <td>57.0</td>\n",
       "      <td>60.0</td>\n",
       "      <td>57.0</td>\n",
       "      <td>60.0</td>\n",
       "      <td>61.0</td>\n",
       "      <td>60.0</td>\n",
       "    </tr>\n",
       "    <tr>\n",
       "      <th>13</th>\n",
       "      <td>2023</td>\n",
       "      <td>56.0</td>\n",
       "      <td>43.0</td>\n",
       "      <td>36.0</td>\n",
       "      <td>72.0</td>\n",
       "      <td>59.0</td>\n",
       "      <td>53.0</td>\n",
       "      <td>64.0</td>\n",
       "      <td>63.0</td>\n",
       "      <td>33.0</td>\n",
       "      <td>60.0</td>\n",
       "      <td>56.0</td>\n",
       "      <td>38.0</td>\n",
       "    </tr>\n",
       "  </tbody>\n",
       "</table>\n",
       "</div>"
      ],
      "text/plain": [
       "    year  CSM_winter  CSM_spring  CSM_fall  MUL_winter  MUL_spring  MUL_fall  \\\n",
       "0   2010        39.0        40.0      50.0        45.0         NaN      61.0   \n",
       "1   2011        48.0        44.0       NaN        58.0        52.0       NaN   \n",
       "2   2012        51.0        43.0      49.0        57.0        58.0      53.0   \n",
       "3   2013        42.0        46.0      38.0        60.0        58.0      62.0   \n",
       "4   2014        38.0        43.0      45.0        49.0        52.0      57.0   \n",
       "5   2015        44.0        42.0      45.0        58.0        50.0      51.0   \n",
       "6   2016        41.0        36.0      47.0        63.0        48.0      58.0   \n",
       "7   2017        46.0        41.0      43.0        57.0        54.0      53.0   \n",
       "8   2018        48.0        48.0      44.0        56.0        54.0      57.0   \n",
       "9   2019        39.0        39.0      40.0        57.0        52.0      53.0   \n",
       "10  2020        46.0         NaN      47.0        56.0         NaN      66.0   \n",
       "11  2021        47.0        44.0      53.0        54.0        55.0      60.0   \n",
       "12  2022        40.0        46.0      49.0        60.0        55.0      65.0   \n",
       "13  2023        56.0        43.0      36.0        72.0        59.0      53.0   \n",
       "\n",
       "    SDW_winter  SDW_spring  SDW_fall  TJE_winter  TJE_spring  TJE_fall  \n",
       "0          NaN        75.0      85.0         NaN         NaN      81.0  \n",
       "1         78.0        74.0       NaN        67.0        70.0       NaN  \n",
       "2         71.0        72.0      73.0        70.0        63.0      69.0  \n",
       "3         69.0        70.0      70.0        69.0        74.0      64.0  \n",
       "4         61.0        78.0      71.0        60.0        81.0      62.0  \n",
       "5         71.0        61.0      65.0        73.0        76.0      64.0  \n",
       "6         67.0        62.0      57.0        76.0        76.0      58.0  \n",
       "7         66.0        45.0      54.0        72.0        63.0      57.0  \n",
       "8         55.0        49.0      51.0        66.0        60.0      55.0  \n",
       "9         54.0        55.0      53.0        63.0        54.0      50.0  \n",
       "10        57.0         NaN      58.0        54.0        40.0      54.0  \n",
       "11        57.0        58.0      57.0        53.0        68.0      51.0  \n",
       "12        57.0        60.0      57.0        60.0        61.0      60.0  \n",
       "13        64.0        63.0      33.0        60.0        56.0      38.0  "
      ]
     },
     "execution_count": 22,
     "metadata": {},
     "output_type": "execute_result"
    }
   ],
   "source": [
    "df"
   ]
  },
  {
   "cell_type": "code",
   "execution_count": 23,
   "id": "23da8a0e",
   "metadata": {},
   "outputs": [
    {
     "data": {
      "application/vnd.microsoft.datawrangler.viewer.v0+json": {
       "columns": [
        {
         "name": "year",
         "rawType": "int64",
         "type": "integer"
        },
        {
         "name": "CSM_winter",
         "rawType": "float64",
         "type": "float"
        },
        {
         "name": "CSM_spring",
         "rawType": "float64",
         "type": "float"
        },
        {
         "name": "CSM_fall",
         "rawType": "float64",
         "type": "float"
        },
        {
         "name": "MUL_winter",
         "rawType": "float64",
         "type": "float"
        },
        {
         "name": "MUL_spring",
         "rawType": "float64",
         "type": "float"
        },
        {
         "name": "MUL_fall",
         "rawType": "float64",
         "type": "float"
        },
        {
         "name": "SDW_winter",
         "rawType": "float64",
         "type": "float"
        },
        {
         "name": "SDW_spring",
         "rawType": "float64",
         "type": "float"
        },
        {
         "name": "SDW_fall",
         "rawType": "float64",
         "type": "float"
        },
        {
         "name": "TJE_winter",
         "rawType": "float64",
         "type": "float"
        },
        {
         "name": "TJE_spring",
         "rawType": "float64",
         "type": "float"
        },
        {
         "name": "TJE_fall",
         "rawType": "float64",
         "type": "float"
        }
       ],
       "ref": "68298f75-5ef8-436b-a63f-b0d86cc082c5",
       "rows": [
        [
         "2010",
         "39.0",
         "40.0",
         "50.0",
         "45.0",
         null,
         "61.0",
         null,
         "75.0",
         "85.0",
         null,
         null,
         "81.0"
        ],
        [
         "2011",
         "48.0",
         "44.0",
         null,
         "58.0",
         "52.0",
         null,
         "78.0",
         "74.0",
         null,
         "67.0",
         "70.0",
         null
        ],
        [
         "2012",
         "51.0",
         "43.0",
         "49.0",
         "57.0",
         "58.0",
         "53.0",
         "71.0",
         "72.0",
         "73.0",
         "70.0",
         "63.0",
         "69.0"
        ],
        [
         "2013",
         "42.0",
         "46.0",
         "38.0",
         "60.0",
         "58.0",
         "62.0",
         "69.0",
         "70.0",
         "70.0",
         "69.0",
         "74.0",
         "64.0"
        ],
        [
         "2014",
         "38.0",
         "43.0",
         "45.0",
         "49.0",
         "52.0",
         "57.0",
         "61.0",
         "78.0",
         "71.0",
         "60.0",
         "81.0",
         "62.0"
        ],
        [
         "2015",
         "44.0",
         "42.0",
         "45.0",
         "58.0",
         "50.0",
         "51.0",
         "71.0",
         "61.0",
         "65.0",
         "73.0",
         "76.0",
         "64.0"
        ],
        [
         "2016",
         "41.0",
         "36.0",
         "47.0",
         "63.0",
         "48.0",
         "58.0",
         "67.0",
         "62.0",
         "57.0",
         "76.0",
         "76.0",
         "58.0"
        ],
        [
         "2017",
         "46.0",
         "41.0",
         "43.0",
         "57.0",
         "54.0",
         "53.0",
         "66.0",
         "45.0",
         "54.0",
         "72.0",
         "63.0",
         "57.0"
        ],
        [
         "2018",
         "48.0",
         "48.0",
         "44.0",
         "56.0",
         "54.0",
         "57.0",
         "55.0",
         "49.0",
         "51.0",
         "66.0",
         "60.0",
         "55.0"
        ],
        [
         "2019",
         "39.0",
         "39.0",
         "40.0",
         "57.0",
         "52.0",
         "53.0",
         "54.0",
         "55.0",
         "53.0",
         "63.0",
         "54.0",
         "50.0"
        ],
        [
         "2020",
         "46.0",
         null,
         "47.0",
         "56.0",
         null,
         "66.0",
         "57.0",
         null,
         "58.0",
         "54.0",
         "40.0",
         "54.0"
        ],
        [
         "2021",
         "47.0",
         "44.0",
         "53.0",
         "54.0",
         "55.0",
         "60.0",
         "57.0",
         "58.0",
         "57.0",
         "53.0",
         "68.0",
         "51.0"
        ],
        [
         "2022",
         "40.0",
         "46.0",
         "49.0",
         "60.0",
         "55.0",
         "65.0",
         "57.0",
         "60.0",
         "57.0",
         "60.0",
         "61.0",
         "60.0"
        ],
        [
         "2023",
         "56.0",
         "43.0",
         "36.0",
         "72.0",
         "59.0",
         "53.0",
         "64.0",
         "63.0",
         "33.0",
         "60.0",
         "56.0",
         "38.0"
        ]
       ],
       "shape": {
        "columns": 12,
        "rows": 14
       }
      },
      "text/html": [
       "<div>\n",
       "<style scoped>\n",
       "    .dataframe tbody tr th:only-of-type {\n",
       "        vertical-align: middle;\n",
       "    }\n",
       "\n",
       "    .dataframe tbody tr th {\n",
       "        vertical-align: top;\n",
       "    }\n",
       "\n",
       "    .dataframe thead th {\n",
       "        text-align: right;\n",
       "    }\n",
       "</style>\n",
       "<table border=\"1\" class=\"dataframe\">\n",
       "  <thead>\n",
       "    <tr style=\"text-align: right;\">\n",
       "      <th></th>\n",
       "      <th>CSM_winter</th>\n",
       "      <th>CSM_spring</th>\n",
       "      <th>CSM_fall</th>\n",
       "      <th>MUL_winter</th>\n",
       "      <th>MUL_spring</th>\n",
       "      <th>MUL_fall</th>\n",
       "      <th>SDW_winter</th>\n",
       "      <th>SDW_spring</th>\n",
       "      <th>SDW_fall</th>\n",
       "      <th>TJE_winter</th>\n",
       "      <th>TJE_spring</th>\n",
       "      <th>TJE_fall</th>\n",
       "    </tr>\n",
       "    <tr>\n",
       "      <th>year</th>\n",
       "      <th></th>\n",
       "      <th></th>\n",
       "      <th></th>\n",
       "      <th></th>\n",
       "      <th></th>\n",
       "      <th></th>\n",
       "      <th></th>\n",
       "      <th></th>\n",
       "      <th></th>\n",
       "      <th></th>\n",
       "      <th></th>\n",
       "      <th></th>\n",
       "    </tr>\n",
       "  </thead>\n",
       "  <tbody>\n",
       "    <tr>\n",
       "      <th>2010</th>\n",
       "      <td>39.0</td>\n",
       "      <td>40.0</td>\n",
       "      <td>50.0</td>\n",
       "      <td>45.0</td>\n",
       "      <td>NaN</td>\n",
       "      <td>61.0</td>\n",
       "      <td>NaN</td>\n",
       "      <td>75.0</td>\n",
       "      <td>85.0</td>\n",
       "      <td>NaN</td>\n",
       "      <td>NaN</td>\n",
       "      <td>81.0</td>\n",
       "    </tr>\n",
       "    <tr>\n",
       "      <th>2011</th>\n",
       "      <td>48.0</td>\n",
       "      <td>44.0</td>\n",
       "      <td>NaN</td>\n",
       "      <td>58.0</td>\n",
       "      <td>52.0</td>\n",
       "      <td>NaN</td>\n",
       "      <td>78.0</td>\n",
       "      <td>74.0</td>\n",
       "      <td>NaN</td>\n",
       "      <td>67.0</td>\n",
       "      <td>70.0</td>\n",
       "      <td>NaN</td>\n",
       "    </tr>\n",
       "    <tr>\n",
       "      <th>2012</th>\n",
       "      <td>51.0</td>\n",
       "      <td>43.0</td>\n",
       "      <td>49.0</td>\n",
       "      <td>57.0</td>\n",
       "      <td>58.0</td>\n",
       "      <td>53.0</td>\n",
       "      <td>71.0</td>\n",
       "      <td>72.0</td>\n",
       "      <td>73.0</td>\n",
       "      <td>70.0</td>\n",
       "      <td>63.0</td>\n",
       "      <td>69.0</td>\n",
       "    </tr>\n",
       "    <tr>\n",
       "      <th>2013</th>\n",
       "      <td>42.0</td>\n",
       "      <td>46.0</td>\n",
       "      <td>38.0</td>\n",
       "      <td>60.0</td>\n",
       "      <td>58.0</td>\n",
       "      <td>62.0</td>\n",
       "      <td>69.0</td>\n",
       "      <td>70.0</td>\n",
       "      <td>70.0</td>\n",
       "      <td>69.0</td>\n",
       "      <td>74.0</td>\n",
       "      <td>64.0</td>\n",
       "    </tr>\n",
       "    <tr>\n",
       "      <th>2014</th>\n",
       "      <td>38.0</td>\n",
       "      <td>43.0</td>\n",
       "      <td>45.0</td>\n",
       "      <td>49.0</td>\n",
       "      <td>52.0</td>\n",
       "      <td>57.0</td>\n",
       "      <td>61.0</td>\n",
       "      <td>78.0</td>\n",
       "      <td>71.0</td>\n",
       "      <td>60.0</td>\n",
       "      <td>81.0</td>\n",
       "      <td>62.0</td>\n",
       "    </tr>\n",
       "    <tr>\n",
       "      <th>2015</th>\n",
       "      <td>44.0</td>\n",
       "      <td>42.0</td>\n",
       "      <td>45.0</td>\n",
       "      <td>58.0</td>\n",
       "      <td>50.0</td>\n",
       "      <td>51.0</td>\n",
       "      <td>71.0</td>\n",
       "      <td>61.0</td>\n",
       "      <td>65.0</td>\n",
       "      <td>73.0</td>\n",
       "      <td>76.0</td>\n",
       "      <td>64.0</td>\n",
       "    </tr>\n",
       "    <tr>\n",
       "      <th>2016</th>\n",
       "      <td>41.0</td>\n",
       "      <td>36.0</td>\n",
       "      <td>47.0</td>\n",
       "      <td>63.0</td>\n",
       "      <td>48.0</td>\n",
       "      <td>58.0</td>\n",
       "      <td>67.0</td>\n",
       "      <td>62.0</td>\n",
       "      <td>57.0</td>\n",
       "      <td>76.0</td>\n",
       "      <td>76.0</td>\n",
       "      <td>58.0</td>\n",
       "    </tr>\n",
       "    <tr>\n",
       "      <th>2017</th>\n",
       "      <td>46.0</td>\n",
       "      <td>41.0</td>\n",
       "      <td>43.0</td>\n",
       "      <td>57.0</td>\n",
       "      <td>54.0</td>\n",
       "      <td>53.0</td>\n",
       "      <td>66.0</td>\n",
       "      <td>45.0</td>\n",
       "      <td>54.0</td>\n",
       "      <td>72.0</td>\n",
       "      <td>63.0</td>\n",
       "      <td>57.0</td>\n",
       "    </tr>\n",
       "    <tr>\n",
       "      <th>2018</th>\n",
       "      <td>48.0</td>\n",
       "      <td>48.0</td>\n",
       "      <td>44.0</td>\n",
       "      <td>56.0</td>\n",
       "      <td>54.0</td>\n",
       "      <td>57.0</td>\n",
       "      <td>55.0</td>\n",
       "      <td>49.0</td>\n",
       "      <td>51.0</td>\n",
       "      <td>66.0</td>\n",
       "      <td>60.0</td>\n",
       "      <td>55.0</td>\n",
       "    </tr>\n",
       "    <tr>\n",
       "      <th>2019</th>\n",
       "      <td>39.0</td>\n",
       "      <td>39.0</td>\n",
       "      <td>40.0</td>\n",
       "      <td>57.0</td>\n",
       "      <td>52.0</td>\n",
       "      <td>53.0</td>\n",
       "      <td>54.0</td>\n",
       "      <td>55.0</td>\n",
       "      <td>53.0</td>\n",
       "      <td>63.0</td>\n",
       "      <td>54.0</td>\n",
       "      <td>50.0</td>\n",
       "    </tr>\n",
       "    <tr>\n",
       "      <th>2020</th>\n",
       "      <td>46.0</td>\n",
       "      <td>NaN</td>\n",
       "      <td>47.0</td>\n",
       "      <td>56.0</td>\n",
       "      <td>NaN</td>\n",
       "      <td>66.0</td>\n",
       "      <td>57.0</td>\n",
       "      <td>NaN</td>\n",
       "      <td>58.0</td>\n",
       "      <td>54.0</td>\n",
       "      <td>40.0</td>\n",
       "      <td>54.0</td>\n",
       "    </tr>\n",
       "    <tr>\n",
       "      <th>2021</th>\n",
       "      <td>47.0</td>\n",
       "      <td>44.0</td>\n",
       "      <td>53.0</td>\n",
       "      <td>54.0</td>\n",
       "      <td>55.0</td>\n",
       "      <td>60.0</td>\n",
       "      <td>57.0</td>\n",
       "      <td>58.0</td>\n",
       "      <td>57.0</td>\n",
       "      <td>53.0</td>\n",
       "      <td>68.0</td>\n",
       "      <td>51.0</td>\n",
       "    </tr>\n",
       "    <tr>\n",
       "      <th>2022</th>\n",
       "      <td>40.0</td>\n",
       "      <td>46.0</td>\n",
       "      <td>49.0</td>\n",
       "      <td>60.0</td>\n",
       "      <td>55.0</td>\n",
       "      <td>65.0</td>\n",
       "      <td>57.0</td>\n",
       "      <td>60.0</td>\n",
       "      <td>57.0</td>\n",
       "      <td>60.0</td>\n",
       "      <td>61.0</td>\n",
       "      <td>60.0</td>\n",
       "    </tr>\n",
       "    <tr>\n",
       "      <th>2023</th>\n",
       "      <td>56.0</td>\n",
       "      <td>43.0</td>\n",
       "      <td>36.0</td>\n",
       "      <td>72.0</td>\n",
       "      <td>59.0</td>\n",
       "      <td>53.0</td>\n",
       "      <td>64.0</td>\n",
       "      <td>63.0</td>\n",
       "      <td>33.0</td>\n",
       "      <td>60.0</td>\n",
       "      <td>56.0</td>\n",
       "      <td>38.0</td>\n",
       "    </tr>\n",
       "  </tbody>\n",
       "</table>\n",
       "</div>"
      ],
      "text/plain": [
       "      CSM_winter  CSM_spring  CSM_fall  MUL_winter  MUL_spring  MUL_fall  \\\n",
       "year                                                                       \n",
       "2010        39.0        40.0      50.0        45.0         NaN      61.0   \n",
       "2011        48.0        44.0       NaN        58.0        52.0       NaN   \n",
       "2012        51.0        43.0      49.0        57.0        58.0      53.0   \n",
       "2013        42.0        46.0      38.0        60.0        58.0      62.0   \n",
       "2014        38.0        43.0      45.0        49.0        52.0      57.0   \n",
       "2015        44.0        42.0      45.0        58.0        50.0      51.0   \n",
       "2016        41.0        36.0      47.0        63.0        48.0      58.0   \n",
       "2017        46.0        41.0      43.0        57.0        54.0      53.0   \n",
       "2018        48.0        48.0      44.0        56.0        54.0      57.0   \n",
       "2019        39.0        39.0      40.0        57.0        52.0      53.0   \n",
       "2020        46.0         NaN      47.0        56.0         NaN      66.0   \n",
       "2021        47.0        44.0      53.0        54.0        55.0      60.0   \n",
       "2022        40.0        46.0      49.0        60.0        55.0      65.0   \n",
       "2023        56.0        43.0      36.0        72.0        59.0      53.0   \n",
       "\n",
       "      SDW_winter  SDW_spring  SDW_fall  TJE_winter  TJE_spring  TJE_fall  \n",
       "year                                                                      \n",
       "2010         NaN        75.0      85.0         NaN         NaN      81.0  \n",
       "2011        78.0        74.0       NaN        67.0        70.0       NaN  \n",
       "2012        71.0        72.0      73.0        70.0        63.0      69.0  \n",
       "2013        69.0        70.0      70.0        69.0        74.0      64.0  \n",
       "2014        61.0        78.0      71.0        60.0        81.0      62.0  \n",
       "2015        71.0        61.0      65.0        73.0        76.0      64.0  \n",
       "2016        67.0        62.0      57.0        76.0        76.0      58.0  \n",
       "2017        66.0        45.0      54.0        72.0        63.0      57.0  \n",
       "2018        55.0        49.0      51.0        66.0        60.0      55.0  \n",
       "2019        54.0        55.0      53.0        63.0        54.0      50.0  \n",
       "2020        57.0         NaN      58.0        54.0        40.0      54.0  \n",
       "2021        57.0        58.0      57.0        53.0        68.0      51.0  \n",
       "2022        57.0        60.0      57.0        60.0        61.0      60.0  \n",
       "2023        64.0        63.0      33.0        60.0        56.0      38.0  "
      ]
     },
     "execution_count": 23,
     "metadata": {},
     "output_type": "execute_result"
    }
   ],
   "source": [
    "df2 = df.set_index('year')\n",
    "df2"
   ]
  },
  {
   "cell_type": "code",
   "execution_count": null,
   "id": "ba89d914",
   "metadata": {},
   "outputs": [
    {
     "data": {
      "application/vnd.microsoft.datawrangler.viewer.v0+json": {
       "columns": [
        {
         "name": "index",
         "rawType": "object",
         "type": "string"
        },
        {
         "name": "2014",
         "rawType": "float64",
         "type": "float"
        }
       ],
       "ref": "c91d58b2-bde5-4eb9-97a6-153afc4b24df",
       "rows": [
        [
         "CSM_winter",
         "38.0"
        ],
        [
         "CSM_spring",
         "43.0"
        ],
        [
         "CSM_fall",
         "45.0"
        ],
        [
         "MUL_winter",
         "49.0"
        ],
        [
         "MUL_spring",
         "52.0"
        ],
        [
         "MUL_fall",
         "57.0"
        ],
        [
         "SDW_winter",
         "61.0"
        ],
        [
         "SDW_spring",
         "78.0"
        ],
        [
         "SDW_fall",
         "71.0"
        ],
        [
         "TJE_winter",
         "60.0"
        ],
        [
         "TJE_spring",
         "81.0"
        ],
        [
         "TJE_fall",
         "62.0"
        ]
       ],
       "shape": {
        "columns": 1,
        "rows": 12
       }
      },
      "text/plain": [
       "CSM_winter    38.0\n",
       "CSM_spring    43.0\n",
       "CSM_fall      45.0\n",
       "MUL_winter    49.0\n",
       "MUL_spring    52.0\n",
       "MUL_fall      57.0\n",
       "SDW_winter    61.0\n",
       "SDW_spring    78.0\n",
       "SDW_fall      71.0\n",
       "TJE_winter    60.0\n",
       "TJE_spring    81.0\n",
       "TJE_fall      62.0\n",
       "Name: 2014, dtype: float64"
      ]
     },
     "execution_count": 25,
     "metadata": {},
     "output_type": "execute_result"
    }
   ],
   "source": [
    "# Selecting 5th row by index label // loc is indexing by LABELS\n",
    "df2.loc[2014]\n",
    "\n",
    "# Python would not like this since 5 is not in our (year) index\n",
    " # df2.loc[5]"
   ]
  },
  {
   "cell_type": "code",
   "execution_count": null,
   "id": "6cb865d7",
   "metadata": {},
   "outputs": [
    {
     "data": {
      "application/vnd.microsoft.datawrangler.viewer.v0+json": {
       "columns": [
        {
         "name": "index",
         "rawType": "object",
         "type": "string"
        },
        {
         "name": "2015",
         "rawType": "float64",
         "type": "float"
        }
       ],
       "ref": "36b85482-4235-4b5e-b8e1-ac902377943d",
       "rows": [
        [
         "CSM_winter",
         "44.0"
        ],
        [
         "CSM_spring",
         "42.0"
        ],
        [
         "CSM_fall",
         "45.0"
        ],
        [
         "MUL_winter",
         "58.0"
        ],
        [
         "MUL_spring",
         "50.0"
        ],
        [
         "MUL_fall",
         "51.0"
        ],
        [
         "SDW_winter",
         "71.0"
        ],
        [
         "SDW_spring",
         "61.0"
        ],
        [
         "SDW_fall",
         "65.0"
        ],
        [
         "TJE_winter",
         "73.0"
        ],
        [
         "TJE_spring",
         "76.0"
        ],
        [
         "TJE_fall",
         "64.0"
        ]
       ],
       "shape": {
        "columns": 1,
        "rows": 12
       }
      },
      "text/plain": [
       "CSM_winter    44.0\n",
       "CSM_spring    42.0\n",
       "CSM_fall      45.0\n",
       "MUL_winter    58.0\n",
       "MUL_spring    50.0\n",
       "MUL_fall      51.0\n",
       "SDW_winter    71.0\n",
       "SDW_spring    61.0\n",
       "SDW_fall      65.0\n",
       "TJE_winter    73.0\n",
       "TJE_spring    76.0\n",
       "TJE_fall      64.0\n",
       "Name: 2015, dtype: float64"
      ]
     },
     "execution_count": 26,
     "metadata": {},
     "output_type": "execute_result"
    }
   ],
   "source": [
    "# Selecting the 5th row by the index\n",
    "df2.iloc[4]"
   ]
  },
  {
   "cell_type": "markdown",
   "id": "14556902",
   "metadata": {},
   "source": [
    "## Select rows and columns simultaneously\n",
    "\n",
    "Can be dome using `loc` or `iloc` (positions)\n",
    "\n",
    "### ... by labels or conditions\n",
    "\n",
    "Syntax:\n",
    "```\n",
    "df.loc[ row-selction, column-selection]\n",
    "```\n",
    "\n",
    "### Example\n",
    "Select winter surveys for Mugu Lagoon and Tijuana Estuary after 2020"
   ]
  },
  {
   "cell_type": "code",
   "execution_count": 27,
   "id": "6adbf9f6",
   "metadata": {},
   "outputs": [
    {
     "data": {
      "application/vnd.microsoft.datawrangler.viewer.v0+json": {
       "columns": [
        {
         "name": "index",
         "rawType": "int64",
         "type": "integer"
        },
        {
         "name": "MUL_winter",
         "rawType": "float64",
         "type": "float"
        },
        {
         "name": "TJE_winter",
         "rawType": "float64",
         "type": "float"
        }
       ],
       "ref": "5489a70d-b5ec-4c0c-8e34-2ee1a9897a61",
       "rows": [
        [
         "11",
         "54.0",
         "53.0"
        ],
        [
         "12",
         "60.0",
         "60.0"
        ],
        [
         "13",
         "72.0",
         "60.0"
        ]
       ],
       "shape": {
        "columns": 2,
        "rows": 3
       }
      },
      "text/html": [
       "<div>\n",
       "<style scoped>\n",
       "    .dataframe tbody tr th:only-of-type {\n",
       "        vertical-align: middle;\n",
       "    }\n",
       "\n",
       "    .dataframe tbody tr th {\n",
       "        vertical-align: top;\n",
       "    }\n",
       "\n",
       "    .dataframe thead th {\n",
       "        text-align: right;\n",
       "    }\n",
       "</style>\n",
       "<table border=\"1\" class=\"dataframe\">\n",
       "  <thead>\n",
       "    <tr style=\"text-align: right;\">\n",
       "      <th></th>\n",
       "      <th>MUL_winter</th>\n",
       "      <th>TJE_winter</th>\n",
       "    </tr>\n",
       "  </thead>\n",
       "  <tbody>\n",
       "    <tr>\n",
       "      <th>11</th>\n",
       "      <td>54.0</td>\n",
       "      <td>53.0</td>\n",
       "    </tr>\n",
       "    <tr>\n",
       "      <th>12</th>\n",
       "      <td>60.0</td>\n",
       "      <td>60.0</td>\n",
       "    </tr>\n",
       "    <tr>\n",
       "      <th>13</th>\n",
       "      <td>72.0</td>\n",
       "      <td>60.0</td>\n",
       "    </tr>\n",
       "  </tbody>\n",
       "</table>\n",
       "</div>"
      ],
      "text/plain": [
       "    MUL_winter  TJE_winter\n",
       "11        54.0        53.0\n",
       "12        60.0        60.0\n",
       "13        72.0        60.0"
      ]
     },
     "execution_count": 27,
     "metadata": {},
     "output_type": "execute_result"
    }
   ],
   "source": [
    "df.loc[df['year']>2020, ['MUL_winter', 'TJE_winter']]"
   ]
  },
  {
   "cell_type": "markdown",
   "id": "9f6f42e2",
   "metadata": {},
   "source": [
    "### ... by postion\n",
    "Use `iloc`\n",
    "\n",
    "Syntax:\n",
    "```\n",
    "df.loc[ row-indices, column-indices]\n",
    "```\n",
    "\n",
    "### Example\n",
    "Suppose we want to select rows 3-7 (including 7) and the fourth and fifth column (index = 3,4)"
   ]
  },
  {
   "cell_type": "code",
   "execution_count": 28,
   "id": "50bd4697",
   "metadata": {},
   "outputs": [
    {
     "data": {
      "application/vnd.microsoft.datawrangler.viewer.v0+json": {
       "columns": [
        {
         "name": "index",
         "rawType": "int64",
         "type": "integer"
        },
        {
         "name": "CSM_fall",
         "rawType": "float64",
         "type": "float"
        },
        {
         "name": "MUL_winter",
         "rawType": "float64",
         "type": "float"
        }
       ],
       "ref": "2dcfb7b4-1739-4151-a33c-5a8a16627e40",
       "rows": [
        [
         "3",
         "38.0",
         "60.0"
        ],
        [
         "4",
         "45.0",
         "49.0"
        ],
        [
         "5",
         "45.0",
         "58.0"
        ],
        [
         "6",
         "47.0",
         "63.0"
        ],
        [
         "7",
         "43.0",
         "57.0"
        ]
       ],
       "shape": {
        "columns": 2,
        "rows": 5
       }
      },
      "text/html": [
       "<div>\n",
       "<style scoped>\n",
       "    .dataframe tbody tr th:only-of-type {\n",
       "        vertical-align: middle;\n",
       "    }\n",
       "\n",
       "    .dataframe tbody tr th {\n",
       "        vertical-align: top;\n",
       "    }\n",
       "\n",
       "    .dataframe thead th {\n",
       "        text-align: right;\n",
       "    }\n",
       "</style>\n",
       "<table border=\"1\" class=\"dataframe\">\n",
       "  <thead>\n",
       "    <tr style=\"text-align: right;\">\n",
       "      <th></th>\n",
       "      <th>CSM_fall</th>\n",
       "      <th>MUL_winter</th>\n",
       "    </tr>\n",
       "  </thead>\n",
       "  <tbody>\n",
       "    <tr>\n",
       "      <th>3</th>\n",
       "      <td>38.0</td>\n",
       "      <td>60.0</td>\n",
       "    </tr>\n",
       "    <tr>\n",
       "      <th>4</th>\n",
       "      <td>45.0</td>\n",
       "      <td>49.0</td>\n",
       "    </tr>\n",
       "    <tr>\n",
       "      <th>5</th>\n",
       "      <td>45.0</td>\n",
       "      <td>58.0</td>\n",
       "    </tr>\n",
       "    <tr>\n",
       "      <th>6</th>\n",
       "      <td>47.0</td>\n",
       "      <td>63.0</td>\n",
       "    </tr>\n",
       "    <tr>\n",
       "      <th>7</th>\n",
       "      <td>43.0</td>\n",
       "      <td>57.0</td>\n",
       "    </tr>\n",
       "  </tbody>\n",
       "</table>\n",
       "</div>"
      ],
      "text/plain": [
       "   CSM_fall  MUL_winter\n",
       "3      38.0        60.0\n",
       "4      45.0        49.0\n",
       "5      45.0        58.0\n",
       "6      47.0        63.0\n",
       "7      43.0        57.0"
      ]
     },
     "execution_count": 28,
     "metadata": {},
     "output_type": "execute_result"
    }
   ],
   "source": [
    "df.iloc[3:8, [3,4]]"
   ]
  },
  {
   "cell_type": "markdown",
   "id": "1ffeb76b",
   "metadata": {},
   "source": [
    "## `iloc` column selection?\n",
    "\n",
    "### Example\n",
    "\n",
    "Suppose we want to access the 9th column in `df`.\n",
    "In this case, we already know this column is the San Dieguito Wetland during spring."
   ]
  },
  {
   "cell_type": "code",
   "execution_count": 29,
   "id": "e6a08178",
   "metadata": {},
   "outputs": [
    {
     "data": {
      "application/vnd.microsoft.datawrangler.viewer.v0+json": {
       "columns": [
        {
         "name": "index",
         "rawType": "int64",
         "type": "integer"
        },
        {
         "name": "SDW_spring",
         "rawType": "float64",
         "type": "float"
        }
       ],
       "ref": "764b9abb-fc00-4d68-b6db-20df60c4f115",
       "rows": [
        [
         "0",
         "75.0"
        ],
        [
         "1",
         "74.0"
        ],
        [
         "2",
         "72.0"
        ],
        [
         "3",
         "70.0"
        ],
        [
         "4",
         "78.0"
        ],
        [
         "5",
         "61.0"
        ],
        [
         "6",
         "62.0"
        ],
        [
         "7",
         "45.0"
        ],
        [
         "8",
         "49.0"
        ],
        [
         "9",
         "55.0"
        ],
        [
         "10",
         null
        ],
        [
         "11",
         "58.0"
        ],
        [
         "12",
         "60.0"
        ],
        [
         "13",
         "63.0"
        ]
       ],
       "shape": {
        "columns": 1,
        "rows": 14
       }
      },
      "text/plain": [
       "0     75.0\n",
       "1     74.0\n",
       "2     72.0\n",
       "3     70.0\n",
       "4     78.0\n",
       "5     61.0\n",
       "6     62.0\n",
       "7     45.0\n",
       "8     49.0\n",
       "9     55.0\n",
       "10     NaN\n",
       "11    58.0\n",
       "12    60.0\n",
       "13    63.0\n",
       "Name: SDW_spring, dtype: float64"
      ]
     },
     "execution_count": 29,
     "metadata": {},
     "output_type": "execute_result"
    }
   ],
   "source": [
    "df.iloc[:,8]"
   ]
  },
  {
   "cell_type": "markdown",
   "id": "e59a4b58",
   "metadata": {},
   "source": []
  }
 ],
 "metadata": {
  "kernelspec": {
   "display_name": "EDS220",
   "language": "python",
   "name": "eds220-env"
  },
  "language_info": {
   "codemirror_mode": {
    "name": "ipython",
    "version": 3
   },
   "file_extension": ".py",
   "mimetype": "text/x-python",
   "name": "python",
   "nbconvert_exporter": "python",
   "pygments_lexer": "ipython3",
   "version": "3.11.4"
  }
 },
 "nbformat": 4,
 "nbformat_minor": 5
}
