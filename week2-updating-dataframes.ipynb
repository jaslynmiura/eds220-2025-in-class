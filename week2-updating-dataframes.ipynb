{
 "cells": [
  {
   "cell_type": "markdown",
   "id": "dfaa8f2c",
   "metadata": {},
   "source": [
    "# Updating data frames"
   ]
  },
  {
   "cell_type": "code",
   "execution_count": 1,
   "id": "a85fa16a",
   "metadata": {},
   "outputs": [],
   "source": [
    "import numpy as np\n",
    "import pandas as pd\n",
    "import random  # Used for randomly sampling integers\n",
    "\n",
    "# Set the seed\n",
    "random.seed(42)\n",
    "\n",
    "# Import data\n",
    "URL = 'https://raw.githubusercontent.com/allisonhorst/palmerpenguins/main/inst/extdata/penguins.csv'\n",
    "penguins = pd.read_csv(URL)"
   ]
  },
  {
   "cell_type": "markdown",
   "id": "a98febb0",
   "metadata": {},
   "source": [
    "## ... using dictionary-like syntax"
   ]
  },
  {
   "cell_type": "markdown",
   "id": "090d600e",
   "metadata": {},
   "source": [
    "`df['new_col_name'] = new_column_values`\n",
    "\n",
    "where the new_column_values could be:\n",
    "- a pandas.Seires or numpy.array of the same length as the data frame, or\n",
    "- a single scalar\n",
    "\n",
    "The general syntax is:\n",
    "# Add a new key-value pair to a dictionary\n",
    "```\n",
    "dict[new_key] = new_value\n",
    "```\n",
    "\n",
    "### Example"
   ]
  },
  {
   "cell_type": "code",
   "execution_count": 4,
   "id": "0a8ccd74",
   "metadata": {},
   "outputs": [
    {
     "name": "stdout",
     "output_type": "stream",
     "text": [
      "body_mass_kg is in the data frame's columns:  True\n"
     ]
    },
    {
     "data": {
      "application/vnd.microsoft.datawrangler.viewer.v0+json": {
       "columns": [
        {
         "name": "index",
         "rawType": "int64",
         "type": "integer"
        },
        {
         "name": "species",
         "rawType": "object",
         "type": "string"
        },
        {
         "name": "island",
         "rawType": "object",
         "type": "string"
        },
        {
         "name": "bill_length_mm",
         "rawType": "float64",
         "type": "float"
        },
        {
         "name": "bill_depth_mm",
         "rawType": "float64",
         "type": "float"
        },
        {
         "name": "flipper_length_mm",
         "rawType": "float64",
         "type": "float"
        },
        {
         "name": "body_mass_g",
         "rawType": "float64",
         "type": "float"
        },
        {
         "name": "sex",
         "rawType": "object",
         "type": "unknown"
        },
        {
         "name": "year",
         "rawType": "int64",
         "type": "integer"
        },
        {
         "name": "body_mass_kg",
         "rawType": "float64",
         "type": "float"
        }
       ],
       "ref": "359f8114-f790-4d00-a00a-965df16fcb4a",
       "rows": [
        [
         "0",
         "Adelie",
         "Torgersen",
         "39.1",
         "18.7",
         "181.0",
         "3750.0",
         "male",
         "2007",
         "3.75"
        ],
        [
         "1",
         "Adelie",
         "Torgersen",
         "39.5",
         "17.4",
         "186.0",
         "3800.0",
         "female",
         "2007",
         "3.8"
        ],
        [
         "2",
         "Adelie",
         "Torgersen",
         "40.3",
         "18.0",
         "195.0",
         "3250.0",
         "female",
         "2007",
         "3.25"
        ],
        [
         "3",
         "Adelie",
         "Torgersen",
         null,
         null,
         null,
         null,
         null,
         "2007",
         null
        ],
        [
         "4",
         "Adelie",
         "Torgersen",
         "36.7",
         "19.3",
         "193.0",
         "3450.0",
         "female",
         "2007",
         "3.45"
        ]
       ],
       "shape": {
        "columns": 9,
        "rows": 5
       }
      },
      "text/html": [
       "<div>\n",
       "<style scoped>\n",
       "    .dataframe tbody tr th:only-of-type {\n",
       "        vertical-align: middle;\n",
       "    }\n",
       "\n",
       "    .dataframe tbody tr th {\n",
       "        vertical-align: top;\n",
       "    }\n",
       "\n",
       "    .dataframe thead th {\n",
       "        text-align: right;\n",
       "    }\n",
       "</style>\n",
       "<table border=\"1\" class=\"dataframe\">\n",
       "  <thead>\n",
       "    <tr style=\"text-align: right;\">\n",
       "      <th></th>\n",
       "      <th>species</th>\n",
       "      <th>island</th>\n",
       "      <th>bill_length_mm</th>\n",
       "      <th>bill_depth_mm</th>\n",
       "      <th>flipper_length_mm</th>\n",
       "      <th>body_mass_g</th>\n",
       "      <th>sex</th>\n",
       "      <th>year</th>\n",
       "      <th>body_mass_kg</th>\n",
       "    </tr>\n",
       "  </thead>\n",
       "  <tbody>\n",
       "    <tr>\n",
       "      <th>0</th>\n",
       "      <td>Adelie</td>\n",
       "      <td>Torgersen</td>\n",
       "      <td>39.1</td>\n",
       "      <td>18.7</td>\n",
       "      <td>181.0</td>\n",
       "      <td>3750.0</td>\n",
       "      <td>male</td>\n",
       "      <td>2007</td>\n",
       "      <td>3.75</td>\n",
       "    </tr>\n",
       "    <tr>\n",
       "      <th>1</th>\n",
       "      <td>Adelie</td>\n",
       "      <td>Torgersen</td>\n",
       "      <td>39.5</td>\n",
       "      <td>17.4</td>\n",
       "      <td>186.0</td>\n",
       "      <td>3800.0</td>\n",
       "      <td>female</td>\n",
       "      <td>2007</td>\n",
       "      <td>3.80</td>\n",
       "    </tr>\n",
       "    <tr>\n",
       "      <th>2</th>\n",
       "      <td>Adelie</td>\n",
       "      <td>Torgersen</td>\n",
       "      <td>40.3</td>\n",
       "      <td>18.0</td>\n",
       "      <td>195.0</td>\n",
       "      <td>3250.0</td>\n",
       "      <td>female</td>\n",
       "      <td>2007</td>\n",
       "      <td>3.25</td>\n",
       "    </tr>\n",
       "    <tr>\n",
       "      <th>3</th>\n",
       "      <td>Adelie</td>\n",
       "      <td>Torgersen</td>\n",
       "      <td>NaN</td>\n",
       "      <td>NaN</td>\n",
       "      <td>NaN</td>\n",
       "      <td>NaN</td>\n",
       "      <td>NaN</td>\n",
       "      <td>2007</td>\n",
       "      <td>NaN</td>\n",
       "    </tr>\n",
       "    <tr>\n",
       "      <th>4</th>\n",
       "      <td>Adelie</td>\n",
       "      <td>Torgersen</td>\n",
       "      <td>36.7</td>\n",
       "      <td>19.3</td>\n",
       "      <td>193.0</td>\n",
       "      <td>3450.0</td>\n",
       "      <td>female</td>\n",
       "      <td>2007</td>\n",
       "      <td>3.45</td>\n",
       "    </tr>\n",
       "  </tbody>\n",
       "</table>\n",
       "</div>"
      ],
      "text/plain": [
       "  species     island  bill_length_mm  bill_depth_mm  flipper_length_mm  \\\n",
       "0  Adelie  Torgersen            39.1           18.7              181.0   \n",
       "1  Adelie  Torgersen            39.5           17.4              186.0   \n",
       "2  Adelie  Torgersen            40.3           18.0              195.0   \n",
       "3  Adelie  Torgersen             NaN            NaN                NaN   \n",
       "4  Adelie  Torgersen            36.7           19.3              193.0   \n",
       "\n",
       "   body_mass_g     sex  year  body_mass_kg  \n",
       "0       3750.0    male  2007          3.75  \n",
       "1       3800.0  female  2007          3.80  \n",
       "2       3250.0  female  2007          3.25  \n",
       "3          NaN     NaN  2007           NaN  \n",
       "4       3450.0  female  2007          3.45  "
      ]
     },
     "execution_count": 4,
     "metadata": {},
     "output_type": "execute_result"
    }
   ],
   "source": [
    "# Add new column body_mass_kg \n",
    "penguins['body_mass_kg'] = penguins['body_mass_g']/1000\n",
    "\n",
    "# Confirm the new column is in the data frame\n",
    "print(\"body_mass_kg is in the data frame's columns: \", 'body_mass_kg' in penguins.columns)\n",
    "\n",
    "# Look at the new column\n",
    "penguins.head()"
   ]
  },
  {
   "cell_type": "markdown",
   "id": "423e316c",
   "metadata": {},
   "source": [
    "### ... using the `assign()` method"
   ]
  },
  {
   "cell_type": "markdown",
   "id": "d1474610",
   "metadata": {},
   "source": [
    "The general syntax is :\n",
    "```\n",
    "df = df.assign(new_col_name=new_column_values)\n",
    "```"
   ]
  },
  {
   "cell_type": "code",
   "execution_count": 1,
   "id": "7f744cc7",
   "metadata": {},
   "outputs": [
    {
     "ename": "NameError",
     "evalue": "name 'penguins' is not defined",
     "output_type": "error",
     "traceback": [
      "\u001b[0;31m---------------------------------------------------------------------------\u001b[0m",
      "\u001b[0;31mNameError\u001b[0m                                 Traceback (most recent call last)",
      "Cell \u001b[0;32mIn[1], line 1\u001b[0m\n\u001b[0;32m----> 1\u001b[0m (\u001b[43mpenguins\u001b[49m\u001b[38;5;241m.\u001b[39massign(bill_length_cm\u001b[38;5;241m=\u001b[39mpenguins\u001b[38;5;241m.\u001b[39mbill_length_mm\u001b[38;5;241m/\u001b[39m\u001b[38;5;241m10\u001b[39m)\n\u001b[1;32m      2\u001b[0m         \u001b[38;5;241m.\u001b[39mplot(kind\u001b[38;5;241m=\u001b[39m\u001b[38;5;124m'\u001b[39m\u001b[38;5;124mscatter\u001b[39m\u001b[38;5;124m'\u001b[39m,\n\u001b[1;32m      3\u001b[0m               x\u001b[38;5;241m=\u001b[39m\u001b[38;5;124m'\u001b[39m\u001b[38;5;124mbill_length_cm\u001b[39m\u001b[38;5;124m'\u001b[39m, \n\u001b[1;32m      4\u001b[0m               y\u001b[38;5;241m=\u001b[39m\u001b[38;5;124m'\u001b[39m\u001b[38;5;124mbody_mass_g\u001b[39m\u001b[38;5;124m'\u001b[39m)\n\u001b[1;32m      5\u001b[0m     )\n",
      "\u001b[0;31mNameError\u001b[0m: name 'penguins' is not defined"
     ]
    }
   ],
   "source": [
    "(penguins.assign(bill_length_cm=penguins.bill_length_mm/10)\n",
    "        .plot(kind='scatter',\n",
    "              x='bill_length_cm', \n",
    "              y='body_mass_g')\n",
    "    )"
   ]
  },
  {
   "cell_type": "markdown",
   "id": "3d9e056f",
   "metadata": {},
   "source": [
    "### ... at a specific location\n",
    "General syntax:\n",
    "```\n",
    "df.insert(loc=integer_index,  # Location of new column\n",
    "          column='new_col_name', \n",
    "          value=new_col_values)\n",
    "```          \n"
   ]
  },
  {
   "cell_type": "markdown",
   "id": "ba01dcb8",
   "metadata": {},
   "source": [
    "## Example"
   ]
  },
  {
   "cell_type": "code",
   "execution_count": 6,
   "id": "76b402cb",
   "metadata": {},
   "outputs": [
    {
     "data": {
      "application/vnd.microsoft.datawrangler.viewer.v0+json": {
       "columns": [
        {
         "name": "index",
         "rawType": "int64",
         "type": "integer"
        },
        {
         "name": "id_code",
         "rawType": "int64",
         "type": "integer"
        },
        {
         "name": "species",
         "rawType": "object",
         "type": "string"
        },
        {
         "name": "island",
         "rawType": "object",
         "type": "string"
        },
        {
         "name": "bill_length_mm",
         "rawType": "float64",
         "type": "float"
        },
        {
         "name": "bill_depth_mm",
         "rawType": "float64",
         "type": "float"
        },
        {
         "name": "flipper_length_mm",
         "rawType": "float64",
         "type": "float"
        },
        {
         "name": "body_mass_g",
         "rawType": "float64",
         "type": "float"
        },
        {
         "name": "sex",
         "rawType": "object",
         "type": "unknown"
        },
        {
         "name": "year",
         "rawType": "int64",
         "type": "integer"
        },
        {
         "name": "body_mass_kg",
         "rawType": "float64",
         "type": "float"
        }
       ],
       "ref": "87fc57eb-6a92-4b9b-b274-961dad5aa8ba",
       "rows": [
        [
         "0",
         "754",
         "Adelie",
         "Torgersen",
         "39.1",
         "18.7",
         "181.0",
         "3750.0",
         "male",
         "2007",
         "3.75"
        ],
        [
         "1",
         "214",
         "Adelie",
         "Torgersen",
         "39.5",
         "17.4",
         "186.0",
         "3800.0",
         "female",
         "2007",
         "3.8"
        ],
        [
         "2",
         "125",
         "Adelie",
         "Torgersen",
         "40.3",
         "18.0",
         "195.0",
         "3250.0",
         "female",
         "2007",
         "3.25"
        ],
        [
         "3",
         "859",
         "Adelie",
         "Torgersen",
         null,
         null,
         null,
         null,
         null,
         "2007",
         null
        ],
        [
         "4",
         "381",
         "Adelie",
         "Torgersen",
         "36.7",
         "19.3",
         "193.0",
         "3450.0",
         "female",
         "2007",
         "3.45"
        ]
       ],
       "shape": {
        "columns": 10,
        "rows": 5
       }
      },
      "text/html": [
       "<div>\n",
       "<style scoped>\n",
       "    .dataframe tbody tr th:only-of-type {\n",
       "        vertical-align: middle;\n",
       "    }\n",
       "\n",
       "    .dataframe tbody tr th {\n",
       "        vertical-align: top;\n",
       "    }\n",
       "\n",
       "    .dataframe thead th {\n",
       "        text-align: right;\n",
       "    }\n",
       "</style>\n",
       "<table border=\"1\" class=\"dataframe\">\n",
       "  <thead>\n",
       "    <tr style=\"text-align: right;\">\n",
       "      <th></th>\n",
       "      <th>id_code</th>\n",
       "      <th>species</th>\n",
       "      <th>island</th>\n",
       "      <th>bill_length_mm</th>\n",
       "      <th>bill_depth_mm</th>\n",
       "      <th>flipper_length_mm</th>\n",
       "      <th>body_mass_g</th>\n",
       "      <th>sex</th>\n",
       "      <th>year</th>\n",
       "      <th>body_mass_kg</th>\n",
       "    </tr>\n",
       "  </thead>\n",
       "  <tbody>\n",
       "    <tr>\n",
       "      <th>0</th>\n",
       "      <td>754</td>\n",
       "      <td>Adelie</td>\n",
       "      <td>Torgersen</td>\n",
       "      <td>39.1</td>\n",
       "      <td>18.7</td>\n",
       "      <td>181.0</td>\n",
       "      <td>3750.0</td>\n",
       "      <td>male</td>\n",
       "      <td>2007</td>\n",
       "      <td>3.75</td>\n",
       "    </tr>\n",
       "    <tr>\n",
       "      <th>1</th>\n",
       "      <td>214</td>\n",
       "      <td>Adelie</td>\n",
       "      <td>Torgersen</td>\n",
       "      <td>39.5</td>\n",
       "      <td>17.4</td>\n",
       "      <td>186.0</td>\n",
       "      <td>3800.0</td>\n",
       "      <td>female</td>\n",
       "      <td>2007</td>\n",
       "      <td>3.80</td>\n",
       "    </tr>\n",
       "    <tr>\n",
       "      <th>2</th>\n",
       "      <td>125</td>\n",
       "      <td>Adelie</td>\n",
       "      <td>Torgersen</td>\n",
       "      <td>40.3</td>\n",
       "      <td>18.0</td>\n",
       "      <td>195.0</td>\n",
       "      <td>3250.0</td>\n",
       "      <td>female</td>\n",
       "      <td>2007</td>\n",
       "      <td>3.25</td>\n",
       "    </tr>\n",
       "    <tr>\n",
       "      <th>3</th>\n",
       "      <td>859</td>\n",
       "      <td>Adelie</td>\n",
       "      <td>Torgersen</td>\n",
       "      <td>NaN</td>\n",
       "      <td>NaN</td>\n",
       "      <td>NaN</td>\n",
       "      <td>NaN</td>\n",
       "      <td>NaN</td>\n",
       "      <td>2007</td>\n",
       "      <td>NaN</td>\n",
       "    </tr>\n",
       "    <tr>\n",
       "      <th>4</th>\n",
       "      <td>381</td>\n",
       "      <td>Adelie</td>\n",
       "      <td>Torgersen</td>\n",
       "      <td>36.7</td>\n",
       "      <td>19.3</td>\n",
       "      <td>193.0</td>\n",
       "      <td>3450.0</td>\n",
       "      <td>female</td>\n",
       "      <td>2007</td>\n",
       "      <td>3.45</td>\n",
       "    </tr>\n",
       "  </tbody>\n",
       "</table>\n",
       "</div>"
      ],
      "text/plain": [
       "   id_code species     island  bill_length_mm  bill_depth_mm  \\\n",
       "0      754  Adelie  Torgersen            39.1           18.7   \n",
       "1      214  Adelie  Torgersen            39.5           17.4   \n",
       "2      125  Adelie  Torgersen            40.3           18.0   \n",
       "3      859  Adelie  Torgersen             NaN            NaN   \n",
       "4      381  Adelie  Torgersen            36.7           19.3   \n",
       "\n",
       "   flipper_length_mm  body_mass_g     sex  year  body_mass_kg  \n",
       "0              181.0       3750.0    male  2007          3.75  \n",
       "1              186.0       3800.0  female  2007          3.80  \n",
       "2              195.0       3250.0  female  2007          3.25  \n",
       "3                NaN          NaN     NaN  2007           NaN  \n",
       "4              193.0       3450.0  female  2007          3.45  "
      ]
     },
     "execution_count": 6,
     "metadata": {},
     "output_type": "execute_result"
    }
   ],
   "source": [
    "# Create random 3-digit codes\n",
    "codes = random.sample(range(100,1000), len(penguins))  # Sampling w/o replacement\n",
    "\n",
    "# Insert codes at the front of data frame\n",
    "penguins.insert(loc=0,  # Index\n",
    "                column='id_code',\n",
    "                value=codes)\n",
    "        \n",
    "penguins.head()"
   ]
  },
  {
   "cell_type": "markdown",
   "id": "a8fbde86",
   "metadata": {},
   "source": [
    "## Adding multiple columns"
   ]
  },
  {
   "cell_type": "markdown",
   "id": "ca7a724d",
   "metadata": {},
   "source": [
    "The general syntax:\n",
    "\n",
    "```\n",
    "df = df.assign(new_col1_name=new_col1_values, \n",
    "               new_col2_name=new_col2_values)\n",
    "```\n"
   ]
  },
  {
   "cell_type": "markdown",
   "id": "9eca0490",
   "metadata": {},
   "source": [
    "### Example"
   ]
  },
  {
   "cell_type": "code",
   "execution_count": 7,
   "id": "82f04535",
   "metadata": {},
   "outputs": [
    {
     "data": {
      "application/vnd.microsoft.datawrangler.viewer.v0+json": {
       "columns": [
        {
         "name": "index",
         "rawType": "int64",
         "type": "integer"
        },
        {
         "name": "id_code",
         "rawType": "int64",
         "type": "integer"
        },
        {
         "name": "species",
         "rawType": "object",
         "type": "string"
        },
        {
         "name": "island",
         "rawType": "object",
         "type": "string"
        },
        {
         "name": "bill_length_mm",
         "rawType": "float64",
         "type": "float"
        },
        {
         "name": "bill_depth_mm",
         "rawType": "float64",
         "type": "float"
        },
        {
         "name": "flipper_length_mm",
         "rawType": "float64",
         "type": "float"
        },
        {
         "name": "body_mass_g",
         "rawType": "float64",
         "type": "float"
        },
        {
         "name": "sex",
         "rawType": "object",
         "type": "unknown"
        },
        {
         "name": "year",
         "rawType": "int64",
         "type": "integer"
        },
        {
         "name": "body_mass_kg",
         "rawType": "float64",
         "type": "float"
        },
        {
         "name": "flipper_length_cm",
         "rawType": "float64",
         "type": "float"
        },
        {
         "name": "observer",
         "rawType": "object",
         "type": "string"
        }
       ],
       "ref": "1dec7462-b45d-4dab-ab7b-e45da4d793c0",
       "rows": [
        [
         "0",
         "754",
         "Adelie",
         "Torgersen",
         "39.1",
         "18.7",
         "181.0",
         "3750.0",
         "male",
         "2007",
         "3.75",
         "18.1",
         "C"
        ],
        [
         "1",
         "214",
         "Adelie",
         "Torgersen",
         "39.5",
         "17.4",
         "186.0",
         "3800.0",
         "female",
         "2007",
         "3.8",
         "18.6",
         "A"
        ],
        [
         "2",
         "125",
         "Adelie",
         "Torgersen",
         "40.3",
         "18.0",
         "195.0",
         "3250.0",
         "female",
         "2007",
         "3.25",
         "19.5",
         "C"
        ],
        [
         "3",
         "859",
         "Adelie",
         "Torgersen",
         null,
         null,
         null,
         null,
         null,
         "2007",
         null,
         null,
         "A"
        ],
        [
         "4",
         "381",
         "Adelie",
         "Torgersen",
         "36.7",
         "19.3",
         "193.0",
         "3450.0",
         "female",
         "2007",
         "3.45",
         "19.3",
         "B"
        ]
       ],
       "shape": {
        "columns": 12,
        "rows": 5
       }
      },
      "text/html": [
       "<div>\n",
       "<style scoped>\n",
       "    .dataframe tbody tr th:only-of-type {\n",
       "        vertical-align: middle;\n",
       "    }\n",
       "\n",
       "    .dataframe tbody tr th {\n",
       "        vertical-align: top;\n",
       "    }\n",
       "\n",
       "    .dataframe thead th {\n",
       "        text-align: right;\n",
       "    }\n",
       "</style>\n",
       "<table border=\"1\" class=\"dataframe\">\n",
       "  <thead>\n",
       "    <tr style=\"text-align: right;\">\n",
       "      <th></th>\n",
       "      <th>id_code</th>\n",
       "      <th>species</th>\n",
       "      <th>island</th>\n",
       "      <th>bill_length_mm</th>\n",
       "      <th>bill_depth_mm</th>\n",
       "      <th>flipper_length_mm</th>\n",
       "      <th>body_mass_g</th>\n",
       "      <th>sex</th>\n",
       "      <th>year</th>\n",
       "      <th>body_mass_kg</th>\n",
       "      <th>flipper_length_cm</th>\n",
       "      <th>observer</th>\n",
       "    </tr>\n",
       "  </thead>\n",
       "  <tbody>\n",
       "    <tr>\n",
       "      <th>0</th>\n",
       "      <td>754</td>\n",
       "      <td>Adelie</td>\n",
       "      <td>Torgersen</td>\n",
       "      <td>39.1</td>\n",
       "      <td>18.7</td>\n",
       "      <td>181.0</td>\n",
       "      <td>3750.0</td>\n",
       "      <td>male</td>\n",
       "      <td>2007</td>\n",
       "      <td>3.75</td>\n",
       "      <td>18.1</td>\n",
       "      <td>C</td>\n",
       "    </tr>\n",
       "    <tr>\n",
       "      <th>1</th>\n",
       "      <td>214</td>\n",
       "      <td>Adelie</td>\n",
       "      <td>Torgersen</td>\n",
       "      <td>39.5</td>\n",
       "      <td>17.4</td>\n",
       "      <td>186.0</td>\n",
       "      <td>3800.0</td>\n",
       "      <td>female</td>\n",
       "      <td>2007</td>\n",
       "      <td>3.80</td>\n",
       "      <td>18.6</td>\n",
       "      <td>A</td>\n",
       "    </tr>\n",
       "    <tr>\n",
       "      <th>2</th>\n",
       "      <td>125</td>\n",
       "      <td>Adelie</td>\n",
       "      <td>Torgersen</td>\n",
       "      <td>40.3</td>\n",
       "      <td>18.0</td>\n",
       "      <td>195.0</td>\n",
       "      <td>3250.0</td>\n",
       "      <td>female</td>\n",
       "      <td>2007</td>\n",
       "      <td>3.25</td>\n",
       "      <td>19.5</td>\n",
       "      <td>C</td>\n",
       "    </tr>\n",
       "    <tr>\n",
       "      <th>3</th>\n",
       "      <td>859</td>\n",
       "      <td>Adelie</td>\n",
       "      <td>Torgersen</td>\n",
       "      <td>NaN</td>\n",
       "      <td>NaN</td>\n",
       "      <td>NaN</td>\n",
       "      <td>NaN</td>\n",
       "      <td>NaN</td>\n",
       "      <td>2007</td>\n",
       "      <td>NaN</td>\n",
       "      <td>NaN</td>\n",
       "      <td>A</td>\n",
       "    </tr>\n",
       "    <tr>\n",
       "      <th>4</th>\n",
       "      <td>381</td>\n",
       "      <td>Adelie</td>\n",
       "      <td>Torgersen</td>\n",
       "      <td>36.7</td>\n",
       "      <td>19.3</td>\n",
       "      <td>193.0</td>\n",
       "      <td>3450.0</td>\n",
       "      <td>female</td>\n",
       "      <td>2007</td>\n",
       "      <td>3.45</td>\n",
       "      <td>19.3</td>\n",
       "      <td>B</td>\n",
       "    </tr>\n",
       "  </tbody>\n",
       "</table>\n",
       "</div>"
      ],
      "text/plain": [
       "   id_code species     island  bill_length_mm  bill_depth_mm  \\\n",
       "0      754  Adelie  Torgersen            39.1           18.7   \n",
       "1      214  Adelie  Torgersen            39.5           17.4   \n",
       "2      125  Adelie  Torgersen            40.3           18.0   \n",
       "3      859  Adelie  Torgersen             NaN            NaN   \n",
       "4      381  Adelie  Torgersen            36.7           19.3   \n",
       "\n",
       "   flipper_length_mm  body_mass_g     sex  year  body_mass_kg  \\\n",
       "0              181.0       3750.0    male  2007          3.75   \n",
       "1              186.0       3800.0  female  2007          3.80   \n",
       "2              195.0       3250.0  female  2007          3.25   \n",
       "3                NaN          NaN     NaN  2007           NaN   \n",
       "4              193.0       3450.0  female  2007          3.45   \n",
       "\n",
       "   flipper_length_cm observer  \n",
       "0               18.1        C  \n",
       "1               18.6        A  \n",
       "2               19.5        C  \n",
       "3                NaN        A  \n",
       "4               19.3        B  "
      ]
     },
     "execution_count": 7,
     "metadata": {},
     "output_type": "execute_result"
    }
   ],
   "source": [
    "# Create columns with observer codes and flipper length in cm\n",
    "penguins = penguins.assign(flipper_length_cm=penguins.flipper_length_mm/10, \n",
    "                           observer=random.choices(['A','B','C'],  # Sample with replacement\n",
    "                                                    k=len(penguins))\n",
    "                          )\n",
    "# Examine result\n",
    "penguins.head()"
   ]
  },
  {
   "cell_type": "markdown",
   "id": "e040e20c",
   "metadata": {},
   "source": [
    "## Removing columns\n",
    "\n",
    "Using the `drop()` method, the general syntax is:\n",
    "```\n",
    "df = df.drop(columns=col_names)\n",
    "```\n",
    "\n",
    "### Example"
   ]
  },
  {
   "cell_type": "code",
   "execution_count": 8,
   "id": "043778dd",
   "metadata": {},
   "outputs": [
    {
     "name": "stdout",
     "output_type": "stream",
     "text": [
      "Index(['id_code', 'species', 'island', 'bill_length_mm', 'bill_depth_mm',\n",
      "       'sex', 'year', 'body_mass_kg', 'flipper_length_cm', 'observer'],\n",
      "      dtype='object')\n"
     ]
    }
   ],
   "source": [
    "# Remove duplicate length and mass measurements\n",
    "penguins = penguins.drop(columns=['flipper_length_mm','body_mass_g'])\n",
    "\n",
    "# Confirm result\n",
    "print(penguins.columns)"
   ]
  },
  {
   "cell_type": "markdown",
   "id": "6b8f4f61",
   "metadata": {},
   "source": [
    "## Updating values\n",
    "\n",
    "### A single valule\n",
    "Using the locators:\n",
    "- `at[]` to select by labels, or\n",
    "- `iat[]` to select by position\n",
    "\n",
    "The syntax for `at[]` is:\n",
    "```\n",
    "df.at[single_index_value, 'column_name']\n",
    "```\n",
    "\n",
    "`at[]` is similar to `loc[]`\n",
    "\n",
    "### Example\n"
   ]
  },
  {
   "cell_type": "code",
   "execution_count": 9,
   "id": "1bbbabdd",
   "metadata": {},
   "outputs": [
    {
     "data": {
      "application/vnd.microsoft.datawrangler.viewer.v0+json": {
       "columns": [
        {
         "name": "index",
         "rawType": "object",
         "type": "string"
        },
        {
         "name": "859",
         "rawType": "object",
         "type": "unknown"
        }
       ],
       "ref": "70c74dd9-942c-4fd0-bf62-3fd92b64f52a",
       "rows": [
        [
         "species",
         "Adelie"
        ],
        [
         "island",
         "Torgersen"
        ],
        [
         "bill_length_mm",
         "38.3"
        ],
        [
         "bill_depth_mm",
         null
        ],
        [
         "sex",
         null
        ],
        [
         "year",
         "2007"
        ],
        [
         "body_mass_kg",
         null
        ],
        [
         "flipper_length_cm",
         null
        ],
        [
         "observer",
         "A"
        ]
       ],
       "shape": {
        "columns": 1,
        "rows": 9
       }
      },
      "text/plain": [
       "species                 Adelie\n",
       "island               Torgersen\n",
       "bill_length_mm            38.3\n",
       "bill_depth_mm              NaN\n",
       "sex                        NaN\n",
       "year                      2007\n",
       "body_mass_kg               NaN\n",
       "flipper_length_cm          NaN\n",
       "observer                     A\n",
       "Name: 859, dtype: object"
      ]
     },
     "execution_count": 9,
     "metadata": {},
     "output_type": "execute_result"
    }
   ],
   "source": [
    "# First update the index of the data frame to be id_code\n",
    "penguins = penguins.set_index('id_code')\n",
    "\n",
    "# Check bill length of penguin with ID 859\n",
    "penguins.at[859, 'bill_length_mm']\n",
    "\n",
    "# Correct bill length value of penguin with ID 859\n",
    "penguins.at[859,'bill_length_mm'] = 38.3\n",
    "\n",
    "# Confirm value was updated\n",
    "penguins.loc[859]"
   ]
  },
  {
   "cell_type": "markdown",
   "id": "93ec7235",
   "metadata": {},
   "source": [
    "The syntax for `iat[]` is: \n",
    "```\n",
    "df.iat[index_integer_location, column_integer_location]\n",
    "```\n",
    "`iat[]` is similar to `iloc[]`\n"
   ]
  },
  {
   "cell_type": "markdown",
   "id": "fc72a606",
   "metadata": {},
   "source": [
    "# Check-in\n"
   ]
  },
  {
   "cell_type": "markdown",
   "id": "3b83fbce",
   "metadata": {},
   "source": [
    "1. Obtain the location of the bill_length_mm column."
   ]
  },
  {
   "cell_type": "markdown",
   "id": "9c3f6620",
   "metadata": {},
   "source": [
    "2. Use iat[] to access the same bill length value for the penguin with ID 859 and revert it back to an NA. Confirm your update using iloc[]."
   ]
  },
  {
   "cell_type": "markdown",
   "id": "e8a1e2d4",
   "metadata": {},
   "source": [
    "## Multiple values in a column\n",
    "Updating multiple values in a column\n",
    "- condition on the column values\n",
    "- selecting a few values \n",
    "\n",
    "### Using a conditon\n",
    "Creating a new column where the new values depend on conditions on another column\n",
    "\n",
    "### Example\n",
    "We want to classify the Palmer penguins such that :\n",
    "\n",
    "- penguins with body mass less than 3kg as small,\n",
    "- penguins with body mass greater or equal than 3 kg but less than 5 kg as medium,\n",
    "- and those with body mass greater or equal than 5 kg as large.\n"
   ]
  },
  {
   "cell_type": "code",
   "execution_count": 10,
   "id": "da49cd09",
   "metadata": {},
   "outputs": [
    {
     "data": {
      "application/vnd.microsoft.datawrangler.viewer.v0+json": {
       "columns": [
        {
         "name": "id_code",
         "rawType": "int64",
         "type": "integer"
        },
        {
         "name": "species",
         "rawType": "object",
         "type": "string"
        },
        {
         "name": "island",
         "rawType": "object",
         "type": "string"
        },
        {
         "name": "bill_length_mm",
         "rawType": "float64",
         "type": "float"
        },
        {
         "name": "bill_depth_mm",
         "rawType": "float64",
         "type": "float"
        },
        {
         "name": "sex",
         "rawType": "object",
         "type": "unknown"
        },
        {
         "name": "year",
         "rawType": "int64",
         "type": "integer"
        },
        {
         "name": "body_mass_kg",
         "rawType": "float64",
         "type": "float"
        },
        {
         "name": "flipper_length_cm",
         "rawType": "float64",
         "type": "float"
        },
        {
         "name": "observer",
         "rawType": "object",
         "type": "string"
        },
        {
         "name": "size",
         "rawType": "object",
         "type": "string"
        }
       ],
       "ref": "c5bb5ca9-6ea2-4021-be91-3dee79d972b1",
       "rows": [
        [
         "754",
         "Adelie",
         "Torgersen",
         "39.1",
         "18.7",
         "male",
         "2007",
         "3.75",
         "18.1",
         "C",
         "medium"
        ],
        [
         "214",
         "Adelie",
         "Torgersen",
         "39.5",
         "17.4",
         "female",
         "2007",
         "3.8",
         "18.6",
         "A",
         "medium"
        ],
        [
         "125",
         "Adelie",
         "Torgersen",
         "40.3",
         "18.0",
         "female",
         "2007",
         "3.25",
         "19.5",
         "C",
         "medium"
        ],
        [
         "859",
         "Adelie",
         "Torgersen",
         "38.3",
         null,
         null,
         "2007",
         null,
         null,
         "A",
         "nan"
        ],
        [
         "381",
         "Adelie",
         "Torgersen",
         "36.7",
         "19.3",
         "female",
         "2007",
         "3.45",
         "19.3",
         "B",
         "medium"
        ]
       ],
       "shape": {
        "columns": 10,
        "rows": 5
       }
      },
      "text/html": [
       "<div>\n",
       "<style scoped>\n",
       "    .dataframe tbody tr th:only-of-type {\n",
       "        vertical-align: middle;\n",
       "    }\n",
       "\n",
       "    .dataframe tbody tr th {\n",
       "        vertical-align: top;\n",
       "    }\n",
       "\n",
       "    .dataframe thead th {\n",
       "        text-align: right;\n",
       "    }\n",
       "</style>\n",
       "<table border=\"1\" class=\"dataframe\">\n",
       "  <thead>\n",
       "    <tr style=\"text-align: right;\">\n",
       "      <th></th>\n",
       "      <th>species</th>\n",
       "      <th>island</th>\n",
       "      <th>bill_length_mm</th>\n",
       "      <th>bill_depth_mm</th>\n",
       "      <th>sex</th>\n",
       "      <th>year</th>\n",
       "      <th>body_mass_kg</th>\n",
       "      <th>flipper_length_cm</th>\n",
       "      <th>observer</th>\n",
       "      <th>size</th>\n",
       "    </tr>\n",
       "    <tr>\n",
       "      <th>id_code</th>\n",
       "      <th></th>\n",
       "      <th></th>\n",
       "      <th></th>\n",
       "      <th></th>\n",
       "      <th></th>\n",
       "      <th></th>\n",
       "      <th></th>\n",
       "      <th></th>\n",
       "      <th></th>\n",
       "      <th></th>\n",
       "    </tr>\n",
       "  </thead>\n",
       "  <tbody>\n",
       "    <tr>\n",
       "      <th>754</th>\n",
       "      <td>Adelie</td>\n",
       "      <td>Torgersen</td>\n",
       "      <td>39.1</td>\n",
       "      <td>18.7</td>\n",
       "      <td>male</td>\n",
       "      <td>2007</td>\n",
       "      <td>3.75</td>\n",
       "      <td>18.1</td>\n",
       "      <td>C</td>\n",
       "      <td>medium</td>\n",
       "    </tr>\n",
       "    <tr>\n",
       "      <th>214</th>\n",
       "      <td>Adelie</td>\n",
       "      <td>Torgersen</td>\n",
       "      <td>39.5</td>\n",
       "      <td>17.4</td>\n",
       "      <td>female</td>\n",
       "      <td>2007</td>\n",
       "      <td>3.80</td>\n",
       "      <td>18.6</td>\n",
       "      <td>A</td>\n",
       "      <td>medium</td>\n",
       "    </tr>\n",
       "    <tr>\n",
       "      <th>125</th>\n",
       "      <td>Adelie</td>\n",
       "      <td>Torgersen</td>\n",
       "      <td>40.3</td>\n",
       "      <td>18.0</td>\n",
       "      <td>female</td>\n",
       "      <td>2007</td>\n",
       "      <td>3.25</td>\n",
       "      <td>19.5</td>\n",
       "      <td>C</td>\n",
       "      <td>medium</td>\n",
       "    </tr>\n",
       "    <tr>\n",
       "      <th>859</th>\n",
       "      <td>Adelie</td>\n",
       "      <td>Torgersen</td>\n",
       "      <td>38.3</td>\n",
       "      <td>NaN</td>\n",
       "      <td>NaN</td>\n",
       "      <td>2007</td>\n",
       "      <td>NaN</td>\n",
       "      <td>NaN</td>\n",
       "      <td>A</td>\n",
       "      <td>nan</td>\n",
       "    </tr>\n",
       "    <tr>\n",
       "      <th>381</th>\n",
       "      <td>Adelie</td>\n",
       "      <td>Torgersen</td>\n",
       "      <td>36.7</td>\n",
       "      <td>19.3</td>\n",
       "      <td>female</td>\n",
       "      <td>2007</td>\n",
       "      <td>3.45</td>\n",
       "      <td>19.3</td>\n",
       "      <td>B</td>\n",
       "      <td>medium</td>\n",
       "    </tr>\n",
       "  </tbody>\n",
       "</table>\n",
       "</div>"
      ],
      "text/plain": [
       "        species     island  bill_length_mm  bill_depth_mm     sex  year  \\\n",
       "id_code                                                                   \n",
       "754      Adelie  Torgersen            39.1           18.7    male  2007   \n",
       "214      Adelie  Torgersen            39.5           17.4  female  2007   \n",
       "125      Adelie  Torgersen            40.3           18.0  female  2007   \n",
       "859      Adelie  Torgersen            38.3            NaN     NaN  2007   \n",
       "381      Adelie  Torgersen            36.7           19.3  female  2007   \n",
       "\n",
       "         body_mass_kg  flipper_length_cm observer    size  \n",
       "id_code                                                    \n",
       "754              3.75               18.1        C  medium  \n",
       "214              3.80               18.6        A  medium  \n",
       "125              3.25               19.5        C  medium  \n",
       "859               NaN                NaN        A     nan  \n",
       "381              3.45               19.3        B  medium  "
      ]
     },
     "execution_count": 10,
     "metadata": {},
     "output_type": "execute_result"
    }
   ],
   "source": [
    "# Create a list with the conditions\n",
    "conditions = [penguins.body_mass_kg < 3, \n",
    "              (3 <= penguins.body_mass_kg) & (penguins.body_mass_kg < 5),\n",
    "              5 <= penguins.body_mass_kg]\n",
    "\n",
    "# Create a list with the choices\n",
    "choices = [\"small\",\n",
    "           \"medium\",\n",
    "           \"large\"]\n",
    "\n",
    "# Add the selections using np.select\n",
    "penguins['size'] = np.select(conditions, \n",
    "                             choices, \n",
    "                             default=np.nan) # Value for anything outside conditions\n",
    "\n",
    "# Display the updated data frame to confirm the new column\n",
    "penguins.head()"
   ]
  },
  {
   "cell_type": "markdown",
   "id": "7a44769d",
   "metadata": {},
   "source": [
    "### By selecting values \n",
    "The general syntax: \n",
    "```\n",
    "df.loc[row_selection, column_name] = new_values\n",
    "```\n",
    "where\n",
    "\n",
    "- row_selection is the rows we want to update, this can be any expression that gives us a boolean pandas.Series,\n",
    "- col_name is a single column name, and\n",
    "- new_values is the new value or values we want. If using multiple values, then new_values must be of the same length as the number of rows selected.\n",
    "\n",
    "Using `loc[]` in assignment modifies the data frame directly without the need for reassignment\n",
    "\n",
    "### Example\n",
    "We want to update the \"male\" values in the sex column to \"M\"."
   ]
  },
  {
   "cell_type": "code",
   "execution_count": 11,
   "id": "38d828e6",
   "metadata": {},
   "outputs": [
    {
     "name": "stdout",
     "output_type": "stream",
     "text": [
      "['M' 'female' nan]\n"
     ]
    }
   ],
   "source": [
    "# Select rows with sex=male and simplify values in 'sex' column\n",
    "penguins.loc[penguins.sex=='male', 'sex'] = 'M'\n",
    "\n",
    "# Check changes in 'sex' column specifically\n",
    "print(penguins['sex'].unique())"
   ]
  },
  {
   "cell_type": "markdown",
   "id": "6cabc77c",
   "metadata": {},
   "source": [
    "# Check-in\n",
    "Update the \"female\" values in the penguin data frame to \"F\". Don't use chained indexing. Confirm that the values in the column were updated."
   ]
  },
  {
   "cell_type": "markdown",
   "id": "22a9b447",
   "metadata": {},
   "source": [
    "## Example\n",
    "We only want to use data from Biscoe island and, after doing some analyses, we want to add a new column to it:"
   ]
  },
  {
   "cell_type": "code",
   "execution_count": null,
   "id": "65e9479a",
   "metadata": {},
   "outputs": [],
   "source": [
    "# Select penguins from Biscoe island\n",
    "biscoe = penguins[penguins.island=='Biscoe']\n",
    "\n",
    "# ... Other analyses ...\n",
    "\n",
    "# Add a column\n",
    "biscoe['sample_col'] = 100  # This raises SettingWithCopyWarning"
   ]
  },
  {
   "cell_type": "code",
   "execution_count": 12,
   "id": "d78b75c0",
   "metadata": {},
   "outputs": [],
   "source": [
    "# Make sure you get an independent data frame that won't alter the original\n",
    "biscoe = penguins[penguins.island=='Biscoe'].copy()\n",
    "\n",
    "# Add a column, no warning\n",
    "biscoe['sample_col'] = 100"
   ]
  },
  {
   "cell_type": "code",
   "execution_count": null,
   "id": "216874e9",
   "metadata": {},
   "outputs": [],
   "source": [
    "# Confirm the new column is in our subset data\n",
    "biscoe.head()"
   ]
  },
  {
   "cell_type": "code",
   "execution_count": null,
   "id": "17577332",
   "metadata": {},
   "outputs": [],
   "source": [
    "# Confirm that original data was not modified\n",
    "print('sample_column' in penguins.columns)"
   ]
  }
 ],
 "metadata": {
  "kernelspec": {
   "display_name": "EDS220",
   "language": "python",
   "name": "eds220-env"
  },
  "language_info": {
   "codemirror_mode": {
    "name": "ipython",
    "version": 3
   },
   "file_extension": ".py",
   "mimetype": "text/x-python",
   "name": "python",
   "nbconvert_exporter": "python",
   "pygments_lexer": "ipython3",
   "version": "3.11.4"
  }
 },
 "nbformat": 4,
 "nbformat_minor": 5
}
