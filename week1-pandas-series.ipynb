{
 "cells": [
  {
   "cell_type": "code",
   "execution_count": 1,
   "id": "484d8853-6b13-44ce-ba97-e31bc15aa2ea",
   "metadata": {
    "tags": []
   },
   "outputs": [],
   "source": [
    "import pandas as pd\n",
    "import numpy as np"
   ]
  },
  {
   "cell_type": "markdown",
   "id": "1234cedd-08e7-4880-b392-c31e46495445",
   "metadata": {},
   "source": [
    "# Check-in #1\n",
    "\n",
    "The integer number -999 is often used to represent missing values. Create a pandas.Series named s with four integer values, two of which are -999. The index of this series should be the the letters A through D."
   ]
  },
  {
   "cell_type": "code",
   "execution_count": 4,
   "id": "2bdd6908-c395-47e1-9f96-e29ada425346",
   "metadata": {
    "tags": []
   },
   "outputs": [
    {
     "name": "stdout",
     "output_type": "stream",
     "text": [
      "A     NaN\n",
      "B     2.0\n",
      "C    23.0\n",
      "D     NaN\n",
      "dtype: float64\n"
     ]
    }
   ],
   "source": [
    "s = pd.Series([np.nan, 2, 23, np.nan], index = ['A', 'B', 'C', 'D'])\n",
    "print(s)"
   ]
  },
  {
   "cell_type": "code",
   "execution_count": null,
   "id": "62244f35-c0be-4fbe-9cc1-f6cce1128ae5",
   "metadata": {},
   "outputs": [],
   "source": []
  }
 ],
 "metadata": {
  "kernelspec": {
   "display_name": "EDS220",
   "language": "python",
   "name": "eds220-env"
  },
  "language_info": {
   "codemirror_mode": {
    "name": "ipython",
    "version": 3
   },
   "file_extension": ".py",
   "mimetype": "text/x-python",
   "name": "python",
   "nbconvert_exporter": "python",
   "pygments_lexer": "ipython3",
   "version": "3.11.4"
  }
 },
 "nbformat": 4,
 "nbformat_minor": 5
}
