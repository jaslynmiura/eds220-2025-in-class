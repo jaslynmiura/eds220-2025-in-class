{
 "cells": [
  {
   "cell_type": "markdown",
   "id": "2312a824",
   "metadata": {},
   "source": [
    "# Time seires\n",
    "\n",
    "## Timestamps\n",
    "\n",
    "`pandas` represents an instant in time using the `pandas.Timestamp` class:\n"
   ]
  },
  {
   "cell_type": "code",
   "execution_count": 18,
   "id": "90e5e7d9",
   "metadata": {},
   "outputs": [
    {
     "data": {
      "text/plain": [
       "Timestamp('2020-10-18 12:30:15')"
      ]
     },
     "execution_count": 18,
     "metadata": {},
     "output_type": "execute_result"
    }
   ],
   "source": [
    "import pandas as pd\n",
    "# Create a timestamp\n",
    "pd.Timestamp(year=2020, \n",
    "             month=10, \n",
    "             day=18, \n",
    "             hour=12, \n",
    "             minute=30, \n",
    "             second=15)"
   ]
  },
  {
   "cell_type": "code",
   "execution_count": 19,
   "id": "5c6acdd6",
   "metadata": {},
   "outputs": [
    {
     "data": {
      "application/vnd.microsoft.datawrangler.viewer.v0+json": {
       "columns": [
        {
         "name": "index",
         "rawType": "int64",
         "type": "integer"
        },
        {
         "name": "STATION",
         "rawType": "object",
         "type": "string"
        },
        {
         "name": "STATION_NAME",
         "rawType": "object",
         "type": "string"
        },
        {
         "name": "DATE",
         "rawType": "object",
         "type": "string"
        },
        {
         "name": "HPCP",
         "rawType": "float64",
         "type": "float"
        },
        {
         "name": "Measurement Flag",
         "rawType": "object",
         "type": "string"
        },
        {
         "name": "Quality Flag",
         "rawType": "object",
         "type": "string"
        }
       ],
       "ref": "09c19538-c41d-43a6-86f8-29ee90ef7e95",
       "rows": [
        [
         "0",
         "COOP:055881",
         "NEDERLAND 5 NNW CO US",
         "20000101 00:00",
         "999.99",
         "]",
         " "
        ],
        [
         "1",
         "COOP:055881",
         "NEDERLAND 5 NNW CO US",
         "20000101 01:00",
         "0.0",
         "g",
         " "
        ],
        [
         "2",
         "COOP:055881",
         "NEDERLAND 5 NNW CO US",
         "20000102 20:00",
         "0.0",
         " ",
         "q"
        ],
        [
         "3",
         "COOP:055881",
         "NEDERLAND 5 NNW CO US",
         "20000103 01:00",
         "0.0",
         " ",
         "q"
        ],
        [
         "4",
         "COOP:055881",
         "NEDERLAND 5 NNW CO US",
         "20000103 05:00",
         "0.0",
         " ",
         "q"
        ]
       ],
       "shape": {
        "columns": 6,
        "rows": 5
       }
      },
      "text/html": [
       "<div>\n",
       "<style scoped>\n",
       "    .dataframe tbody tr th:only-of-type {\n",
       "        vertical-align: middle;\n",
       "    }\n",
       "\n",
       "    .dataframe tbody tr th {\n",
       "        vertical-align: top;\n",
       "    }\n",
       "\n",
       "    .dataframe thead th {\n",
       "        text-align: right;\n",
       "    }\n",
       "</style>\n",
       "<table border=\"1\" class=\"dataframe\">\n",
       "  <thead>\n",
       "    <tr style=\"text-align: right;\">\n",
       "      <th></th>\n",
       "      <th>STATION</th>\n",
       "      <th>STATION_NAME</th>\n",
       "      <th>DATE</th>\n",
       "      <th>HPCP</th>\n",
       "      <th>Measurement Flag</th>\n",
       "      <th>Quality Flag</th>\n",
       "    </tr>\n",
       "  </thead>\n",
       "  <tbody>\n",
       "    <tr>\n",
       "      <th>0</th>\n",
       "      <td>COOP:055881</td>\n",
       "      <td>NEDERLAND 5 NNW CO US</td>\n",
       "      <td>20000101 00:00</td>\n",
       "      <td>999.99</td>\n",
       "      <td>]</td>\n",
       "      <td></td>\n",
       "    </tr>\n",
       "    <tr>\n",
       "      <th>1</th>\n",
       "      <td>COOP:055881</td>\n",
       "      <td>NEDERLAND 5 NNW CO US</td>\n",
       "      <td>20000101 01:00</td>\n",
       "      <td>0.00</td>\n",
       "      <td>g</td>\n",
       "      <td></td>\n",
       "    </tr>\n",
       "    <tr>\n",
       "      <th>2</th>\n",
       "      <td>COOP:055881</td>\n",
       "      <td>NEDERLAND 5 NNW CO US</td>\n",
       "      <td>20000102 20:00</td>\n",
       "      <td>0.00</td>\n",
       "      <td></td>\n",
       "      <td>q</td>\n",
       "    </tr>\n",
       "    <tr>\n",
       "      <th>3</th>\n",
       "      <td>COOP:055881</td>\n",
       "      <td>NEDERLAND 5 NNW CO US</td>\n",
       "      <td>20000103 01:00</td>\n",
       "      <td>0.00</td>\n",
       "      <td></td>\n",
       "      <td>q</td>\n",
       "    </tr>\n",
       "    <tr>\n",
       "      <th>4</th>\n",
       "      <td>COOP:055881</td>\n",
       "      <td>NEDERLAND 5 NNW CO US</td>\n",
       "      <td>20000103 05:00</td>\n",
       "      <td>0.00</td>\n",
       "      <td></td>\n",
       "      <td>q</td>\n",
       "    </tr>\n",
       "  </tbody>\n",
       "</table>\n",
       "</div>"
      ],
      "text/plain": [
       "       STATION           STATION_NAME            DATE    HPCP  \\\n",
       "0  COOP:055881  NEDERLAND 5 NNW CO US  20000101 00:00  999.99   \n",
       "1  COOP:055881  NEDERLAND 5 NNW CO US  20000101 01:00    0.00   \n",
       "2  COOP:055881  NEDERLAND 5 NNW CO US  20000102 20:00    0.00   \n",
       "3  COOP:055881  NEDERLAND 5 NNW CO US  20000103 01:00    0.00   \n",
       "4  COOP:055881  NEDERLAND 5 NNW CO US  20000103 05:00    0.00   \n",
       "\n",
       "  Measurement Flag Quality Flag  \n",
       "0                ]               \n",
       "1                g               \n",
       "2                             q  \n",
       "3                             q  \n",
       "4                             q  "
      ]
     },
     "execution_count": 19,
     "metadata": {},
     "output_type": "execute_result"
    }
   ],
   "source": [
    "# Read in data \n",
    "URL = 'https://raw.githubusercontent.com/carmengg/eds-220-book/main/data/boulder_colorado_2013_hourly_precipitation.csv'\n",
    "precip = pd.read_csv(URL)\n",
    "\n",
    "precip.head()"
   ]
  },
  {
   "cell_type": "code",
   "execution_count": 20,
   "id": "5635ee31",
   "metadata": {},
   "outputs": [
    {
     "data": {
      "text/plain": [
       "<Axes: >"
      ]
     },
     "execution_count": 20,
     "metadata": {},
     "output_type": "execute_result"
    },
    {
     "data": {
      "image/png": "[encoded data removed]",
      "text/plain": [
       "<Figure size 640x480 with 1 Axes>"
      ]
     },
     "metadata": {},
     "output_type": "display_data"
    }
   ],
   "source": [
    "# Plotting hourly precipitation in Boulder, Co\n",
    "precip.plot()"
   ]
  },
  {
   "cell_type": "markdown",
   "id": "946dd9c7",
   "metadata": {},
   "source": [
    "## Reading in missing data values\n",
    "\n",
    "Metadata indicated missing values are 999.99.\n",
    "\n",
    "We can directly read in this value as an NA values using `pd.read_csv`"
   ]
  },
  {
   "cell_type": "code",
   "execution_count": 21,
   "id": "ab3e554b",
   "metadata": {},
   "outputs": [
    {
     "data": {
      "application/vnd.microsoft.datawrangler.viewer.v0+json": {
       "columns": [
        {
         "name": "index",
         "rawType": "int64",
         "type": "integer"
        },
        {
         "name": "STATION",
         "rawType": "object",
         "type": "string"
        },
        {
         "name": "STATION_NAME",
         "rawType": "object",
         "type": "string"
        },
        {
         "name": "DATE",
         "rawType": "object",
         "type": "string"
        },
        {
         "name": "HPCP",
         "rawType": "float64",
         "type": "float"
        },
        {
         "name": "Measurement Flag",
         "rawType": "object",
         "type": "string"
        },
        {
         "name": "Quality Flag",
         "rawType": "object",
         "type": "string"
        }
       ],
       "ref": "fb45dbe6-821a-404e-8329-03cdf325ccbd",
       "rows": [
        [
         "0",
         "COOP:055881",
         "NEDERLAND 5 NNW CO US",
         "20000101 00:00",
         null,
         "]",
         " "
        ],
        [
         "1",
         "COOP:055881",
         "NEDERLAND 5 NNW CO US",
         "20000101 01:00",
         "0.0",
         "g",
         " "
        ],
        [
         "2",
         "COOP:055881",
         "NEDERLAND 5 NNW CO US",
         "20000102 20:00",
         "0.0",
         " ",
         "q"
        ],
        [
         "3",
         "COOP:055881",
         "NEDERLAND 5 NNW CO US",
         "20000103 01:00",
         "0.0",
         " ",
         "q"
        ],
        [
         "4",
         "COOP:055881",
         "NEDERLAND 5 NNW CO US",
         "20000103 05:00",
         "0.0",
         " ",
         "q"
        ]
       ],
       "shape": {
        "columns": 6,
        "rows": 5
       }
      },
      "text/html": [
       "<div>\n",
       "<style scoped>\n",
       "    .dataframe tbody tr th:only-of-type {\n",
       "        vertical-align: middle;\n",
       "    }\n",
       "\n",
       "    .dataframe tbody tr th {\n",
       "        vertical-align: top;\n",
       "    }\n",
       "\n",
       "    .dataframe thead th {\n",
       "        text-align: right;\n",
       "    }\n",
       "</style>\n",
       "<table border=\"1\" class=\"dataframe\">\n",
       "  <thead>\n",
       "    <tr style=\"text-align: right;\">\n",
       "      <th></th>\n",
       "      <th>STATION</th>\n",
       "      <th>STATION_NAME</th>\n",
       "      <th>DATE</th>\n",
       "      <th>HPCP</th>\n",
       "      <th>Measurement Flag</th>\n",
       "      <th>Quality Flag</th>\n",
       "    </tr>\n",
       "  </thead>\n",
       "  <tbody>\n",
       "    <tr>\n",
       "      <th>0</th>\n",
       "      <td>COOP:055881</td>\n",
       "      <td>NEDERLAND 5 NNW CO US</td>\n",
       "      <td>20000101 00:00</td>\n",
       "      <td>NaN</td>\n",
       "      <td>]</td>\n",
       "      <td></td>\n",
       "    </tr>\n",
       "    <tr>\n",
       "      <th>1</th>\n",
       "      <td>COOP:055881</td>\n",
       "      <td>NEDERLAND 5 NNW CO US</td>\n",
       "      <td>20000101 01:00</td>\n",
       "      <td>0.0</td>\n",
       "      <td>g</td>\n",
       "      <td></td>\n",
       "    </tr>\n",
       "    <tr>\n",
       "      <th>2</th>\n",
       "      <td>COOP:055881</td>\n",
       "      <td>NEDERLAND 5 NNW CO US</td>\n",
       "      <td>20000102 20:00</td>\n",
       "      <td>0.0</td>\n",
       "      <td></td>\n",
       "      <td>q</td>\n",
       "    </tr>\n",
       "    <tr>\n",
       "      <th>3</th>\n",
       "      <td>COOP:055881</td>\n",
       "      <td>NEDERLAND 5 NNW CO US</td>\n",
       "      <td>20000103 01:00</td>\n",
       "      <td>0.0</td>\n",
       "      <td></td>\n",
       "      <td>q</td>\n",
       "    </tr>\n",
       "    <tr>\n",
       "      <th>4</th>\n",
       "      <td>COOP:055881</td>\n",
       "      <td>NEDERLAND 5 NNW CO US</td>\n",
       "      <td>20000103 05:00</td>\n",
       "      <td>0.0</td>\n",
       "      <td></td>\n",
       "      <td>q</td>\n",
       "    </tr>\n",
       "  </tbody>\n",
       "</table>\n",
       "</div>"
      ],
      "text/plain": [
       "       STATION           STATION_NAME            DATE  HPCP Measurement Flag  \\\n",
       "0  COOP:055881  NEDERLAND 5 NNW CO US  20000101 00:00   NaN                ]   \n",
       "1  COOP:055881  NEDERLAND 5 NNW CO US  20000101 01:00   0.0                g   \n",
       "2  COOP:055881  NEDERLAND 5 NNW CO US  20000102 20:00   0.0                    \n",
       "3  COOP:055881  NEDERLAND 5 NNW CO US  20000103 01:00   0.0                    \n",
       "4  COOP:055881  NEDERLAND 5 NNW CO US  20000103 05:00   0.0                    \n",
       "\n",
       "  Quality Flag  \n",
       "0               \n",
       "1               \n",
       "2            q  \n",
       "3            q  \n",
       "4            q  "
      ]
     },
     "execution_count": 21,
     "metadata": {},
     "output_type": "execute_result"
    }
   ],
   "source": [
    "# Read in CSv indicating NA values based on metadata.\n",
    "precip = pd.read_csv(URL, na_values=[999.99])\n",
    "\n",
    "precip.head()"
   ]
  },
  {
   "cell_type": "code",
   "execution_count": 22,
   "id": "55be7b1e",
   "metadata": {},
   "outputs": [
    {
     "data": {
      "text/plain": [
       "<Axes: >"
      ]
     },
     "execution_count": 22,
     "metadata": {},
     "output_type": "execute_result"
    },
    {
     "data": {
      "image/png": "[encoded data removed]",
      "text/plain": [
       "<Figure size 640x480 with 1 Axes>"
      ]
     },
     "metadata": {},
     "output_type": "display_data"
    }
   ],
   "source": [
    "precip.plot()"
   ]
  },
  {
   "cell_type": "markdown",
   "id": "1e8bb0dd",
   "metadata": {},
   "source": [
    "## Convert strings into dates\n",
    "\n",
    "Notice `DATE` column in our dataframe is not of type `datetime`:"
   ]
  },
  {
   "cell_type": "code",
   "execution_count": 23,
   "id": "142aff12",
   "metadata": {},
   "outputs": [
    {
     "data": {
      "application/vnd.microsoft.datawrangler.viewer.v0+json": {
       "columns": [
        {
         "name": "index",
         "rawType": "object",
         "type": "string"
        },
        {
         "name": "0",
         "rawType": "object",
         "type": "unknown"
        }
       ],
       "ref": "f639980a-be42-47ff-a1a4-c629184e1fb4",
       "rows": [
        [
         "STATION",
         "object"
        ],
        [
         "STATION_NAME",
         "object"
        ],
        [
         "DATE",
         "object"
        ],
        [
         "HPCP",
         "float64"
        ],
        [
         "Measurement Flag",
         "object"
        ],
        [
         "Quality Flag",
         "object"
        ]
       ],
       "shape": {
        "columns": 1,
        "rows": 6
       }
      },
      "text/plain": [
       "STATION              object\n",
       "STATION_NAME         object\n",
       "DATE                 object\n",
       "HPCP                float64\n",
       "Measurement Flag     object\n",
       "Quality Flag         object\n",
       "dtype: object"
      ]
     },
     "execution_count": 23,
     "metadata": {},
     "output_type": "execute_result"
    }
   ],
   "source": [
    "# Check whether DATE column is of type datetime:\n",
    "precip.dtypes"
   ]
  },
  {
   "cell_type": "code",
   "execution_count": 24,
   "id": "a6371c8f",
   "metadata": {},
   "outputs": [
    {
     "data": {
      "application/vnd.microsoft.datawrangler.viewer.v0+json": {
       "columns": [
        {
         "name": "index",
         "rawType": "int64",
         "type": "integer"
        },
        {
         "name": "DATE",
         "rawType": "datetime64[ns]",
         "type": "datetime"
        }
       ],
       "ref": "f3b690fb-6e0c-4cb7-88bd-5076963a374b",
       "rows": [
        [
         "0",
         "2000-01-01 00:00:00"
        ],
        [
         "1",
         "2000-01-01 01:00:00"
        ],
        [
         "2",
         "2000-01-02 20:00:00"
        ],
        [
         "3",
         "2000-01-03 01:00:00"
        ],
        [
         "4",
         "2000-01-03 05:00:00"
        ],
        [
         "5",
         "2000-01-04 08:00:00"
        ],
        [
         "6",
         "2000-01-04 19:00:00"
        ],
        [
         "7",
         "2000-01-07 01:00:00"
        ],
        [
         "8",
         "2000-01-07 19:00:00"
        ],
        [
         "9",
         "2000-01-08 04:00:00"
        ],
        [
         "10",
         "2000-01-08 12:00:00"
        ],
        [
         "11",
         "2000-01-09 17:00:00"
        ],
        [
         "12",
         "2000-01-10 22:00:00"
        ],
        [
         "13",
         "2000-01-11 05:00:00"
        ],
        [
         "14",
         "2000-01-12 01:00:00"
        ],
        [
         "15",
         "2000-01-12 04:00:00"
        ],
        [
         "16",
         "2000-01-12 07:00:00"
        ],
        [
         "17",
         "2000-01-16 18:00:00"
        ],
        [
         "18",
         "2000-01-31 11:00:00"
        ],
        [
         "19",
         "2000-01-31 12:00:00"
        ],
        [
         "20",
         "2000-02-01 00:00:00"
        ],
        [
         "21",
         "2000-02-01 01:00:00"
        ],
        [
         "22",
         "2000-02-10 12:00:00"
        ],
        [
         "23",
         "2000-02-10 20:00:00"
        ],
        [
         "24",
         "2000-02-11 06:00:00"
        ],
        [
         "25",
         "2000-02-11 10:00:00"
        ],
        [
         "26",
         "2000-02-11 12:00:00"
        ],
        [
         "27",
         "2000-02-12 18:00:00"
        ],
        [
         "28",
         "2000-02-13 04:00:00"
        ],
        [
         "29",
         "2000-02-13 15:00:00"
        ],
        [
         "30",
         "2000-02-14 08:00:00"
        ],
        [
         "31",
         "2000-02-14 15:00:00"
        ],
        [
         "32",
         "2000-02-15 03:00:00"
        ],
        [
         "33",
         "2000-02-15 04:00:00"
        ],
        [
         "34",
         "2000-02-15 05:00:00"
        ],
        [
         "35",
         "2000-02-15 17:00:00"
        ],
        [
         "36",
         "2000-02-29 09:00:00"
        ],
        [
         "37",
         "2000-02-29 12:00:00"
        ],
        [
         "38",
         "2000-02-29 13:00:00"
        ],
        [
         "39",
         "2000-03-01 00:00:00"
        ],
        [
         "40",
         "2000-03-01 01:00:00"
        ],
        [
         "41",
         "2000-03-02 11:00:00"
        ],
        [
         "42",
         "2000-03-06 12:00:00"
        ],
        [
         "43",
         "2000-03-08 11:00:00"
        ],
        [
         "44",
         "2000-03-12 01:00:00"
        ],
        [
         "45",
         "2000-03-12 09:00:00"
        ],
        [
         "46",
         "2000-03-15 09:00:00"
        ],
        [
         "47",
         "2000-03-15 10:00:00"
        ],
        [
         "48",
         "2000-03-15 11:00:00"
        ],
        [
         "49",
         "2000-03-15 12:00:00"
        ]
       ],
       "shape": {
        "columns": 1,
        "rows": 9006
       }
      },
      "text/plain": [
       "0      2000-01-01 00:00:00\n",
       "1      2000-01-01 01:00:00\n",
       "2      2000-01-02 20:00:00\n",
       "3      2000-01-03 01:00:00\n",
       "4      2000-01-03 05:00:00\n",
       "               ...        \n",
       "9001   2013-12-22 01:00:00\n",
       "9002   2013-12-23 00:00:00\n",
       "9003   2013-12-23 02:00:00\n",
       "9004   2013-12-29 01:00:00\n",
       "9005   2013-12-31 00:00:00\n",
       "Name: DATE, Length: 9006, dtype: datetime64[ns]"
      ]
     },
     "execution_count": 24,
     "metadata": {},
     "output_type": "execute_result"
    }
   ],
   "source": [
    "# Convert DATE column to timestamps\n",
    "pd.to_datetime(precip['DATE'])"
   ]
  },
  {
   "cell_type": "code",
   "execution_count": 25,
   "id": "bf91ef39",
   "metadata": {},
   "outputs": [
    {
     "data": {
      "application/vnd.microsoft.datawrangler.viewer.v0+json": {
       "columns": [
        {
         "name": "index",
         "rawType": "int64",
         "type": "integer"
        },
        {
         "name": "DATE",
         "rawType": "object",
         "type": "string"
        }
       ],
       "ref": "8aa3a6ac-0c0b-4ac9-923e-80c713caa18f",
       "rows": [
        [
         "0",
         "20000101 00:00"
        ],
        [
         "1",
         "20000101 01:00"
        ],
        [
         "2",
         "20000102 20:00"
        ],
        [
         "3",
         "20000103 01:00"
        ],
        [
         "4",
         "20000103 05:00"
        ],
        [
         "5",
         "20000104 08:00"
        ],
        [
         "6",
         "20000104 19:00"
        ],
        [
         "7",
         "20000107 01:00"
        ],
        [
         "8",
         "20000107 19:00"
        ],
        [
         "9",
         "20000108 04:00"
        ],
        [
         "10",
         "20000108 12:00"
        ],
        [
         "11",
         "20000109 17:00"
        ],
        [
         "12",
         "20000110 22:00"
        ],
        [
         "13",
         "20000111 05:00"
        ],
        [
         "14",
         "20000112 01:00"
        ],
        [
         "15",
         "20000112 04:00"
        ],
        [
         "16",
         "20000112 07:00"
        ],
        [
         "17",
         "20000116 18:00"
        ],
        [
         "18",
         "20000131 11:00"
        ],
        [
         "19",
         "20000131 12:00"
        ],
        [
         "20",
         "20000201 00:00"
        ],
        [
         "21",
         "20000201 01:00"
        ],
        [
         "22",
         "20000210 12:00"
        ],
        [
         "23",
         "20000210 20:00"
        ],
        [
         "24",
         "20000211 06:00"
        ],
        [
         "25",
         "20000211 10:00"
        ],
        [
         "26",
         "20000211 12:00"
        ],
        [
         "27",
         "20000212 18:00"
        ],
        [
         "28",
         "20000213 04:00"
        ],
        [
         "29",
         "20000213 15:00"
        ],
        [
         "30",
         "20000214 08:00"
        ],
        [
         "31",
         "20000214 15:00"
        ],
        [
         "32",
         "20000215 03:00"
        ],
        [
         "33",
         "20000215 04:00"
        ],
        [
         "34",
         "20000215 05:00"
        ],
        [
         "35",
         "20000215 17:00"
        ],
        [
         "36",
         "20000229 09:00"
        ],
        [
         "37",
         "20000229 12:00"
        ],
        [
         "38",
         "20000229 13:00"
        ],
        [
         "39",
         "20000301 00:00"
        ],
        [
         "40",
         "20000301 01:00"
        ],
        [
         "41",
         "20000302 11:00"
        ],
        [
         "42",
         "20000306 12:00"
        ],
        [
         "43",
         "20000308 11:00"
        ],
        [
         "44",
         "20000312 01:00"
        ],
        [
         "45",
         "20000312 09:00"
        ],
        [
         "46",
         "20000315 09:00"
        ],
        [
         "47",
         "20000315 10:00"
        ],
        [
         "48",
         "20000315 11:00"
        ],
        [
         "49",
         "20000315 12:00"
        ]
       ],
       "shape": {
        "columns": 1,
        "rows": 9006
       }
      },
      "text/plain": [
       "0       20000101 00:00\n",
       "1       20000101 01:00\n",
       "2       20000102 20:00\n",
       "3       20000103 01:00\n",
       "4       20000103 05:00\n",
       "             ...      \n",
       "9001    20131222 01:00\n",
       "9002    20131223 00:00\n",
       "9003    20131223 02:00\n",
       "9004    20131229 01:00\n",
       "9005    20131231 00:00\n",
       "Name: DATE, Length: 9006, dtype: object"
      ]
     },
     "execution_count": 25,
     "metadata": {},
     "output_type": "execute_result"
    }
   ],
   "source": [
    "precip['DATE']"
   ]
  },
  {
   "cell_type": "code",
   "execution_count": 26,
   "id": "781de6ec",
   "metadata": {},
   "outputs": [
    {
     "data": {
      "application/vnd.microsoft.datawrangler.viewer.v0+json": {
       "columns": [
        {
         "name": "index",
         "rawType": "object",
         "type": "string"
        },
        {
         "name": "0",
         "rawType": "object",
         "type": "unknown"
        }
       ],
       "ref": "2ae1dad8-b342-498f-99d2-263300deb66d",
       "rows": [
        [
         "STATION",
         "object"
        ],
        [
         "STATION_NAME",
         "object"
        ],
        [
         "DATE",
         "datetime64[ns]"
        ],
        [
         "HPCP",
         "float64"
        ],
        [
         "Measurement Flag",
         "object"
        ],
        [
         "Quality Flag",
         "object"
        ]
       ],
       "shape": {
        "columns": 1,
        "rows": 6
       }
      },
      "text/plain": [
       "STATION                     object\n",
       "STATION_NAME                object\n",
       "DATE                datetime64[ns]\n",
       "HPCP                       float64\n",
       "Measurement Flag            object\n",
       "Quality Flag                object\n",
       "dtype: object"
      ]
     },
     "execution_count": 26,
     "metadata": {},
     "output_type": "execute_result"
    }
   ],
   "source": [
    "# Update the DATE column to the timestamps\n",
    "precip['DATE'] = pd.to_datetime(precip['DATE'])\n",
    "\n",
    "# Check DATE column data type is updated\n",
    "precip.dtypes"
   ]
  },
  {
   "cell_type": "code",
   "execution_count": 27,
   "id": "00cbd985",
   "metadata": {},
   "outputs": [
    {
     "data": {
      "text/plain": [
       "<Axes: xlabel='DATE'>"
      ]
     },
     "execution_count": 27,
     "metadata": {},
     "output_type": "execute_result"
    },
    {
     "data": {
      "image/png": "[encoded data removed]",
      "text/plain": [
       "<Figure size 640x480 with 1 Axes>"
      ]
     },
     "metadata": {},
     "output_type": "display_data"
    }
   ],
   "source": [
    "precip.plot(x = 'DATE', y = 'HPCP')"
   ]
  },
  {
   "cell_type": "code",
   "execution_count": 28,
   "id": "3bbc0840",
   "metadata": {},
   "outputs": [
    {
     "data": {
      "application/vnd.microsoft.datawrangler.viewer.v0+json": {
       "columns": [
        {
         "name": "DATE",
         "rawType": "datetime64[ns]",
         "type": "datetime"
        },
        {
         "name": "STATION",
         "rawType": "object",
         "type": "string"
        },
        {
         "name": "STATION_NAME",
         "rawType": "object",
         "type": "string"
        },
        {
         "name": "HPCP",
         "rawType": "float64",
         "type": "float"
        },
        {
         "name": "Measurement Flag",
         "rawType": "object",
         "type": "string"
        },
        {
         "name": "Quality Flag",
         "rawType": "object",
         "type": "string"
        }
       ],
       "ref": "bfd25fc0-847c-4750-89b0-88d0c1c4f13f",
       "rows": [
        [
         "2000-01-01 00:00:00",
         "COOP:055881",
         "NEDERLAND 5 NNW CO US",
         null,
         "]",
         " "
        ],
        [
         "2000-01-01 01:00:00",
         "COOP:055881",
         "NEDERLAND 5 NNW CO US",
         "0.0",
         "g",
         " "
        ],
        [
         "2000-01-02 20:00:00",
         "COOP:055881",
         "NEDERLAND 5 NNW CO US",
         "0.0",
         " ",
         "q"
        ],
        [
         "2000-01-03 01:00:00",
         "COOP:055881",
         "NEDERLAND 5 NNW CO US",
         "0.0",
         " ",
         "q"
        ],
        [
         "2000-01-03 05:00:00",
         "COOP:055881",
         "NEDERLAND 5 NNW CO US",
         "0.0",
         " ",
         "q"
        ]
       ],
       "shape": {
        "columns": 5,
        "rows": 5
       }
      },
      "text/html": [
       "<div>\n",
       "<style scoped>\n",
       "    .dataframe tbody tr th:only-of-type {\n",
       "        vertical-align: middle;\n",
       "    }\n",
       "\n",
       "    .dataframe tbody tr th {\n",
       "        vertical-align: top;\n",
       "    }\n",
       "\n",
       "    .dataframe thead th {\n",
       "        text-align: right;\n",
       "    }\n",
       "</style>\n",
       "<table border=\"1\" class=\"dataframe\">\n",
       "  <thead>\n",
       "    <tr style=\"text-align: right;\">\n",
       "      <th></th>\n",
       "      <th>STATION</th>\n",
       "      <th>STATION_NAME</th>\n",
       "      <th>HPCP</th>\n",
       "      <th>Measurement Flag</th>\n",
       "      <th>Quality Flag</th>\n",
       "    </tr>\n",
       "    <tr>\n",
       "      <th>DATE</th>\n",
       "      <th></th>\n",
       "      <th></th>\n",
       "      <th></th>\n",
       "      <th></th>\n",
       "      <th></th>\n",
       "    </tr>\n",
       "  </thead>\n",
       "  <tbody>\n",
       "    <tr>\n",
       "      <th>2000-01-01 00:00:00</th>\n",
       "      <td>COOP:055881</td>\n",
       "      <td>NEDERLAND 5 NNW CO US</td>\n",
       "      <td>NaN</td>\n",
       "      <td>]</td>\n",
       "      <td></td>\n",
       "    </tr>\n",
       "    <tr>\n",
       "      <th>2000-01-01 01:00:00</th>\n",
       "      <td>COOP:055881</td>\n",
       "      <td>NEDERLAND 5 NNW CO US</td>\n",
       "      <td>0.0</td>\n",
       "      <td>g</td>\n",
       "      <td></td>\n",
       "    </tr>\n",
       "    <tr>\n",
       "      <th>2000-01-02 20:00:00</th>\n",
       "      <td>COOP:055881</td>\n",
       "      <td>NEDERLAND 5 NNW CO US</td>\n",
       "      <td>0.0</td>\n",
       "      <td></td>\n",
       "      <td>q</td>\n",
       "    </tr>\n",
       "    <tr>\n",
       "      <th>2000-01-03 01:00:00</th>\n",
       "      <td>COOP:055881</td>\n",
       "      <td>NEDERLAND 5 NNW CO US</td>\n",
       "      <td>0.0</td>\n",
       "      <td></td>\n",
       "      <td>q</td>\n",
       "    </tr>\n",
       "    <tr>\n",
       "      <th>2000-01-03 05:00:00</th>\n",
       "      <td>COOP:055881</td>\n",
       "      <td>NEDERLAND 5 NNW CO US</td>\n",
       "      <td>0.0</td>\n",
       "      <td></td>\n",
       "      <td>q</td>\n",
       "    </tr>\n",
       "  </tbody>\n",
       "</table>\n",
       "</div>"
      ],
      "text/plain": [
       "                         STATION           STATION_NAME  HPCP  \\\n",
       "DATE                                                            \n",
       "2000-01-01 00:00:00  COOP:055881  NEDERLAND 5 NNW CO US   NaN   \n",
       "2000-01-01 01:00:00  COOP:055881  NEDERLAND 5 NNW CO US   0.0   \n",
       "2000-01-02 20:00:00  COOP:055881  NEDERLAND 5 NNW CO US   0.0   \n",
       "2000-01-03 01:00:00  COOP:055881  NEDERLAND 5 NNW CO US   0.0   \n",
       "2000-01-03 05:00:00  COOP:055881  NEDERLAND 5 NNW CO US   0.0   \n",
       "\n",
       "                    Measurement Flag Quality Flag  \n",
       "DATE                                               \n",
       "2000-01-01 00:00:00                ]               \n",
       "2000-01-01 01:00:00                g               \n",
       "2000-01-02 20:00:00                             q  \n",
       "2000-01-03 01:00:00                             q  \n",
       "2000-01-03 05:00:00                             q  "
      ]
     },
     "execution_count": 28,
     "metadata": {},
     "output_type": "execute_result"
    }
   ],
   "source": [
    "precip = precip.set_index('DATE')\n",
    "\n",
    "precip.head()"
   ]
  },
  {
   "cell_type": "markdown",
   "id": "eb66b2d8",
   "metadata": {},
   "source": [
    "## Read in dataset in specific format"
   ]
  },
  {
   "cell_type": "code",
   "execution_count": 30,
   "id": "d8850f9c",
   "metadata": {},
   "outputs": [
    {
     "data": {
      "application/vnd.microsoft.datawrangler.viewer.v0+json": {
       "columns": [
        {
         "name": "DATE",
         "rawType": "datetime64[ns]",
         "type": "datetime"
        },
        {
         "name": "STATION",
         "rawType": "object",
         "type": "string"
        },
        {
         "name": "STATION_NAME",
         "rawType": "object",
         "type": "string"
        },
        {
         "name": "HPCP",
         "rawType": "float64",
         "type": "float"
        },
        {
         "name": "Measurement Flag",
         "rawType": "object",
         "type": "string"
        },
        {
         "name": "Quality Flag",
         "rawType": "object",
         "type": "string"
        }
       ],
       "ref": "52dd9044-c25b-4bfc-b94e-bc1f78e4648d",
       "rows": [
        [
         "2000-01-01 00:00:00",
         "COOP:055881",
         "NEDERLAND 5 NNW CO US",
         null,
         "]",
         " "
        ],
        [
         "2000-01-01 01:00:00",
         "COOP:055881",
         "NEDERLAND 5 NNW CO US",
         "0.0",
         "g",
         " "
        ],
        [
         "2000-01-02 20:00:00",
         "COOP:055881",
         "NEDERLAND 5 NNW CO US",
         "0.0",
         " ",
         "q"
        ],
        [
         "2000-01-03 01:00:00",
         "COOP:055881",
         "NEDERLAND 5 NNW CO US",
         "0.0",
         " ",
         "q"
        ],
        [
         "2000-01-03 05:00:00",
         "COOP:055881",
         "NEDERLAND 5 NNW CO US",
         "0.0",
         " ",
         "q"
        ]
       ],
       "shape": {
        "columns": 5,
        "rows": 5
       }
      },
      "text/html": [
       "<div>\n",
       "<style scoped>\n",
       "    .dataframe tbody tr th:only-of-type {\n",
       "        vertical-align: middle;\n",
       "    }\n",
       "\n",
       "    .dataframe tbody tr th {\n",
       "        vertical-align: top;\n",
       "    }\n",
       "\n",
       "    .dataframe thead th {\n",
       "        text-align: right;\n",
       "    }\n",
       "</style>\n",
       "<table border=\"1\" class=\"dataframe\">\n",
       "  <thead>\n",
       "    <tr style=\"text-align: right;\">\n",
       "      <th></th>\n",
       "      <th>STATION</th>\n",
       "      <th>STATION_NAME</th>\n",
       "      <th>HPCP</th>\n",
       "      <th>Measurement Flag</th>\n",
       "      <th>Quality Flag</th>\n",
       "    </tr>\n",
       "    <tr>\n",
       "      <th>DATE</th>\n",
       "      <th></th>\n",
       "      <th></th>\n",
       "      <th></th>\n",
       "      <th></th>\n",
       "      <th></th>\n",
       "    </tr>\n",
       "  </thead>\n",
       "  <tbody>\n",
       "    <tr>\n",
       "      <th>2000-01-01 00:00:00</th>\n",
       "      <td>COOP:055881</td>\n",
       "      <td>NEDERLAND 5 NNW CO US</td>\n",
       "      <td>NaN</td>\n",
       "      <td>]</td>\n",
       "      <td></td>\n",
       "    </tr>\n",
       "    <tr>\n",
       "      <th>2000-01-01 01:00:00</th>\n",
       "      <td>COOP:055881</td>\n",
       "      <td>NEDERLAND 5 NNW CO US</td>\n",
       "      <td>0.0</td>\n",
       "      <td>g</td>\n",
       "      <td></td>\n",
       "    </tr>\n",
       "    <tr>\n",
       "      <th>2000-01-02 20:00:00</th>\n",
       "      <td>COOP:055881</td>\n",
       "      <td>NEDERLAND 5 NNW CO US</td>\n",
       "      <td>0.0</td>\n",
       "      <td></td>\n",
       "      <td>q</td>\n",
       "    </tr>\n",
       "    <tr>\n",
       "      <th>2000-01-03 01:00:00</th>\n",
       "      <td>COOP:055881</td>\n",
       "      <td>NEDERLAND 5 NNW CO US</td>\n",
       "      <td>0.0</td>\n",
       "      <td></td>\n",
       "      <td>q</td>\n",
       "    </tr>\n",
       "    <tr>\n",
       "      <th>2000-01-03 05:00:00</th>\n",
       "      <td>COOP:055881</td>\n",
       "      <td>NEDERLAND 5 NNW CO US</td>\n",
       "      <td>0.0</td>\n",
       "      <td></td>\n",
       "      <td>q</td>\n",
       "    </tr>\n",
       "  </tbody>\n",
       "</table>\n",
       "</div>"
      ],
      "text/plain": [
       "                         STATION           STATION_NAME  HPCP  \\\n",
       "DATE                                                            \n",
       "2000-01-01 00:00:00  COOP:055881  NEDERLAND 5 NNW CO US   NaN   \n",
       "2000-01-01 01:00:00  COOP:055881  NEDERLAND 5 NNW CO US   0.0   \n",
       "2000-01-02 20:00:00  COOP:055881  NEDERLAND 5 NNW CO US   0.0   \n",
       "2000-01-03 01:00:00  COOP:055881  NEDERLAND 5 NNW CO US   0.0   \n",
       "2000-01-03 05:00:00  COOP:055881  NEDERLAND 5 NNW CO US   0.0   \n",
       "\n",
       "                    Measurement Flag Quality Flag  \n",
       "DATE                                               \n",
       "2000-01-01 00:00:00                ]               \n",
       "2000-01-01 01:00:00                g               \n",
       "2000-01-02 20:00:00                             q  \n",
       "2000-01-03 01:00:00                             q  \n",
       "2000-01-03 05:00:00                             q  "
      ]
     },
     "execution_count": 30,
     "metadata": {},
     "output_type": "execute_result"
    }
   ],
   "source": [
    "\n",
    "precip = pd.read_csv(URL, \n",
    "                    na_values = [999.99],\n",
    "                    index_col = ['DATE'],\n",
    "                    parse_dates = ['DATE'])\n",
    "\n",
    "precip.head()"
   ]
  },
  {
   "cell_type": "markdown",
   "id": "a613763f",
   "metadata": {},
   "source": [
    "## Subsetting by date\n",
    "\n",
    "We can use `.loc[year-month]` to select data from a specific year and month"
   ]
  },
  {
   "cell_type": "code",
   "execution_count": 31,
   "id": "7f5a83af",
   "metadata": {},
   "outputs": [
    {
     "data": {
      "application/vnd.microsoft.datawrangler.viewer.v0+json": {
       "columns": [
        {
         "name": "DATE",
         "rawType": "datetime64[ns]",
         "type": "datetime"
        },
        {
         "name": "STATION",
         "rawType": "object",
         "type": "string"
        },
        {
         "name": "STATION_NAME",
         "rawType": "object",
         "type": "string"
        },
        {
         "name": "HPCP",
         "rawType": "float64",
         "type": "float"
        },
        {
         "name": "Measurement Flag",
         "rawType": "object",
         "type": "string"
        },
        {
         "name": "Quality Flag",
         "rawType": "object",
         "type": "string"
        }
       ],
       "ref": "83ac6ffb-db93-4763-a0b0-90504d16fc6e",
       "rows": [
        [
         "2013-09-01 00:00:00",
         "COOP:055881",
         "NEDERLAND 5 NNW CO US",
         null,
         "]",
         " "
        ],
        [
         "2013-09-01 01:00:00",
         "COOP:055881",
         "NEDERLAND 5 NNW CO US",
         null,
         "[",
         " "
        ],
        [
         "2013-09-01 00:00:00",
         "COOP:050183",
         "ALLENSPARK 2 SE CO US",
         null,
         "]",
         " "
        ],
        [
         "2013-09-01 01:00:00",
         "COOP:050183",
         "ALLENSPARK 2 SE CO US",
         null,
         "[",
         " "
        ],
        [
         "2013-09-01 00:00:00",
         "COOP:055121",
         "LONGMONT 6 NW CO US",
         null,
         "}",
         " "
        ],
        [
         "2013-09-01 01:00:00",
         "COOP:055121",
         "LONGMONT 6 NW CO US",
         "0.0",
         "g",
         " "
        ],
        [
         "2013-09-05 15:00:00",
         "COOP:055121",
         "LONGMONT 6 NW CO US",
         "0.2",
         " ",
         " "
        ],
        [
         "2013-09-06 15:00:00",
         "COOP:055121",
         "LONGMONT 6 NW CO US",
         "0.1",
         " ",
         " "
        ],
        [
         "2013-09-06 16:00:00",
         "COOP:055121",
         "LONGMONT 6 NW CO US",
         "0.1",
         " ",
         " "
        ],
        [
         "2013-09-09 16:00:00",
         "COOP:055121",
         "LONGMONT 6 NW CO US",
         "0.3",
         " ",
         " "
        ],
        [
         "2013-09-09 19:00:00",
         "COOP:055121",
         "LONGMONT 6 NW CO US",
         "0.1",
         " ",
         " "
        ],
        [
         "2013-09-09 21:00:00",
         "COOP:055121",
         "LONGMONT 6 NW CO US",
         "0.1",
         " ",
         " "
        ],
        [
         "2013-09-09 22:00:00",
         "COOP:055121",
         "LONGMONT 6 NW CO US",
         "0.2",
         " ",
         " "
        ],
        [
         "2013-09-09 23:00:00",
         "COOP:055121",
         "LONGMONT 6 NW CO US",
         "0.1",
         " ",
         " "
        ],
        [
         "2013-09-10 00:00:00",
         "COOP:055121",
         "LONGMONT 6 NW CO US",
         "0.2",
         " ",
         " "
        ],
        [
         "2013-09-10 20:00:00",
         "COOP:055121",
         "LONGMONT 6 NW CO US",
         "0.1",
         " ",
         " "
        ],
        [
         "2013-09-11 02:00:00",
         "COOP:055121",
         "LONGMONT 6 NW CO US",
         "0.1",
         " ",
         " "
        ],
        [
         "2013-09-11 10:00:00",
         "COOP:055121",
         "LONGMONT 6 NW CO US",
         "0.1",
         " ",
         " "
        ],
        [
         "2013-09-11 12:00:00",
         "COOP:055121",
         "LONGMONT 6 NW CO US",
         "0.1",
         " ",
         " "
        ],
        [
         "2013-09-11 14:00:00",
         "COOP:055121",
         "LONGMONT 6 NW CO US",
         "0.1",
         " ",
         " "
        ],
        [
         "2013-09-11 15:00:00",
         "COOP:055121",
         "LONGMONT 6 NW CO US",
         "0.2",
         " ",
         " "
        ],
        [
         "2013-09-11 16:00:00",
         "COOP:055121",
         "LONGMONT 6 NW CO US",
         "0.1",
         " ",
         " "
        ],
        [
         "2013-09-11 20:00:00",
         "COOP:055121",
         "LONGMONT 6 NW CO US",
         "0.1",
         " ",
         " "
        ],
        [
         "2013-09-11 21:00:00",
         "COOP:055121",
         "LONGMONT 6 NW CO US",
         "0.2",
         " ",
         " "
        ],
        [
         "2013-09-11 22:00:00",
         "COOP:055121",
         "LONGMONT 6 NW CO US",
         "0.2",
         " ",
         " "
        ],
        [
         "2013-09-12 00:00:00",
         "COOP:055121",
         "LONGMONT 6 NW CO US",
         "0.2",
         " ",
         " "
        ],
        [
         "2013-09-12 01:00:00",
         "COOP:055121",
         "LONGMONT 6 NW CO US",
         "0.1",
         " ",
         " "
        ],
        [
         "2013-09-12 02:00:00",
         "COOP:055121",
         "LONGMONT 6 NW CO US",
         "0.1",
         " ",
         " "
        ],
        [
         "2013-09-12 04:00:00",
         "COOP:055121",
         "LONGMONT 6 NW CO US",
         "0.1",
         " ",
         " "
        ],
        [
         "2013-09-12 06:00:00",
         "COOP:055121",
         "LONGMONT 6 NW CO US",
         "0.1",
         " ",
         " "
        ],
        [
         "2013-09-12 10:00:00",
         "COOP:055121",
         "LONGMONT 6 NW CO US",
         "0.1",
         " ",
         " "
        ],
        [
         "2013-09-12 12:00:00",
         "COOP:055121",
         "LONGMONT 6 NW CO US",
         "0.2",
         " ",
         " "
        ],
        [
         "2013-09-12 14:00:00",
         "COOP:055121",
         "LONGMONT 6 NW CO US",
         "0.1",
         " ",
         " "
        ],
        [
         "2013-09-12 15:00:00",
         "COOP:055121",
         "LONGMONT 6 NW CO US",
         "0.1",
         " ",
         " "
        ],
        [
         "2013-09-12 17:00:00",
         "COOP:055121",
         "LONGMONT 6 NW CO US",
         "0.1",
         " ",
         " "
        ],
        [
         "2013-09-12 19:00:00",
         "COOP:055121",
         "LONGMONT 6 NW CO US",
         "0.2",
         " ",
         " "
        ],
        [
         "2013-09-12 20:00:00",
         "COOP:055121",
         "LONGMONT 6 NW CO US",
         "0.2",
         " ",
         " "
        ],
        [
         "2013-09-12 23:00:00",
         "COOP:055121",
         "LONGMONT 6 NW CO US",
         "0.2",
         " ",
         " "
        ],
        [
         "2013-09-13 03:00:00",
         "COOP:055121",
         "LONGMONT 6 NW CO US",
         "0.1",
         " ",
         " "
        ],
        [
         "2013-09-13 04:00:00",
         "COOP:055121",
         "LONGMONT 6 NW CO US",
         "0.1",
         " ",
         " "
        ],
        [
         "2013-09-13 11:00:00",
         "COOP:055121",
         "LONGMONT 6 NW CO US",
         "0.1",
         " ",
         " "
        ],
        [
         "2013-09-15 10:00:00",
         "COOP:055121",
         "LONGMONT 6 NW CO US",
         "0.1",
         " ",
         " "
        ],
        [
         "2013-09-15 11:00:00",
         "COOP:055121",
         "LONGMONT 6 NW CO US",
         "0.2",
         " ",
         " "
        ],
        [
         "2013-09-15 12:00:00",
         "COOP:055121",
         "LONGMONT 6 NW CO US",
         "0.2",
         " ",
         " "
        ],
        [
         "2013-09-15 13:00:00",
         "COOP:055121",
         "LONGMONT 6 NW CO US",
         "0.2",
         " ",
         " "
        ],
        [
         "2013-09-15 14:00:00",
         "COOP:055121",
         "LONGMONT 6 NW CO US",
         "0.2",
         " ",
         " "
        ],
        [
         "2013-09-15 15:00:00",
         "COOP:055121",
         "LONGMONT 6 NW CO US",
         "0.1",
         " ",
         " "
        ],
        [
         "2013-09-15 18:00:00",
         "COOP:055121",
         "LONGMONT 6 NW CO US",
         "0.1",
         " ",
         " "
        ],
        [
         "2013-09-16 01:00:00",
         "COOP:055121",
         "LONGMONT 6 NW CO US",
         "0.1",
         " ",
         " "
        ],
        [
         "2013-09-16 03:00:00",
         "COOP:055121",
         "LONGMONT 6 NW CO US",
         "0.1",
         " ",
         " "
        ]
       ],
       "shape": {
        "columns": 5,
        "rows": 128
       }
      },
      "text/html": [
       "<div>\n",
       "<style scoped>\n",
       "    .dataframe tbody tr th:only-of-type {\n",
       "        vertical-align: middle;\n",
       "    }\n",
       "\n",
       "    .dataframe tbody tr th {\n",
       "        vertical-align: top;\n",
       "    }\n",
       "\n",
       "    .dataframe thead th {\n",
       "        text-align: right;\n",
       "    }\n",
       "</style>\n",
       "<table border=\"1\" class=\"dataframe\">\n",
       "  <thead>\n",
       "    <tr style=\"text-align: right;\">\n",
       "      <th></th>\n",
       "      <th>STATION</th>\n",
       "      <th>STATION_NAME</th>\n",
       "      <th>HPCP</th>\n",
       "      <th>Measurement Flag</th>\n",
       "      <th>Quality Flag</th>\n",
       "    </tr>\n",
       "    <tr>\n",
       "      <th>DATE</th>\n",
       "      <th></th>\n",
       "      <th></th>\n",
       "      <th></th>\n",
       "      <th></th>\n",
       "      <th></th>\n",
       "    </tr>\n",
       "  </thead>\n",
       "  <tbody>\n",
       "    <tr>\n",
       "      <th>2013-09-01 00:00:00</th>\n",
       "      <td>COOP:055881</td>\n",
       "      <td>NEDERLAND 5 NNW CO US</td>\n",
       "      <td>NaN</td>\n",
       "      <td>]</td>\n",
       "      <td></td>\n",
       "    </tr>\n",
       "    <tr>\n",
       "      <th>2013-09-01 01:00:00</th>\n",
       "      <td>COOP:055881</td>\n",
       "      <td>NEDERLAND 5 NNW CO US</td>\n",
       "      <td>NaN</td>\n",
       "      <td>[</td>\n",
       "      <td></td>\n",
       "    </tr>\n",
       "    <tr>\n",
       "      <th>2013-09-01 00:00:00</th>\n",
       "      <td>COOP:050183</td>\n",
       "      <td>ALLENSPARK 2 SE CO US</td>\n",
       "      <td>NaN</td>\n",
       "      <td>]</td>\n",
       "      <td></td>\n",
       "    </tr>\n",
       "    <tr>\n",
       "      <th>2013-09-01 01:00:00</th>\n",
       "      <td>COOP:050183</td>\n",
       "      <td>ALLENSPARK 2 SE CO US</td>\n",
       "      <td>NaN</td>\n",
       "      <td>[</td>\n",
       "      <td></td>\n",
       "    </tr>\n",
       "    <tr>\n",
       "      <th>2013-09-01 00:00:00</th>\n",
       "      <td>COOP:055121</td>\n",
       "      <td>LONGMONT 6 NW CO US</td>\n",
       "      <td>NaN</td>\n",
       "      <td>}</td>\n",
       "      <td></td>\n",
       "    </tr>\n",
       "    <tr>\n",
       "      <th>...</th>\n",
       "      <td>...</td>\n",
       "      <td>...</td>\n",
       "      <td>...</td>\n",
       "      <td>...</td>\n",
       "      <td>...</td>\n",
       "    </tr>\n",
       "    <tr>\n",
       "      <th>2013-09-23 02:00:00</th>\n",
       "      <td>COOP:050843</td>\n",
       "      <td>BOULDER 2 CO US</td>\n",
       "      <td>0.2</td>\n",
       "      <td></td>\n",
       "      <td></td>\n",
       "    </tr>\n",
       "    <tr>\n",
       "      <th>2013-09-27 10:00:00</th>\n",
       "      <td>COOP:050843</td>\n",
       "      <td>BOULDER 2 CO US</td>\n",
       "      <td>0.1</td>\n",
       "      <td></td>\n",
       "      <td></td>\n",
       "    </tr>\n",
       "    <tr>\n",
       "      <th>2013-09-27 15:00:00</th>\n",
       "      <td>COOP:050843</td>\n",
       "      <td>BOULDER 2 CO US</td>\n",
       "      <td>0.1</td>\n",
       "      <td></td>\n",
       "      <td></td>\n",
       "    </tr>\n",
       "    <tr>\n",
       "      <th>2013-09-27 17:00:00</th>\n",
       "      <td>COOP:050843</td>\n",
       "      <td>BOULDER 2 CO US</td>\n",
       "      <td>0.1</td>\n",
       "      <td></td>\n",
       "      <td></td>\n",
       "    </tr>\n",
       "    <tr>\n",
       "      <th>2013-09-27 18:00:00</th>\n",
       "      <td>COOP:050843</td>\n",
       "      <td>BOULDER 2 CO US</td>\n",
       "      <td>0.1</td>\n",
       "      <td></td>\n",
       "      <td></td>\n",
       "    </tr>\n",
       "  </tbody>\n",
       "</table>\n",
       "<p>128 rows × 5 columns</p>\n",
       "</div>"
      ],
      "text/plain": [
       "                         STATION           STATION_NAME  HPCP  \\\n",
       "DATE                                                            \n",
       "2013-09-01 00:00:00  COOP:055881  NEDERLAND 5 NNW CO US   NaN   \n",
       "2013-09-01 01:00:00  COOP:055881  NEDERLAND 5 NNW CO US   NaN   \n",
       "2013-09-01 00:00:00  COOP:050183  ALLENSPARK 2 SE CO US   NaN   \n",
       "2013-09-01 01:00:00  COOP:050183  ALLENSPARK 2 SE CO US   NaN   \n",
       "2013-09-01 00:00:00  COOP:055121    LONGMONT 6 NW CO US   NaN   \n",
       "...                          ...                    ...   ...   \n",
       "2013-09-23 02:00:00  COOP:050843        BOULDER 2 CO US   0.2   \n",
       "2013-09-27 10:00:00  COOP:050843        BOULDER 2 CO US   0.1   \n",
       "2013-09-27 15:00:00  COOP:050843        BOULDER 2 CO US   0.1   \n",
       "2013-09-27 17:00:00  COOP:050843        BOULDER 2 CO US   0.1   \n",
       "2013-09-27 18:00:00  COOP:050843        BOULDER 2 CO US   0.1   \n",
       "\n",
       "                    Measurement Flag Quality Flag  \n",
       "DATE                                               \n",
       "2013-09-01 00:00:00                ]               \n",
       "2013-09-01 01:00:00                [               \n",
       "2013-09-01 00:00:00                ]               \n",
       "2013-09-01 01:00:00                [               \n",
       "2013-09-01 00:00:00                }               \n",
       "...                              ...          ...  \n",
       "2013-09-23 02:00:00                                \n",
       "2013-09-27 10:00:00                                \n",
       "2013-09-27 15:00:00                                \n",
       "2013-09-27 17:00:00                                \n",
       "2013-09-27 18:00:00                                \n",
       "\n",
       "[128 rows x 5 columns]"
      ]
     },
     "execution_count": 31,
     "metadata": {},
     "output_type": "execute_result"
    }
   ],
   "source": [
    "# Select precipitation data from a specific month\n",
    "precip.loc['2013-09']"
   ]
  },
  {
   "cell_type": "code",
   "execution_count": 32,
   "id": "cedeef4b",
   "metadata": {},
   "outputs": [
    {
     "data": {
      "application/vnd.microsoft.datawrangler.viewer.v0+json": {
       "columns": [
        {
         "name": "DATE",
         "rawType": "datetime64[ns]",
         "type": "datetime"
        },
        {
         "name": "STATION",
         "rawType": "object",
         "type": "string"
        },
        {
         "name": "STATION_NAME",
         "rawType": "object",
         "type": "string"
        },
        {
         "name": "HPCP",
         "rawType": "float64",
         "type": "float"
        },
        {
         "name": "Measurement Flag",
         "rawType": "object",
         "type": "string"
        },
        {
         "name": "Quality Flag",
         "rawType": "object",
         "type": "string"
        }
       ],
       "ref": "cfd2720c-377f-458c-9618-4a9939cd37d4",
       "rows": [
        [
         "2013-01-01 01:00:00",
         "COOP:055881",
         "NEDERLAND 5 NNW CO US",
         "0.0",
         "g",
         " "
        ],
        [
         "2013-01-10 02:00:00",
         "COOP:055881",
         "NEDERLAND 5 NNW CO US",
         null,
         "[",
         " "
        ],
        [
         "2013-01-13 00:00:00",
         "COOP:055881",
         "NEDERLAND 5 NNW CO US",
         null,
         "]",
         " "
        ],
        [
         "2013-01-26 20:00:00",
         "COOP:055881",
         "NEDERLAND 5 NNW CO US",
         "0.1",
         " ",
         " "
        ],
        [
         "2013-01-28 23:00:00",
         "COOP:055881",
         "NEDERLAND 5 NNW CO US",
         "0.1",
         " ",
         " "
        ],
        [
         "2013-01-30 04:00:00",
         "COOP:055881",
         "NEDERLAND 5 NNW CO US",
         "0.1",
         " ",
         " "
        ],
        [
         "2013-01-31 02:00:00",
         "COOP:055881",
         "NEDERLAND 5 NNW CO US",
         "0.1",
         " ",
         " "
        ],
        [
         "2013-02-01 01:00:00",
         "COOP:055881",
         "NEDERLAND 5 NNW CO US",
         "0.0",
         "g",
         " "
        ],
        [
         "2013-02-10 06:00:00",
         "COOP:055881",
         "NEDERLAND 5 NNW CO US",
         "0.1",
         " ",
         " "
        ],
        [
         "2013-02-11 01:00:00",
         "COOP:055881",
         "NEDERLAND 5 NNW CO US",
         "0.1",
         " ",
         " "
        ],
        [
         "2013-02-14 13:00:00",
         "COOP:055881",
         "NEDERLAND 5 NNW CO US",
         "0.1",
         " ",
         " "
        ],
        [
         "2013-02-14 18:00:00",
         "COOP:055881",
         "NEDERLAND 5 NNW CO US",
         "0.1",
         " ",
         " "
        ],
        [
         "2013-02-15 07:00:00",
         "COOP:055881",
         "NEDERLAND 5 NNW CO US",
         "0.1",
         " ",
         " "
        ],
        [
         "2013-02-20 19:00:00",
         "COOP:055881",
         "NEDERLAND 5 NNW CO US",
         "0.1",
         " ",
         " "
        ],
        [
         "2013-02-20 20:00:00",
         "COOP:055881",
         "NEDERLAND 5 NNW CO US",
         "0.1",
         " ",
         " "
        ],
        [
         "2013-02-21 09:00:00",
         "COOP:055881",
         "NEDERLAND 5 NNW CO US",
         "0.1",
         " ",
         " "
        ],
        [
         "2013-02-24 06:00:00",
         "COOP:055881",
         "NEDERLAND 5 NNW CO US",
         "0.1",
         " ",
         " "
        ],
        [
         "2013-02-24 08:00:00",
         "COOP:055881",
         "NEDERLAND 5 NNW CO US",
         "0.1",
         " ",
         " "
        ],
        [
         "2013-02-24 10:00:00",
         "COOP:055881",
         "NEDERLAND 5 NNW CO US",
         "0.1",
         " ",
         " "
        ],
        [
         "2013-02-24 12:00:00",
         "COOP:055881",
         "NEDERLAND 5 NNW CO US",
         "0.1",
         " ",
         " "
        ],
        [
         "2013-02-24 14:00:00",
         "COOP:055881",
         "NEDERLAND 5 NNW CO US",
         "0.1",
         " ",
         " "
        ],
        [
         "2013-02-24 19:00:00",
         "COOP:055881",
         "NEDERLAND 5 NNW CO US",
         "0.1",
         " ",
         " "
        ],
        [
         "2013-02-26 16:00:00",
         "COOP:055881",
         "NEDERLAND 5 NNW CO US",
         "0.1",
         " ",
         " "
        ],
        [
         "2013-03-01 01:00:00",
         "COOP:055881",
         "NEDERLAND 5 NNW CO US",
         "0.0",
         "g",
         " "
        ],
        [
         "2013-03-01 02:00:00",
         "COOP:055881",
         "NEDERLAND 5 NNW CO US",
         "0.1",
         " ",
         " "
        ],
        [
         "2013-03-04 03:00:00",
         "COOP:055881",
         "NEDERLAND 5 NNW CO US",
         "0.1",
         " ",
         " "
        ],
        [
         "2013-03-04 13:00:00",
         "COOP:055881",
         "NEDERLAND 5 NNW CO US",
         "0.1",
         " ",
         " "
        ],
        [
         "2013-03-04 16:00:00",
         "COOP:055881",
         "NEDERLAND 5 NNW CO US",
         "0.1",
         " ",
         " "
        ],
        [
         "2013-03-09 06:00:00",
         "COOP:055881",
         "NEDERLAND 5 NNW CO US",
         "0.1",
         " ",
         " "
        ],
        [
         "2013-03-09 07:00:00",
         "COOP:055881",
         "NEDERLAND 5 NNW CO US",
         "0.1",
         " ",
         " "
        ],
        [
         "2013-03-09 09:00:00",
         "COOP:055881",
         "NEDERLAND 5 NNW CO US",
         "0.1",
         " ",
         " "
        ],
        [
         "2013-03-09 10:00:00",
         "COOP:055881",
         "NEDERLAND 5 NNW CO US",
         "0.1",
         " ",
         " "
        ],
        [
         "2013-03-09 11:00:00",
         "COOP:055881",
         "NEDERLAND 5 NNW CO US",
         "0.1",
         " ",
         " "
        ],
        [
         "2013-03-09 15:00:00",
         "COOP:055881",
         "NEDERLAND 5 NNW CO US",
         "0.1",
         " ",
         " "
        ],
        [
         "2013-03-10 10:00:00",
         "COOP:055881",
         "NEDERLAND 5 NNW CO US",
         "0.1",
         " ",
         " "
        ],
        [
         "2013-03-11 22:00:00",
         "COOP:055881",
         "NEDERLAND 5 NNW CO US",
         "0.1",
         " ",
         " "
        ],
        [
         "2013-03-12 00:00:00",
         "COOP:055881",
         "NEDERLAND 5 NNW CO US",
         "0.1",
         " ",
         " "
        ],
        [
         "2013-03-12 04:00:00",
         "COOP:055881",
         "NEDERLAND 5 NNW CO US",
         "0.1",
         " ",
         " "
        ],
        [
         "2013-03-12 11:00:00",
         "COOP:055881",
         "NEDERLAND 5 NNW CO US",
         "0.1",
         " ",
         " "
        ],
        [
         "2013-03-13 14:00:00",
         "COOP:055881",
         "NEDERLAND 5 NNW CO US",
         "0.1",
         " ",
         " "
        ],
        [
         "2013-03-17 21:00:00",
         "COOP:055881",
         "NEDERLAND 5 NNW CO US",
         "0.1",
         " ",
         " "
        ],
        [
         "2013-03-20 13:00:00",
         "COOP:055881",
         "NEDERLAND 5 NNW CO US",
         "0.1",
         " ",
         " "
        ],
        [
         "2013-03-22 15:00:00",
         "COOP:055881",
         "NEDERLAND 5 NNW CO US",
         "0.1",
         " ",
         " "
        ],
        [
         "2013-03-22 17:00:00",
         "COOP:055881",
         "NEDERLAND 5 NNW CO US",
         "0.1",
         " ",
         " "
        ],
        [
         "2013-03-22 20:00:00",
         "COOP:055881",
         "NEDERLAND 5 NNW CO US",
         "0.1",
         " ",
         " "
        ],
        [
         "2013-03-22 23:00:00",
         "COOP:055881",
         "NEDERLAND 5 NNW CO US",
         "0.1",
         " ",
         " "
        ],
        [
         "2013-03-23 01:00:00",
         "COOP:055881",
         "NEDERLAND 5 NNW CO US",
         "0.1",
         " ",
         " "
        ],
        [
         "2013-03-23 04:00:00",
         "COOP:055881",
         "NEDERLAND 5 NNW CO US",
         "0.1",
         " ",
         " "
        ],
        [
         "2013-03-23 08:00:00",
         "COOP:055881",
         "NEDERLAND 5 NNW CO US",
         "0.1",
         " ",
         " "
        ],
        [
         "2013-03-23 11:00:00",
         "COOP:055881",
         "NEDERLAND 5 NNW CO US",
         "0.1",
         " ",
         " "
        ]
       ],
       "shape": {
        "columns": 5,
        "rows": 662
       }
      },
      "text/html": [
       "<div>\n",
       "<style scoped>\n",
       "    .dataframe tbody tr th:only-of-type {\n",
       "        vertical-align: middle;\n",
       "    }\n",
       "\n",
       "    .dataframe tbody tr th {\n",
       "        vertical-align: top;\n",
       "    }\n",
       "\n",
       "    .dataframe thead th {\n",
       "        text-align: right;\n",
       "    }\n",
       "</style>\n",
       "<table border=\"1\" class=\"dataframe\">\n",
       "  <thead>\n",
       "    <tr style=\"text-align: right;\">\n",
       "      <th></th>\n",
       "      <th>STATION</th>\n",
       "      <th>STATION_NAME</th>\n",
       "      <th>HPCP</th>\n",
       "      <th>Measurement Flag</th>\n",
       "      <th>Quality Flag</th>\n",
       "    </tr>\n",
       "    <tr>\n",
       "      <th>DATE</th>\n",
       "      <th></th>\n",
       "      <th></th>\n",
       "      <th></th>\n",
       "      <th></th>\n",
       "      <th></th>\n",
       "    </tr>\n",
       "  </thead>\n",
       "  <tbody>\n",
       "    <tr>\n",
       "      <th>2013-01-01 01:00:00</th>\n",
       "      <td>COOP:055881</td>\n",
       "      <td>NEDERLAND 5 NNW CO US</td>\n",
       "      <td>0.0</td>\n",
       "      <td>g</td>\n",
       "      <td></td>\n",
       "    </tr>\n",
       "    <tr>\n",
       "      <th>2013-01-10 02:00:00</th>\n",
       "      <td>COOP:055881</td>\n",
       "      <td>NEDERLAND 5 NNW CO US</td>\n",
       "      <td>NaN</td>\n",
       "      <td>[</td>\n",
       "      <td></td>\n",
       "    </tr>\n",
       "    <tr>\n",
       "      <th>2013-01-13 00:00:00</th>\n",
       "      <td>COOP:055881</td>\n",
       "      <td>NEDERLAND 5 NNW CO US</td>\n",
       "      <td>NaN</td>\n",
       "      <td>]</td>\n",
       "      <td></td>\n",
       "    </tr>\n",
       "    <tr>\n",
       "      <th>2013-01-26 20:00:00</th>\n",
       "      <td>COOP:055881</td>\n",
       "      <td>NEDERLAND 5 NNW CO US</td>\n",
       "      <td>0.1</td>\n",
       "      <td></td>\n",
       "      <td></td>\n",
       "    </tr>\n",
       "    <tr>\n",
       "      <th>2013-01-28 23:00:00</th>\n",
       "      <td>COOP:055881</td>\n",
       "      <td>NEDERLAND 5 NNW CO US</td>\n",
       "      <td>0.1</td>\n",
       "      <td></td>\n",
       "      <td></td>\n",
       "    </tr>\n",
       "    <tr>\n",
       "      <th>...</th>\n",
       "      <td>...</td>\n",
       "      <td>...</td>\n",
       "      <td>...</td>\n",
       "      <td>...</td>\n",
       "      <td>...</td>\n",
       "    </tr>\n",
       "    <tr>\n",
       "      <th>2013-12-22 01:00:00</th>\n",
       "      <td>COOP:050843</td>\n",
       "      <td>BOULDER 2 CO US</td>\n",
       "      <td>NaN</td>\n",
       "      <td>[</td>\n",
       "      <td></td>\n",
       "    </tr>\n",
       "    <tr>\n",
       "      <th>2013-12-23 00:00:00</th>\n",
       "      <td>COOP:050843</td>\n",
       "      <td>BOULDER 2 CO US</td>\n",
       "      <td>NaN</td>\n",
       "      <td>]</td>\n",
       "      <td></td>\n",
       "    </tr>\n",
       "    <tr>\n",
       "      <th>2013-12-23 02:00:00</th>\n",
       "      <td>COOP:050843</td>\n",
       "      <td>BOULDER 2 CO US</td>\n",
       "      <td>0.1</td>\n",
       "      <td></td>\n",
       "      <td></td>\n",
       "    </tr>\n",
       "    <tr>\n",
       "      <th>2013-12-29 01:00:00</th>\n",
       "      <td>COOP:050843</td>\n",
       "      <td>BOULDER 2 CO US</td>\n",
       "      <td>NaN</td>\n",
       "      <td>[</td>\n",
       "      <td></td>\n",
       "    </tr>\n",
       "    <tr>\n",
       "      <th>2013-12-31 00:00:00</th>\n",
       "      <td>COOP:050843</td>\n",
       "      <td>BOULDER 2 CO US</td>\n",
       "      <td>NaN</td>\n",
       "      <td>]</td>\n",
       "      <td></td>\n",
       "    </tr>\n",
       "  </tbody>\n",
       "</table>\n",
       "<p>662 rows × 5 columns</p>\n",
       "</div>"
      ],
      "text/plain": [
       "                         STATION           STATION_NAME  HPCP  \\\n",
       "DATE                                                            \n",
       "2013-01-01 01:00:00  COOP:055881  NEDERLAND 5 NNW CO US   0.0   \n",
       "2013-01-10 02:00:00  COOP:055881  NEDERLAND 5 NNW CO US   NaN   \n",
       "2013-01-13 00:00:00  COOP:055881  NEDERLAND 5 NNW CO US   NaN   \n",
       "2013-01-26 20:00:00  COOP:055881  NEDERLAND 5 NNW CO US   0.1   \n",
       "2013-01-28 23:00:00  COOP:055881  NEDERLAND 5 NNW CO US   0.1   \n",
       "...                          ...                    ...   ...   \n",
       "2013-12-22 01:00:00  COOP:050843        BOULDER 2 CO US   NaN   \n",
       "2013-12-23 00:00:00  COOP:050843        BOULDER 2 CO US   NaN   \n",
       "2013-12-23 02:00:00  COOP:050843        BOULDER 2 CO US   0.1   \n",
       "2013-12-29 01:00:00  COOP:050843        BOULDER 2 CO US   NaN   \n",
       "2013-12-31 00:00:00  COOP:050843        BOULDER 2 CO US   NaN   \n",
       "\n",
       "                    Measurement Flag Quality Flag  \n",
       "DATE                                               \n",
       "2013-01-01 01:00:00                g               \n",
       "2013-01-10 02:00:00                [               \n",
       "2013-01-13 00:00:00                ]               \n",
       "2013-01-26 20:00:00                                \n",
       "2013-01-28 23:00:00                                \n",
       "...                              ...          ...  \n",
       "2013-12-22 01:00:00                [               \n",
       "2013-12-23 00:00:00                ]               \n",
       "2013-12-23 02:00:00                                \n",
       "2013-12-29 01:00:00                [               \n",
       "2013-12-31 00:00:00                ]               \n",
       "\n",
       "[662 rows x 5 columns]"
      ]
     },
     "execution_count": 32,
     "metadata": {},
     "output_type": "execute_result"
    }
   ],
   "source": [
    "# Select 2013 precipitation data\n",
    "precip.loc['2013']"
   ]
  },
  {
   "cell_type": "code",
   "execution_count": 33,
   "id": "e197d7ca",
   "metadata": {},
   "outputs": [
    {
     "data": {
      "text/plain": [
       "<Axes: xlabel='DATE'>"
      ]
     },
     "execution_count": 33,
     "metadata": {},
     "output_type": "execute_result"
    },
    {
     "data": {
      "image/png": "[encoded data removed]",
      "text/plain": [
       "<Figure size 640x480 with 1 Axes>"
      ]
     },
     "metadata": {},
     "output_type": "display_data"
    }
   ],
   "source": [
    "precip.loc['2013'].plot()"
   ]
  },
  {
   "cell_type": "markdown",
   "id": "9d950178",
   "metadata": {},
   "source": [
    "## Resample\n",
    "\n",
    "Resampling a time series means converting a time series from one frequency to another. For example, monthly to yearly (downsampling) or weekly to daily (upsampling).\n",
    "\n",
    "We can resample with the `resample()` method. The simplest us is to call\n",
    "\n",
    "```\n",
    "df.resample(new_frequency).aggregator_function()\n",
    "```\n",
    "where:\n",
    "- `new_frequency`: is a string representing the new frequency to resample the data: 'D' for day, 'w' for week, 'Y' for year, 'M' for month\n",
    "- `aggregator_function()`: is the function we will use to aggregate the data into the new frequency. For example, `max()`, `min()`, `sum()`, `average()`.\n",
    "\n",
    "## Example\n",
    "Our 2013 precipitation data has hourly frequency, we want to resample it to daily frequency (downsampling)"
   ]
  },
  {
   "cell_type": "code",
   "execution_count": null,
   "id": "ff5e2ba9",
   "metadata": {},
   "outputs": [],
   "source": [
    "# Resample 2013 hourly data to daily frequency.\n",
    "daily_precip_2013 = precip.loc['2013'].resample('D').sum() # Since we have hourly data, a sum of the daily frequency would go from hourly to daily."
   ]
  },
  {
   "cell_type": "code",
   "execution_count": 40,
   "id": "0cf8ecf6",
   "metadata": {},
   "outputs": [
    {
     "data": {
      "text/plain": [
       "<Axes: title={'center': 'Precipitation in Boulder, CO'}, ylabel='daily precipitation (in)'>"
      ]
     },
     "execution_count": 40,
     "metadata": {},
     "output_type": "execute_result"
    },
    {
     "data": {
      "image/png": "[encoded data removed]",
      "text/plain": [
       "<Figure size 640x480 with 1 Axes>"
      ]
     },
     "metadata": {},
     "output_type": "display_data"
    }
   ],
   "source": [
    "daily_precip_2013.plot(ylabel='daily precipitation (in)',\n",
    "                       xlabel='',\n",
    "                       title='Precipitation in Boulder, CO',\n",
    "                       legend=False)"
   ]
  },
  {
   "cell_type": "code",
   "execution_count": null,
   "id": "b15f602b",
   "metadata": {},
   "outputs": [],
   "source": []
  }
 ],
 "metadata": {
  "kernelspec": {
   "display_name": "EDS220",
   "language": "python",
   "name": "eds220-env"
  },
  "language_info": {
   "codemirror_mode": {
    "name": "ipython",
    "version": 3
   },
   "file_extension": ".py",
   "mimetype": "text/x-python",
   "name": "python",
   "nbconvert_exporter": "python",
   "pygments_lexer": "ipython3",
   "version": "3.11.4"
  }
 },
 "nbformat": 4,
 "nbformat_minor": 5
}
