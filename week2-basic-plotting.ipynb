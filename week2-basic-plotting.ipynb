{
 "cells": [
  {
   "cell_type": "markdown",
   "id": "bce432ed",
   "metadata": {},
   "source": [
    "# 3 Basic Plotting"
   ]
  },
  {
   "cell_type": "code",
   "execution_count": 5,
   "id": "e69635ad",
   "metadata": {},
   "outputs": [
    {
     "data": {
      "application/vnd.microsoft.datawrangler.viewer.v0+json": {
       "columns": [
        {
         "name": "index",
         "rawType": "int64",
         "type": "integer"
        },
        {
         "name": "year",
         "rawType": "int64",
         "type": "integer"
        },
        {
         "name": "CSM_winter",
         "rawType": "float64",
         "type": "float"
        },
        {
         "name": "CSM_spring",
         "rawType": "float64",
         "type": "float"
        },
        {
         "name": "CSM_fall",
         "rawType": "float64",
         "type": "float"
        },
        {
         "name": "MUL_winter",
         "rawType": "float64",
         "type": "float"
        },
        {
         "name": "MUL_spring",
         "rawType": "float64",
         "type": "float"
        },
        {
         "name": "MUL_fall",
         "rawType": "float64",
         "type": "float"
        },
        {
         "name": "SDW_winter",
         "rawType": "float64",
         "type": "float"
        },
        {
         "name": "SDW_spring",
         "rawType": "float64",
         "type": "float"
        },
        {
         "name": "SDW_fall",
         "rawType": "float64",
         "type": "float"
        },
        {
         "name": "TJE_winter",
         "rawType": "float64",
         "type": "float"
        },
        {
         "name": "TJE_spring",
         "rawType": "float64",
         "type": "float"
        },
        {
         "name": "TJE_fall",
         "rawType": "float64",
         "type": "float"
        }
       ],
       "ref": "03771ed9-420c-49cd-a830-b07bfbe508d5",
       "rows": [
        [
         "0",
         "2010",
         "39.0",
         "40.0",
         "50.0",
         "45.0",
         null,
         "61.0",
         null,
         "75.0",
         "85.0",
         null,
         null,
         "81.0"
        ],
        [
         "1",
         "2011",
         "48.0",
         "44.0",
         null,
         "58.0",
         "52.0",
         null,
         "78.0",
         "74.0",
         null,
         "67.0",
         "70.0",
         null
        ],
        [
         "2",
         "2012",
         "51.0",
         "43.0",
         "49.0",
         "57.0",
         "58.0",
         "53.0",
         "71.0",
         "72.0",
         "73.0",
         "70.0",
         "63.0",
         "69.0"
        ],
        [
         "3",
         "2013",
         "42.0",
         "46.0",
         "38.0",
         "60.0",
         "58.0",
         "62.0",
         "69.0",
         "70.0",
         "70.0",
         "69.0",
         "74.0",
         "64.0"
        ],
        [
         "4",
         "2014",
         "38.0",
         "43.0",
         "45.0",
         "49.0",
         "52.0",
         "57.0",
         "61.0",
         "78.0",
         "71.0",
         "60.0",
         "81.0",
         "62.0"
        ]
       ],
       "shape": {
        "columns": 13,
        "rows": 5
       }
      },
      "text/html": [
       "<div>\n",
       "<style scoped>\n",
       "    .dataframe tbody tr th:only-of-type {\n",
       "        vertical-align: middle;\n",
       "    }\n",
       "\n",
       "    .dataframe tbody tr th {\n",
       "        vertical-align: top;\n",
       "    }\n",
       "\n",
       "    .dataframe thead th {\n",
       "        text-align: right;\n",
       "    }\n",
       "</style>\n",
       "<table border=\"1\" class=\"dataframe\">\n",
       "  <thead>\n",
       "    <tr style=\"text-align: right;\">\n",
       "      <th></th>\n",
       "      <th>year</th>\n",
       "      <th>CSM_winter</th>\n",
       "      <th>CSM_spring</th>\n",
       "      <th>CSM_fall</th>\n",
       "      <th>MUL_winter</th>\n",
       "      <th>MUL_spring</th>\n",
       "      <th>MUL_fall</th>\n",
       "      <th>SDW_winter</th>\n",
       "      <th>SDW_spring</th>\n",
       "      <th>SDW_fall</th>\n",
       "      <th>TJE_winter</th>\n",
       "      <th>TJE_spring</th>\n",
       "      <th>TJE_fall</th>\n",
       "    </tr>\n",
       "  </thead>\n",
       "  <tbody>\n",
       "    <tr>\n",
       "      <th>0</th>\n",
       "      <td>2010</td>\n",
       "      <td>39.0</td>\n",
       "      <td>40.0</td>\n",
       "      <td>50.0</td>\n",
       "      <td>45.0</td>\n",
       "      <td>NaN</td>\n",
       "      <td>61.0</td>\n",
       "      <td>NaN</td>\n",
       "      <td>75.0</td>\n",
       "      <td>85.0</td>\n",
       "      <td>NaN</td>\n",
       "      <td>NaN</td>\n",
       "      <td>81.0</td>\n",
       "    </tr>\n",
       "    <tr>\n",
       "      <th>1</th>\n",
       "      <td>2011</td>\n",
       "      <td>48.0</td>\n",
       "      <td>44.0</td>\n",
       "      <td>NaN</td>\n",
       "      <td>58.0</td>\n",
       "      <td>52.0</td>\n",
       "      <td>NaN</td>\n",
       "      <td>78.0</td>\n",
       "      <td>74.0</td>\n",
       "      <td>NaN</td>\n",
       "      <td>67.0</td>\n",
       "      <td>70.0</td>\n",
       "      <td>NaN</td>\n",
       "    </tr>\n",
       "    <tr>\n",
       "      <th>2</th>\n",
       "      <td>2012</td>\n",
       "      <td>51.0</td>\n",
       "      <td>43.0</td>\n",
       "      <td>49.0</td>\n",
       "      <td>57.0</td>\n",
       "      <td>58.0</td>\n",
       "      <td>53.0</td>\n",
       "      <td>71.0</td>\n",
       "      <td>72.0</td>\n",
       "      <td>73.0</td>\n",
       "      <td>70.0</td>\n",
       "      <td>63.0</td>\n",
       "      <td>69.0</td>\n",
       "    </tr>\n",
       "    <tr>\n",
       "      <th>3</th>\n",
       "      <td>2013</td>\n",
       "      <td>42.0</td>\n",
       "      <td>46.0</td>\n",
       "      <td>38.0</td>\n",
       "      <td>60.0</td>\n",
       "      <td>58.0</td>\n",
       "      <td>62.0</td>\n",
       "      <td>69.0</td>\n",
       "      <td>70.0</td>\n",
       "      <td>70.0</td>\n",
       "      <td>69.0</td>\n",
       "      <td>74.0</td>\n",
       "      <td>64.0</td>\n",
       "    </tr>\n",
       "    <tr>\n",
       "      <th>4</th>\n",
       "      <td>2014</td>\n",
       "      <td>38.0</td>\n",
       "      <td>43.0</td>\n",
       "      <td>45.0</td>\n",
       "      <td>49.0</td>\n",
       "      <td>52.0</td>\n",
       "      <td>57.0</td>\n",
       "      <td>61.0</td>\n",
       "      <td>78.0</td>\n",
       "      <td>71.0</td>\n",
       "      <td>60.0</td>\n",
       "      <td>81.0</td>\n",
       "      <td>62.0</td>\n",
       "    </tr>\n",
       "  </tbody>\n",
       "</table>\n",
       "</div>"
      ],
      "text/plain": [
       "   year  CSM_winter  CSM_spring  CSM_fall  MUL_winter  MUL_spring  MUL_fall  \\\n",
       "0  2010        39.0        40.0      50.0        45.0         NaN      61.0   \n",
       "1  2011        48.0        44.0       NaN        58.0        52.0       NaN   \n",
       "2  2012        51.0        43.0      49.0        57.0        58.0      53.0   \n",
       "3  2013        42.0        46.0      38.0        60.0        58.0      62.0   \n",
       "4  2014        38.0        43.0      45.0        49.0        52.0      57.0   \n",
       "\n",
       "   SDW_winter  SDW_spring  SDW_fall  TJE_winter  TJE_spring  TJE_fall  \n",
       "0         NaN        75.0      85.0         NaN         NaN      81.0  \n",
       "1        78.0        74.0       NaN        67.0        70.0       NaN  \n",
       "2        71.0        72.0      73.0        70.0        63.0      69.0  \n",
       "3        69.0        70.0      70.0        69.0        74.0      64.0  \n",
       "4        61.0        78.0      71.0        60.0        81.0      62.0  "
      ]
     },
     "execution_count": 5,
     "metadata": {},
     "output_type": "execute_result"
    }
   ],
   "source": [
    "import pandas as pd\n",
    "\n",
    "# Read in file\n",
    "df = pd.read_csv('data/wetlands_seasonal_bird_diversity.csv')\n",
    "\n",
    "# Check the first 5 rows\n",
    "df.head()"
   ]
  },
  {
   "cell_type": "code",
   "execution_count": 3,
   "id": "19622df5",
   "metadata": {},
   "outputs": [
    {
     "data": {
      "text/plain": [
       "<Axes: >"
      ]
     },
     "execution_count": 3,
     "metadata": {},
     "output_type": "execute_result"
    },
    {
     "data": {
      "image/png": "[encoded data removed]",
      "text/plain": [
       "<Figure size 640x480 with 1 Axes>"
      ]
     },
     "metadata": {},
     "output_type": "display_data"
    }
   ],
   "source": [
    "# Default plot(): one line plot per column with numeric data\n",
    "df.plot()"
   ]
  },
  {
   "cell_type": "markdown",
   "id": "08cd21be",
   "metadata": {},
   "source": [
    "# Line Plots"
   ]
  },
  {
   "cell_type": "code",
   "execution_count": 7,
   "id": "d17354ea",
   "metadata": {},
   "outputs": [
    {
     "data": {
      "text/plain": [
       "<Axes: xlabel='year'>"
      ]
     },
     "execution_count": 7,
     "metadata": {},
     "output_type": "execute_result"
    },
    {
     "data": {
      "image/png": "[encoded data removed]",
      "text/plain": [
       "<Figure size 640x480 with 1 Axes>"
      ]
     },
     "metadata": {},
     "output_type": "display_data"
    }
   ],
   "source": [
    "df.plot(x='year', y='CSM_winter')"
   ]
  },
  {
   "cell_type": "code",
   "execution_count": null,
   "id": "a58e12d9",
   "metadata": {},
   "outputs": [],
   "source": [
    "# Birds species registered during winter at CSM yearly\n",
    "df.plot(x='year', y='CSM_winter')"
   ]
  },
  {
   "cell_type": "code",
   "execution_count": 8,
   "id": "7d7860e9",
   "metadata": {},
   "outputs": [
    {
     "data": {
      "text/plain": [
       "<Axes: title={'center': 'Bird species registered during winter at Carpinteria Salt Marsh'}, xlabel='Year', ylabel='Number of bird species'>"
      ]
     },
     "execution_count": 8,
     "metadata": {},
     "output_type": "execute_result"
    },
    {
     "data": {
      "image/png": "[encoded data removed]",
      "text/plain": [
       "<Figure size 640x480 with 1 Axes>"
      ]
     },
     "metadata": {},
     "output_type": "display_data"
    }
   ],
   "source": [
    "df.plot(x='year', \n",
    "        y='CSM_winter',\n",
    "        title='Bird species registered during winter at Carpinteria Salt Marsh',\n",
    "        xlabel='Year',\n",
    "        ylabel='Number of bird species',\n",
    "        color='green',\n",
    "        legend=False\n",
    "        )"
   ]
  },
  {
   "cell_type": "markdown",
   "id": "0a22ca2f",
   "metadata": {},
   "source": [
    "## Check-in"
   ]
  },
  {
   "cell_type": "markdown",
   "id": "db14a3a4",
   "metadata": {},
   "source": [
    "1. Plot a graph of the spring bird surveys at Mugu Lagoon with respect to the years. Include some basic customization."
   ]
  },
  {
   "cell_type": "code",
   "execution_count": 11,
   "id": "67d69f43",
   "metadata": {},
   "outputs": [
    {
     "data": {
      "text/plain": [
       "<Axes: title={'center': 'Number of bird species at Mugu Lagoon in spring'}, xlabel='Year', ylabel='Number of bird species'>"
      ]
     },
     "execution_count": 11,
     "metadata": {},
     "output_type": "execute_result"
    },
    {
     "data": {
      "image/png": "[encoded data removed]",
      "text/plain": [
       "<Figure size 640x480 with 1 Axes>"
      ]
     },
     "metadata": {},
     "output_type": "display_data"
    }
   ],
   "source": [
    "# Plotting spring bird surveys at Mugu Lagoon with respect to years\n",
    "df.plot(x = 'year',\n",
    "        y = 'MUL_spring',\n",
    "        title = 'Number of bird species at Mugu Lagoon in spring',\n",
    "        xlabel = 'Year',\n",
    "        ylabel = 'Number of bird species',\n",
    "        color = 'purple')"
   ]
  },
  {
   "cell_type": "markdown",
   "id": "e41f56f4",
   "metadata": {},
   "source": [
    "2. Use the isna() method for pandas.Series and row selection to select the rows in which Mugu Lagoon has NAs during the spring survey."
   ]
  },
  {
   "cell_type": "code",
   "execution_count": null,
   "id": "06247fd8",
   "metadata": {},
   "outputs": [
    {
     "data": {
      "application/vnd.microsoft.datawrangler.viewer.v0+json": {
       "columns": [
        {
         "name": "index",
         "rawType": "int64",
         "type": "integer"
        },
        {
         "name": "MUL_spring",
         "rawType": "bool",
         "type": "boolean"
        }
       ],
       "ref": "3ed73a62-44e6-4477-894f-e438c9521e55",
       "rows": [
        [
         "0",
         "True"
        ],
        [
         "1",
         "False"
        ],
        [
         "2",
         "False"
        ],
        [
         "3",
         "False"
        ],
        [
         "4",
         "False"
        ],
        [
         "5",
         "False"
        ],
        [
         "6",
         "False"
        ],
        [
         "7",
         "False"
        ],
        [
         "8",
         "False"
        ],
        [
         "9",
         "False"
        ],
        [
         "10",
         "True"
        ],
        [
         "11",
         "False"
        ],
        [
         "12",
         "False"
        ],
        [
         "13",
         "False"
        ]
       ],
       "shape": {
        "columns": 1,
        "rows": 14
       }
      },
      "text/plain": [
       "0      True\n",
       "1     False\n",
       "2     False\n",
       "3     False\n",
       "4     False\n",
       "5     False\n",
       "6     False\n",
       "7     False\n",
       "8     False\n",
       "9     False\n",
       "10     True\n",
       "11    False\n",
       "12    False\n",
       "13    False\n",
       "Name: MUL_spring, dtype: bool"
      ]
     },
     "execution_count": 13,
     "metadata": {},
     "output_type": "execute_result"
    }
   ],
   "source": [
    "# use `isna()`\n",
    "df['MUL_spring'].isna() # pulling the values in the data frame that are NA values"
   ]
  },
  {
   "cell_type": "code",
   "execution_count": null,
   "id": "aeaa46a8",
   "metadata": {},
   "outputs": [
    {
     "data": {
      "application/vnd.microsoft.datawrangler.viewer.v0+json": {
       "columns": [
        {
         "name": "index",
         "rawType": "int64",
         "type": "integer"
        },
        {
         "name": "year",
         "rawType": "int64",
         "type": "integer"
        },
        {
         "name": "CSM_winter",
         "rawType": "float64",
         "type": "float"
        },
        {
         "name": "CSM_spring",
         "rawType": "float64",
         "type": "float"
        },
        {
         "name": "CSM_fall",
         "rawType": "float64",
         "type": "float"
        },
        {
         "name": "MUL_winter",
         "rawType": "float64",
         "type": "float"
        },
        {
         "name": "MUL_spring",
         "rawType": "float64",
         "type": "float"
        },
        {
         "name": "MUL_fall",
         "rawType": "float64",
         "type": "float"
        },
        {
         "name": "SDW_winter",
         "rawType": "float64",
         "type": "float"
        },
        {
         "name": "SDW_spring",
         "rawType": "float64",
         "type": "float"
        },
        {
         "name": "SDW_fall",
         "rawType": "float64",
         "type": "float"
        },
        {
         "name": "TJE_winter",
         "rawType": "float64",
         "type": "float"
        },
        {
         "name": "TJE_spring",
         "rawType": "float64",
         "type": "float"
        },
        {
         "name": "TJE_fall",
         "rawType": "float64",
         "type": "float"
        }
       ],
       "ref": "328d5c6f-132b-4b6d-9462-a1938ae4b08f",
       "rows": [
        [
         "0",
         "2010",
         "39.0",
         "40.0",
         "50.0",
         "45.0",
         null,
         "61.0",
         null,
         "75.0",
         "85.0",
         null,
         null,
         "81.0"
        ],
        [
         "10",
         "2020",
         "46.0",
         null,
         "47.0",
         "56.0",
         null,
         "66.0",
         "57.0",
         null,
         "58.0",
         "54.0",
         "40.0",
         "54.0"
        ]
       ],
       "shape": {
        "columns": 13,
        "rows": 2
       }
      },
      "text/html": [
       "<div>\n",
       "<style scoped>\n",
       "    .dataframe tbody tr th:only-of-type {\n",
       "        vertical-align: middle;\n",
       "    }\n",
       "\n",
       "    .dataframe tbody tr th {\n",
       "        vertical-align: top;\n",
       "    }\n",
       "\n",
       "    .dataframe thead th {\n",
       "        text-align: right;\n",
       "    }\n",
       "</style>\n",
       "<table border=\"1\" class=\"dataframe\">\n",
       "  <thead>\n",
       "    <tr style=\"text-align: right;\">\n",
       "      <th></th>\n",
       "      <th>year</th>\n",
       "      <th>CSM_winter</th>\n",
       "      <th>CSM_spring</th>\n",
       "      <th>CSM_fall</th>\n",
       "      <th>MUL_winter</th>\n",
       "      <th>MUL_spring</th>\n",
       "      <th>MUL_fall</th>\n",
       "      <th>SDW_winter</th>\n",
       "      <th>SDW_spring</th>\n",
       "      <th>SDW_fall</th>\n",
       "      <th>TJE_winter</th>\n",
       "      <th>TJE_spring</th>\n",
       "      <th>TJE_fall</th>\n",
       "    </tr>\n",
       "  </thead>\n",
       "  <tbody>\n",
       "    <tr>\n",
       "      <th>0</th>\n",
       "      <td>2010</td>\n",
       "      <td>39.0</td>\n",
       "      <td>40.0</td>\n",
       "      <td>50.0</td>\n",
       "      <td>45.0</td>\n",
       "      <td>NaN</td>\n",
       "      <td>61.0</td>\n",
       "      <td>NaN</td>\n",
       "      <td>75.0</td>\n",
       "      <td>85.0</td>\n",
       "      <td>NaN</td>\n",
       "      <td>NaN</td>\n",
       "      <td>81.0</td>\n",
       "    </tr>\n",
       "    <tr>\n",
       "      <th>10</th>\n",
       "      <td>2020</td>\n",
       "      <td>46.0</td>\n",
       "      <td>NaN</td>\n",
       "      <td>47.0</td>\n",
       "      <td>56.0</td>\n",
       "      <td>NaN</td>\n",
       "      <td>66.0</td>\n",
       "      <td>57.0</td>\n",
       "      <td>NaN</td>\n",
       "      <td>58.0</td>\n",
       "      <td>54.0</td>\n",
       "      <td>40.0</td>\n",
       "      <td>54.0</td>\n",
       "    </tr>\n",
       "  </tbody>\n",
       "</table>\n",
       "</div>"
      ],
      "text/plain": [
       "    year  CSM_winter  CSM_spring  CSM_fall  MUL_winter  MUL_spring  MUL_fall  \\\n",
       "0   2010        39.0        40.0      50.0        45.0         NaN      61.0   \n",
       "10  2020        46.0         NaN      47.0        56.0         NaN      66.0   \n",
       "\n",
       "    SDW_winter  SDW_spring  SDW_fall  TJE_winter  TJE_spring  TJE_fall  \n",
       "0          NaN        75.0      85.0         NaN         NaN      81.0  \n",
       "10        57.0         NaN      58.0        54.0        40.0      54.0  "
      ]
     },
     "execution_count": 14,
     "metadata": {},
     "output_type": "execute_result"
    }
   ],
   "source": [
    "# Pulling the rows in the entire dataframe that align with the missing values in the MUL_spring column\n",
    "df[df['MUL_spring'].isna()]"
   ]
  },
  {
   "cell_type": "markdown",
   "id": "e76e8d01",
   "metadata": {},
   "source": [
    "### Multiple Line Plot"
   ]
  },
  {
   "cell_type": "code",
   "execution_count": null,
   "id": "172047d5",
   "metadata": {},
   "outputs": [],
   "source": [
    "df.plot(x='year', \n",
    "        y=['TJE_spring', 'TJE_fall'],\n",
    "        title = 'Seasonal bird surveys at Tijuana Estuary',\n",
    "        xlabel='Year',\n",
    "        ylabel='Number of bird species',        \n",
    "        color = {'TJE_spring':'#F48FB1',\n",
    "                 'TJE_fall': '#AB47BC'\n",
    "                 }\n",
    "        )"
   ]
  },
  {
   "cell_type": "code",
   "execution_count": null,
   "id": "cac6cf98",
   "metadata": {},
   "outputs": [],
   "source": [
    "df.plot(x='year', \n",
    "        y=['TJE_spring', 'TJE_fall'],\n",
    "        title = 'Seasonal bird surveys at Tijuana Estuary',\n",
    "        xlabel='Year',\n",
    "        ylabel='Number of bird species',        \n",
    "        color = {'TJE_spring':'#F48FB1',\n",
    "                 'TJE_fall': '#AB47BC'\n",
    "                 },\n",
    "        subplots=True\n",
    "        )"
   ]
  },
  {
   "cell_type": "markdown",
   "id": "cd5bd4d5",
   "metadata": {},
   "source": [
    "### Updating the index"
   ]
  },
  {
   "cell_type": "code",
   "execution_count": null,
   "id": "b706a15a",
   "metadata": {},
   "outputs": [],
   "source": [
    "df = df.set_index(new_index)"
   ]
  },
  {
   "cell_type": "code",
   "execution_count": null,
   "id": "48281226",
   "metadata": {},
   "outputs": [],
   "source": [
    "# Set `column_name` column in df as the new index (reassignment)\n",
    "df = df.set_index('column_name')"
   ]
  },
  {
   "cell_type": "code",
   "execution_count": null,
   "id": "da119927",
   "metadata": {},
   "outputs": [],
   "source": [
    "# Set `column_name` column in df as the new index (modify df in-place)\n",
    "df.set_index('column_name', inplace=True)"
   ]
  },
  {
   "cell_type": "markdown",
   "id": "0c9e1b0d",
   "metadata": {},
   "source": [
    "#### Example"
   ]
  },
  {
   "cell_type": "code",
   "execution_count": null,
   "id": "0eb45160",
   "metadata": {},
   "outputs": [],
   "source": [
    "# Update index to be the year column\n",
    "df = df.set_index('year')\n",
    "df.head()"
   ]
  },
  {
   "cell_type": "code",
   "execution_count": null,
   "id": "3719fa18",
   "metadata": {},
   "outputs": [],
   "source": [
    "# Simple plot of Carpinteria Salt Marsh winter surveys\n",
    "df.plot(y='CSM_winter')"
   ]
  },
  {
   "cell_type": "code",
   "execution_count": null,
   "id": "e56e2ef4",
   "metadata": {},
   "outputs": [],
   "source": [
    "df = df.reset_index()\n",
    "df.head()"
   ]
  },
  {
   "cell_type": "markdown",
   "id": "def9d9e7",
   "metadata": {},
   "source": [
    "## Check-in\n",
    "Without running the code, give a step-by-step breakdown of what this code is doing:\n",
    "```\n",
    "df.set_index('year').loc[:,'SDW_winter':'TJE_fall'].plot()\n",
    "```\n",
    "**What the code is doing**: \n",
    "1. `df.set_index('year')` set the index to year\n",
    "2. .loc[:, 'SDW_winter':'TJE_fall'] # selecting all of the rows, selecting SDW_winter thru TJE_fall\n",
    "3. .plot() plotting our slected data frame\n",
    "\n",
    "Using `.` is called the method chaining and is very similar to the piping operator in R!"
   ]
  },
  {
   "cell_type": "markdown",
   "id": "467f059b",
   "metadata": {},
   "source": [
    "2. Is this code modifying the data frame df? Why or why not?\n",
    "\n",
    "This code is not modifying the data frame df"
   ]
  },
  {
   "cell_type": "markdown",
   "id": "9aefcfe8",
   "metadata": {},
   "source": [
    "\n",
    "3. Run the code and examine the graph. Review the data description. Do we have all the necessary information to make sure it makes sense to directly compare the surveys at these different sites?\n",
    "\n",
    "May be other factors that might be affecting the data. Such as the sampling areas being different sizes"
   ]
  },
  {
   "cell_type": "code",
   "execution_count": 15,
   "id": "826e7e7d",
   "metadata": {},
   "outputs": [
    {
     "data": {
      "text/plain": [
       "<Axes: xlabel='year'>"
      ]
     },
     "execution_count": 15,
     "metadata": {},
     "output_type": "execute_result"
    },
    {
     "data": {
      "image/png": "[encoded data removed]",
      "text/plain": [
       "<Figure size 640x480 with 1 Axes>"
      ]
     },
     "metadata": {},
     "output_type": "display_data"
    }
   ],
   "source": [
    "df.set_index('year').loc[:,'SDW_winter':'TJE_fall'].plot()"
   ]
  },
  {
   "cell_type": "markdown",
   "id": "1dd58a16",
   "metadata": {},
   "source": [
    "## Method Chaining"
   ]
  },
  {
   "cell_type": "code",
   "execution_count": null,
   "id": "4ad01ce3",
   "metadata": {},
   "outputs": [],
   "source": [
    "df.set_index('year').loc[:,'SDW_winter':'TJE_fall'].plot()"
   ]
  },
  {
   "cell_type": "code",
   "execution_count": null,
   "id": "c9d03dee",
   "metadata": {},
   "outputs": [],
   "source": [
    "(df.set_index('year')\n",
    "  .loc[:,'SDW_winter':'TJE_fall']\n",
    "  .plot()\n",
    ")"
   ]
  },
  {
   "cell_type": "code",
   "execution_count": null,
   "id": "f8077d09",
   "metadata": {},
   "outputs": [],
   "source": [
    "year_index_df = df.set_index('year')\n",
    "subset_df = year_index_df.loc[:,'SDW_winter':'TJE_fall']\n",
    "subset_df.plot()"
   ]
  },
  {
   "cell_type": "markdown",
   "id": "6b1814e1",
   "metadata": {
    "vscode": {
     "languageId": "plaintext"
    }
   },
   "source": [
    "### Data exploration"
   ]
  },
  {
   "cell_type": "code",
   "execution_count": 17,
   "id": "5556532f",
   "metadata": {},
   "outputs": [
    {
     "data": {
      "application/vnd.microsoft.datawrangler.viewer.v0+json": {
       "columns": [
        {
         "name": "index",
         "rawType": "int64",
         "type": "integer"
        },
        {
         "name": "species",
         "rawType": "object",
         "type": "string"
        },
        {
         "name": "island",
         "rawType": "object",
         "type": "string"
        },
        {
         "name": "bill_length_mm",
         "rawType": "float64",
         "type": "float"
        },
        {
         "name": "bill_depth_mm",
         "rawType": "float64",
         "type": "float"
        },
        {
         "name": "flipper_length_mm",
         "rawType": "float64",
         "type": "float"
        },
        {
         "name": "body_mass_g",
         "rawType": "float64",
         "type": "float"
        },
        {
         "name": "sex",
         "rawType": "object",
         "type": "unknown"
        },
        {
         "name": "year",
         "rawType": "int64",
         "type": "integer"
        }
       ],
       "ref": "529f55fe-4dc0-4323-8e91-d9a18b7b5511",
       "rows": [
        [
         "0",
         "Adelie",
         "Torgersen",
         "39.1",
         "18.7",
         "181.0",
         "3750.0",
         "male",
         "2007"
        ],
        [
         "1",
         "Adelie",
         "Torgersen",
         "39.5",
         "17.4",
         "186.0",
         "3800.0",
         "female",
         "2007"
        ],
        [
         "2",
         "Adelie",
         "Torgersen",
         "40.3",
         "18.0",
         "195.0",
         "3250.0",
         "female",
         "2007"
        ],
        [
         "3",
         "Adelie",
         "Torgersen",
         null,
         null,
         null,
         null,
         null,
         "2007"
        ],
        [
         "4",
         "Adelie",
         "Torgersen",
         "36.7",
         "19.3",
         "193.0",
         "3450.0",
         "female",
         "2007"
        ]
       ],
       "shape": {
        "columns": 8,
        "rows": 5
       }
      },
      "text/html": [
       "<div>\n",
       "<style scoped>\n",
       "    .dataframe tbody tr th:only-of-type {\n",
       "        vertical-align: middle;\n",
       "    }\n",
       "\n",
       "    .dataframe tbody tr th {\n",
       "        vertical-align: top;\n",
       "    }\n",
       "\n",
       "    .dataframe thead th {\n",
       "        text-align: right;\n",
       "    }\n",
       "</style>\n",
       "<table border=\"1\" class=\"dataframe\">\n",
       "  <thead>\n",
       "    <tr style=\"text-align: right;\">\n",
       "      <th></th>\n",
       "      <th>species</th>\n",
       "      <th>island</th>\n",
       "      <th>bill_length_mm</th>\n",
       "      <th>bill_depth_mm</th>\n",
       "      <th>flipper_length_mm</th>\n",
       "      <th>body_mass_g</th>\n",
       "      <th>sex</th>\n",
       "      <th>year</th>\n",
       "    </tr>\n",
       "  </thead>\n",
       "  <tbody>\n",
       "    <tr>\n",
       "      <th>0</th>\n",
       "      <td>Adelie</td>\n",
       "      <td>Torgersen</td>\n",
       "      <td>39.1</td>\n",
       "      <td>18.7</td>\n",
       "      <td>181.0</td>\n",
       "      <td>3750.0</td>\n",
       "      <td>male</td>\n",
       "      <td>2007</td>\n",
       "    </tr>\n",
       "    <tr>\n",
       "      <th>1</th>\n",
       "      <td>Adelie</td>\n",
       "      <td>Torgersen</td>\n",
       "      <td>39.5</td>\n",
       "      <td>17.4</td>\n",
       "      <td>186.0</td>\n",
       "      <td>3800.0</td>\n",
       "      <td>female</td>\n",
       "      <td>2007</td>\n",
       "    </tr>\n",
       "    <tr>\n",
       "      <th>2</th>\n",
       "      <td>Adelie</td>\n",
       "      <td>Torgersen</td>\n",
       "      <td>40.3</td>\n",
       "      <td>18.0</td>\n",
       "      <td>195.0</td>\n",
       "      <td>3250.0</td>\n",
       "      <td>female</td>\n",
       "      <td>2007</td>\n",
       "    </tr>\n",
       "    <tr>\n",
       "      <th>3</th>\n",
       "      <td>Adelie</td>\n",
       "      <td>Torgersen</td>\n",
       "      <td>NaN</td>\n",
       "      <td>NaN</td>\n",
       "      <td>NaN</td>\n",
       "      <td>NaN</td>\n",
       "      <td>NaN</td>\n",
       "      <td>2007</td>\n",
       "    </tr>\n",
       "    <tr>\n",
       "      <th>4</th>\n",
       "      <td>Adelie</td>\n",
       "      <td>Torgersen</td>\n",
       "      <td>36.7</td>\n",
       "      <td>19.3</td>\n",
       "      <td>193.0</td>\n",
       "      <td>3450.0</td>\n",
       "      <td>female</td>\n",
       "      <td>2007</td>\n",
       "    </tr>\n",
       "  </tbody>\n",
       "</table>\n",
       "</div>"
      ],
      "text/plain": [
       "  species     island  bill_length_mm  bill_depth_mm  flipper_length_mm  \\\n",
       "0  Adelie  Torgersen            39.1           18.7              181.0   \n",
       "1  Adelie  Torgersen            39.5           17.4              186.0   \n",
       "2  Adelie  Torgersen            40.3           18.0              195.0   \n",
       "3  Adelie  Torgersen             NaN            NaN                NaN   \n",
       "4  Adelie  Torgersen            36.7           19.3              193.0   \n",
       "\n",
       "   body_mass_g     sex  year  \n",
       "0       3750.0    male  2007  \n",
       "1       3800.0  female  2007  \n",
       "2       3250.0  female  2007  \n",
       "3          NaN     NaN  2007  \n",
       "4       3450.0  female  2007  "
      ]
     },
     "execution_count": 17,
     "metadata": {},
     "output_type": "execute_result"
    }
   ],
   "source": [
    "# Read in data\n",
    "URL = 'https://raw.githubusercontent.com/allisonhorst/palmerpenguins/main/inst/extdata/penguins.csv'\n",
    "penguins = pd.read_csv(URL)\n",
    "\n",
    "penguins.head()"
   ]
  },
  {
   "cell_type": "code",
   "execution_count": null,
   "id": "4e4736e8",
   "metadata": {},
   "outputs": [],
   "source": [
    "# Check column data types and NA values\n",
    "penguins.info()"
   ]
  },
  {
   "cell_type": "code",
   "execution_count": null,
   "id": "a6324800",
   "metadata": {},
   "outputs": [],
   "source": [
    "# Simple statistics about numeric columns\n",
    "penguins.describe()"
   ]
  },
  {
   "cell_type": "code",
   "execution_count": null,
   "id": "3ce72f2f",
   "metadata": {},
   "outputs": [],
   "source": [
    "# Count unique values in categorical columns and year\n",
    "penguins[['species', 'island', 'sex', 'year']].nunique()"
   ]
  },
  {
   "cell_type": "code",
   "execution_count": null,
   "id": "80bd9cd7",
   "metadata": {},
   "outputs": [],
   "source": [
    "# Get unique values in species column\n",
    "penguins['species'].unique()"
   ]
  },
  {
   "cell_type": "code",
   "execution_count": null,
   "id": "0aa3a01e",
   "metadata": {},
   "outputs": [],
   "source": [
    "# Number of values per unique value in species column\n",
    "penguins['species'].value_counts()"
   ]
  },
  {
   "cell_type": "markdown",
   "id": "dfdf9c3f",
   "metadata": {},
   "source": [
    "### `kind` arguement in `plot()`"
   ]
  },
  {
   "cell_type": "markdown",
   "id": "5c3f8d4e",
   "metadata": {},
   "source": [
    "## Scatter plot"
   ]
  },
  {
   "cell_type": "code",
   "execution_count": null,
   "id": "15b45e30",
   "metadata": {},
   "outputs": [],
   "source": [
    "penguins.plot(kind='scatter',\n",
    "              x='flipper_length_mm', \n",
    "              y='body_mass_g')"
   ]
  },
  {
   "cell_type": "code",
   "execution_count": null,
   "id": "9dfefeff",
   "metadata": {},
   "outputs": [],
   "source": [
    "penguins.plot(kind='scatter',\n",
    "              x='flipper_length_mm', \n",
    "              y='body_mass_g',\n",
    "              title='Flipper length and body mass for Palmer penguins',\n",
    "              xlabel='Flipper length (mm)',\n",
    "              ylabel='Body mass (g)',\n",
    "              color='#ff3b01',\n",
    "              alpha=0.4  # Controls transparency\n",
    "              )"
   ]
  },
  {
   "cell_type": "markdown",
   "id": "dfc8372f",
   "metadata": {},
   "source": [
    "### Bar plots"
   ]
  },
  {
   "cell_type": "code",
   "execution_count": null,
   "id": "898b747d",
   "metadata": {},
   "outputs": [],
   "source": [
    "smallest = penguins['body_mass_g'].nsmallest(10)\n",
    "smallest"
   ]
  },
  {
   "cell_type": "code",
   "execution_count": null,
   "id": "f6487686",
   "metadata": {},
   "outputs": [],
   "source": [
    "smallest.plot(kind='bar')"
   ]
  },
  {
   "cell_type": "code",
   "execution_count": null,
   "id": "b8669840",
   "metadata": {},
   "outputs": [],
   "source": [
    "penguins.nsmallest(10, 'body_mass_g')"
   ]
  },
  {
   "cell_type": "markdown",
   "id": "092acc1a",
   "metadata": {
    "vscode": {
     "languageId": "plaintext"
    }
   },
   "source": [
    "### Histograms"
   ]
  },
  {
   "cell_type": "code",
   "execution_count": null,
   "id": "20c0a65f",
   "metadata": {},
   "outputs": [],
   "source": [
    "# Using plot without subsetting data - a mess again\n",
    "penguins.plot(kind='hist')"
   ]
  },
  {
   "cell_type": "code",
   "execution_count": null,
   "id": "c7e13494",
   "metadata": {},
   "outputs": [],
   "source": [
    "# Distribution of flipper length measurements\n",
    "# First select data, then plot\n",
    "penguins['flipper_length_mm'].plot(kind='hist',\n",
    "                                title='Penguin flipper lengths',\n",
    "                                xlabel='Flipper length (mm)',\n",
    "                                grid=True)"
   ]
  },
  {
   "cell_type": "markdown",
   "id": "4d793b30",
   "metadata": {
    "vscode": {
     "languageId": "plaintext"
    }
   },
   "source": [
    "### Check-in\n",
    "1. Select the bill_length_mm and bill_depth_mm columns in the penguins dataframe and then update the kind parameter to box to make boxplots of the bill length and bill depth.\n"
   ]
  },
  {
   "cell_type": "code",
   "execution_count": 20,
   "id": "315c45ae",
   "metadata": {},
   "outputs": [
    {
     "data": {
      "text/plain": [
       "<Axes: title={'center': 'Bill Length and Bill Depth Distributions'}, ylabel='Length in millimeters'>"
      ]
     },
     "execution_count": 20,
     "metadata": {},
     "output_type": "execute_result"
    },
    {
     "data": {
      "image/png": "[encoded data removed]",
      "text/plain": [
       "<Figure size 640x480 with 1 Axes>"
      ]
     },
     "metadata": {},
     "output_type": "display_data"
    }
   ],
   "source": [
    "penguins[['bill_length_mm', 'bill_depth_mm']].plot(\n",
    "    kind = 'box',\n",
    "    title = 'Bill Length and Bill Depth Distributions',\n",
    "    ylabel = 'Length in millimeters',\n",
    "    color = \"hotpink\"\n",
    ")"
   ]
  },
  {
   "cell_type": "markdown",
   "id": "a64b2aa3",
   "metadata": {},
   "source": [
    "\n",
    "### Check-in\n",
    "2. Create a simple histogram of the flipper length of female gentoo penguins."
   ]
  },
  {
   "cell_type": "code",
   "execution_count": null,
   "id": "69fda397",
   "metadata": {},
   "outputs": [
    {
     "data": {
      "application/vnd.microsoft.datawrangler.viewer.v0+json": {
       "columns": [
        {
         "name": "index",
         "rawType": "int64",
         "type": "integer"
        },
        {
         "name": "species",
         "rawType": "object",
         "type": "string"
        },
        {
         "name": "island",
         "rawType": "object",
         "type": "string"
        },
        {
         "name": "bill_length_mm",
         "rawType": "float64",
         "type": "float"
        },
        {
         "name": "bill_depth_mm",
         "rawType": "float64",
         "type": "float"
        },
        {
         "name": "flipper_length_mm",
         "rawType": "float64",
         "type": "float"
        },
        {
         "name": "body_mass_g",
         "rawType": "float64",
         "type": "float"
        },
        {
         "name": "sex",
         "rawType": "object",
         "type": "string"
        },
        {
         "name": "year",
         "rawType": "int64",
         "type": "integer"
        }
       ],
       "ref": "0bf7f211-e1c0-4123-9838-2be5815e6746",
       "rows": [
        [
         "152",
         "Gentoo",
         "Biscoe",
         "46.1",
         "13.2",
         "211.0",
         "4500.0",
         "female",
         "2007"
        ],
        [
         "154",
         "Gentoo",
         "Biscoe",
         "48.7",
         "14.1",
         "210.0",
         "4450.0",
         "female",
         "2007"
        ],
        [
         "157",
         "Gentoo",
         "Biscoe",
         "46.5",
         "13.5",
         "210.0",
         "4550.0",
         "female",
         "2007"
        ],
        [
         "158",
         "Gentoo",
         "Biscoe",
         "45.4",
         "14.6",
         "211.0",
         "4800.0",
         "female",
         "2007"
        ],
        [
         "160",
         "Gentoo",
         "Biscoe",
         "43.3",
         "13.4",
         "209.0",
         "4400.0",
         "female",
         "2007"
        ],
        [
         "162",
         "Gentoo",
         "Biscoe",
         "40.9",
         "13.7",
         "214.0",
         "4650.0",
         "female",
         "2007"
        ],
        [
         "164",
         "Gentoo",
         "Biscoe",
         "45.5",
         "13.7",
         "214.0",
         "4650.0",
         "female",
         "2007"
        ],
        [
         "166",
         "Gentoo",
         "Biscoe",
         "45.8",
         "14.6",
         "210.0",
         "4200.0",
         "female",
         "2007"
        ],
        [
         "168",
         "Gentoo",
         "Biscoe",
         "42.0",
         "13.5",
         "210.0",
         "4150.0",
         "female",
         "2007"
        ],
        [
         "170",
         "Gentoo",
         "Biscoe",
         "46.2",
         "14.5",
         "209.0",
         "4800.0",
         "female",
         "2007"
        ],
        [
         "173",
         "Gentoo",
         "Biscoe",
         "45.1",
         "14.5",
         "215.0",
         "5000.0",
         "female",
         "2007"
        ],
        [
         "174",
         "Gentoo",
         "Biscoe",
         "46.5",
         "14.5",
         "213.0",
         "4400.0",
         "female",
         "2007"
        ],
        [
         "176",
         "Gentoo",
         "Biscoe",
         "42.9",
         "13.1",
         "215.0",
         "5000.0",
         "female",
         "2007"
        ],
        [
         "180",
         "Gentoo",
         "Biscoe",
         "48.2",
         "14.3",
         "210.0",
         "4600.0",
         "female",
         "2007"
        ],
        [
         "183",
         "Gentoo",
         "Biscoe",
         "42.8",
         "14.2",
         "209.0",
         "4700.0",
         "female",
         "2007"
        ],
        [
         "184",
         "Gentoo",
         "Biscoe",
         "45.1",
         "14.5",
         "207.0",
         "5050.0",
         "female",
         "2007"
        ],
        [
         "186",
         "Gentoo",
         "Biscoe",
         "49.1",
         "14.8",
         "220.0",
         "5150.0",
         "female",
         "2008"
        ],
        [
         "188",
         "Gentoo",
         "Biscoe",
         "42.6",
         "13.7",
         "213.0",
         "4950.0",
         "female",
         "2008"
        ],
        [
         "190",
         "Gentoo",
         "Biscoe",
         "44.0",
         "13.6",
         "208.0",
         "4350.0",
         "female",
         "2008"
        ],
        [
         "192",
         "Gentoo",
         "Biscoe",
         "42.7",
         "13.7",
         "208.0",
         "3950.0",
         "female",
         "2008"
        ],
        [
         "194",
         "Gentoo",
         "Biscoe",
         "45.3",
         "13.7",
         "210.0",
         "4300.0",
         "female",
         "2008"
        ],
        [
         "197",
         "Gentoo",
         "Biscoe",
         "43.6",
         "13.9",
         "217.0",
         "4900.0",
         "female",
         "2008"
        ],
        [
         "198",
         "Gentoo",
         "Biscoe",
         "45.5",
         "13.9",
         "210.0",
         "4200.0",
         "female",
         "2008"
        ],
        [
         "200",
         "Gentoo",
         "Biscoe",
         "44.9",
         "13.3",
         "213.0",
         "5100.0",
         "female",
         "2008"
        ],
        [
         "202",
         "Gentoo",
         "Biscoe",
         "46.6",
         "14.2",
         "210.0",
         "4850.0",
         "female",
         "2008"
        ],
        [
         "204",
         "Gentoo",
         "Biscoe",
         "45.1",
         "14.4",
         "210.0",
         "4400.0",
         "female",
         "2008"
        ],
        [
         "206",
         "Gentoo",
         "Biscoe",
         "46.5",
         "14.4",
         "217.0",
         "4900.0",
         "female",
         "2008"
        ],
        [
         "208",
         "Gentoo",
         "Biscoe",
         "43.8",
         "13.9",
         "208.0",
         "4300.0",
         "female",
         "2008"
        ],
        [
         "210",
         "Gentoo",
         "Biscoe",
         "43.2",
         "14.5",
         "208.0",
         "4450.0",
         "female",
         "2008"
        ],
        [
         "212",
         "Gentoo",
         "Biscoe",
         "45.3",
         "13.8",
         "208.0",
         "4200.0",
         "female",
         "2008"
        ],
        [
         "214",
         "Gentoo",
         "Biscoe",
         "45.7",
         "13.9",
         "214.0",
         "4400.0",
         "female",
         "2008"
        ],
        [
         "216",
         "Gentoo",
         "Biscoe",
         "45.8",
         "14.2",
         "219.0",
         "4700.0",
         "female",
         "2008"
        ],
        [
         "220",
         "Gentoo",
         "Biscoe",
         "43.5",
         "14.2",
         "220.0",
         "4700.0",
         "female",
         "2008"
        ],
        [
         "222",
         "Gentoo",
         "Biscoe",
         "47.7",
         "15.0",
         "216.0",
         "4750.0",
         "female",
         "2008"
        ],
        [
         "225",
         "Gentoo",
         "Biscoe",
         "46.5",
         "14.8",
         "217.0",
         "5200.0",
         "female",
         "2008"
        ],
        [
         "226",
         "Gentoo",
         "Biscoe",
         "46.4",
         "15.0",
         "216.0",
         "4700.0",
         "female",
         "2008"
        ],
        [
         "228",
         "Gentoo",
         "Biscoe",
         "47.5",
         "14.2",
         "209.0",
         "4600.0",
         "female",
         "2008"
        ],
        [
         "230",
         "Gentoo",
         "Biscoe",
         "45.2",
         "13.8",
         "215.0",
         "4750.0",
         "female",
         "2008"
        ],
        [
         "232",
         "Gentoo",
         "Biscoe",
         "49.1",
         "14.5",
         "212.0",
         "4625.0",
         "female",
         "2009"
        ],
        [
         "234",
         "Gentoo",
         "Biscoe",
         "47.4",
         "14.6",
         "212.0",
         "4725.0",
         "female",
         "2009"
        ],
        [
         "236",
         "Gentoo",
         "Biscoe",
         "44.9",
         "13.8",
         "212.0",
         "4750.0",
         "female",
         "2009"
        ],
        [
         "238",
         "Gentoo",
         "Biscoe",
         "43.4",
         "14.4",
         "218.0",
         "4600.0",
         "female",
         "2009"
        ],
        [
         "240",
         "Gentoo",
         "Biscoe",
         "47.5",
         "14.0",
         "212.0",
         "4875.0",
         "female",
         "2009"
        ],
        [
         "242",
         "Gentoo",
         "Biscoe",
         "47.5",
         "15.0",
         "218.0",
         "4950.0",
         "female",
         "2009"
        ],
        [
         "244",
         "Gentoo",
         "Biscoe",
         "45.5",
         "14.5",
         "212.0",
         "4750.0",
         "female",
         "2009"
        ],
        [
         "246",
         "Gentoo",
         "Biscoe",
         "44.5",
         "14.7",
         "214.0",
         "4850.0",
         "female",
         "2009"
        ],
        [
         "249",
         "Gentoo",
         "Biscoe",
         "46.9",
         "14.6",
         "222.0",
         "4875.0",
         "female",
         "2009"
        ],
        [
         "250",
         "Gentoo",
         "Biscoe",
         "48.4",
         "14.4",
         "203.0",
         "4625.0",
         "female",
         "2009"
        ],
        [
         "252",
         "Gentoo",
         "Biscoe",
         "48.5",
         "15.0",
         "219.0",
         "4850.0",
         "female",
         "2009"
        ],
        [
         "254",
         "Gentoo",
         "Biscoe",
         "47.2",
         "15.5",
         "215.0",
         "4975.0",
         "female",
         "2009"
        ]
       ],
       "shape": {
        "columns": 8,
        "rows": 58
       }
      },
      "text/html": [
       "<div>\n",
       "<style scoped>\n",
       "    .dataframe tbody tr th:only-of-type {\n",
       "        vertical-align: middle;\n",
       "    }\n",
       "\n",
       "    .dataframe tbody tr th {\n",
       "        vertical-align: top;\n",
       "    }\n",
       "\n",
       "    .dataframe thead th {\n",
       "        text-align: right;\n",
       "    }\n",
       "</style>\n",
       "<table border=\"1\" class=\"dataframe\">\n",
       "  <thead>\n",
       "    <tr style=\"text-align: right;\">\n",
       "      <th></th>\n",
       "      <th>species</th>\n",
       "      <th>island</th>\n",
       "      <th>bill_length_mm</th>\n",
       "      <th>bill_depth_mm</th>\n",
       "      <th>flipper_length_mm</th>\n",
       "      <th>body_mass_g</th>\n",
       "      <th>sex</th>\n",
       "      <th>year</th>\n",
       "    </tr>\n",
       "  </thead>\n",
       "  <tbody>\n",
       "    <tr>\n",
       "      <th>152</th>\n",
       "      <td>Gentoo</td>\n",
       "      <td>Biscoe</td>\n",
       "      <td>46.1</td>\n",
       "      <td>13.2</td>\n",
       "      <td>211.0</td>\n",
       "      <td>4500.0</td>\n",
       "      <td>female</td>\n",
       "      <td>2007</td>\n",
       "    </tr>\n",
       "    <tr>\n",
       "      <th>154</th>\n",
       "      <td>Gentoo</td>\n",
       "      <td>Biscoe</td>\n",
       "      <td>48.7</td>\n",
       "      <td>14.1</td>\n",
       "      <td>210.0</td>\n",
       "      <td>4450.0</td>\n",
       "      <td>female</td>\n",
       "      <td>2007</td>\n",
       "    </tr>\n",
       "    <tr>\n",
       "      <th>157</th>\n",
       "      <td>Gentoo</td>\n",
       "      <td>Biscoe</td>\n",
       "      <td>46.5</td>\n",
       "      <td>13.5</td>\n",
       "      <td>210.0</td>\n",
       "      <td>4550.0</td>\n",
       "      <td>female</td>\n",
       "      <td>2007</td>\n",
       "    </tr>\n",
       "    <tr>\n",
       "      <th>158</th>\n",
       "      <td>Gentoo</td>\n",
       "      <td>Biscoe</td>\n",
       "      <td>45.4</td>\n",
       "      <td>14.6</td>\n",
       "      <td>211.0</td>\n",
       "      <td>4800.0</td>\n",
       "      <td>female</td>\n",
       "      <td>2007</td>\n",
       "    </tr>\n",
       "    <tr>\n",
       "      <th>160</th>\n",
       "      <td>Gentoo</td>\n",
       "      <td>Biscoe</td>\n",
       "      <td>43.3</td>\n",
       "      <td>13.4</td>\n",
       "      <td>209.0</td>\n",
       "      <td>4400.0</td>\n",
       "      <td>female</td>\n",
       "      <td>2007</td>\n",
       "    </tr>\n",
       "    <tr>\n",
       "      <th>162</th>\n",
       "      <td>Gentoo</td>\n",
       "      <td>Biscoe</td>\n",
       "      <td>40.9</td>\n",
       "      <td>13.7</td>\n",
       "      <td>214.0</td>\n",
       "      <td>4650.0</td>\n",
       "      <td>female</td>\n",
       "      <td>2007</td>\n",
       "    </tr>\n",
       "    <tr>\n",
       "      <th>164</th>\n",
       "      <td>Gentoo</td>\n",
       "      <td>Biscoe</td>\n",
       "      <td>45.5</td>\n",
       "      <td>13.7</td>\n",
       "      <td>214.0</td>\n",
       "      <td>4650.0</td>\n",
       "      <td>female</td>\n",
       "      <td>2007</td>\n",
       "    </tr>\n",
       "    <tr>\n",
       "      <th>166</th>\n",
       "      <td>Gentoo</td>\n",
       "      <td>Biscoe</td>\n",
       "      <td>45.8</td>\n",
       "      <td>14.6</td>\n",
       "      <td>210.0</td>\n",
       "      <td>4200.0</td>\n",
       "      <td>female</td>\n",
       "      <td>2007</td>\n",
       "    </tr>\n",
       "    <tr>\n",
       "      <th>168</th>\n",
       "      <td>Gentoo</td>\n",
       "      <td>Biscoe</td>\n",
       "      <td>42.0</td>\n",
       "      <td>13.5</td>\n",
       "      <td>210.0</td>\n",
       "      <td>4150.0</td>\n",
       "      <td>female</td>\n",
       "      <td>2007</td>\n",
       "    </tr>\n",
       "    <tr>\n",
       "      <th>170</th>\n",
       "      <td>Gentoo</td>\n",
       "      <td>Biscoe</td>\n",
       "      <td>46.2</td>\n",
       "      <td>14.5</td>\n",
       "      <td>209.0</td>\n",
       "      <td>4800.0</td>\n",
       "      <td>female</td>\n",
       "      <td>2007</td>\n",
       "    </tr>\n",
       "    <tr>\n",
       "      <th>173</th>\n",
       "      <td>Gentoo</td>\n",
       "      <td>Biscoe</td>\n",
       "      <td>45.1</td>\n",
       "      <td>14.5</td>\n",
       "      <td>215.0</td>\n",
       "      <td>5000.0</td>\n",
       "      <td>female</td>\n",
       "      <td>2007</td>\n",
       "    </tr>\n",
       "    <tr>\n",
       "      <th>174</th>\n",
       "      <td>Gentoo</td>\n",
       "      <td>Biscoe</td>\n",
       "      <td>46.5</td>\n",
       "      <td>14.5</td>\n",
       "      <td>213.0</td>\n",
       "      <td>4400.0</td>\n",
       "      <td>female</td>\n",
       "      <td>2007</td>\n",
       "    </tr>\n",
       "    <tr>\n",
       "      <th>176</th>\n",
       "      <td>Gentoo</td>\n",
       "      <td>Biscoe</td>\n",
       "      <td>42.9</td>\n",
       "      <td>13.1</td>\n",
       "      <td>215.0</td>\n",
       "      <td>5000.0</td>\n",
       "      <td>female</td>\n",
       "      <td>2007</td>\n",
       "    </tr>\n",
       "    <tr>\n",
       "      <th>180</th>\n",
       "      <td>Gentoo</td>\n",
       "      <td>Biscoe</td>\n",
       "      <td>48.2</td>\n",
       "      <td>14.3</td>\n",
       "      <td>210.0</td>\n",
       "      <td>4600.0</td>\n",
       "      <td>female</td>\n",
       "      <td>2007</td>\n",
       "    </tr>\n",
       "    <tr>\n",
       "      <th>183</th>\n",
       "      <td>Gentoo</td>\n",
       "      <td>Biscoe</td>\n",
       "      <td>42.8</td>\n",
       "      <td>14.2</td>\n",
       "      <td>209.0</td>\n",
       "      <td>4700.0</td>\n",
       "      <td>female</td>\n",
       "      <td>2007</td>\n",
       "    </tr>\n",
       "    <tr>\n",
       "      <th>184</th>\n",
       "      <td>Gentoo</td>\n",
       "      <td>Biscoe</td>\n",
       "      <td>45.1</td>\n",
       "      <td>14.5</td>\n",
       "      <td>207.0</td>\n",
       "      <td>5050.0</td>\n",
       "      <td>female</td>\n",
       "      <td>2007</td>\n",
       "    </tr>\n",
       "    <tr>\n",
       "      <th>186</th>\n",
       "      <td>Gentoo</td>\n",
       "      <td>Biscoe</td>\n",
       "      <td>49.1</td>\n",
       "      <td>14.8</td>\n",
       "      <td>220.0</td>\n",
       "      <td>5150.0</td>\n",
       "      <td>female</td>\n",
       "      <td>2008</td>\n",
       "    </tr>\n",
       "    <tr>\n",
       "      <th>188</th>\n",
       "      <td>Gentoo</td>\n",
       "      <td>Biscoe</td>\n",
       "      <td>42.6</td>\n",
       "      <td>13.7</td>\n",
       "      <td>213.0</td>\n",
       "      <td>4950.0</td>\n",
       "      <td>female</td>\n",
       "      <td>2008</td>\n",
       "    </tr>\n",
       "    <tr>\n",
       "      <th>190</th>\n",
       "      <td>Gentoo</td>\n",
       "      <td>Biscoe</td>\n",
       "      <td>44.0</td>\n",
       "      <td>13.6</td>\n",
       "      <td>208.0</td>\n",
       "      <td>4350.0</td>\n",
       "      <td>female</td>\n",
       "      <td>2008</td>\n",
       "    </tr>\n",
       "    <tr>\n",
       "      <th>192</th>\n",
       "      <td>Gentoo</td>\n",
       "      <td>Biscoe</td>\n",
       "      <td>42.7</td>\n",
       "      <td>13.7</td>\n",
       "      <td>208.0</td>\n",
       "      <td>3950.0</td>\n",
       "      <td>female</td>\n",
       "      <td>2008</td>\n",
       "    </tr>\n",
       "    <tr>\n",
       "      <th>194</th>\n",
       "      <td>Gentoo</td>\n",
       "      <td>Biscoe</td>\n",
       "      <td>45.3</td>\n",
       "      <td>13.7</td>\n",
       "      <td>210.0</td>\n",
       "      <td>4300.0</td>\n",
       "      <td>female</td>\n",
       "      <td>2008</td>\n",
       "    </tr>\n",
       "    <tr>\n",
       "      <th>197</th>\n",
       "      <td>Gentoo</td>\n",
       "      <td>Biscoe</td>\n",
       "      <td>43.6</td>\n",
       "      <td>13.9</td>\n",
       "      <td>217.0</td>\n",
       "      <td>4900.0</td>\n",
       "      <td>female</td>\n",
       "      <td>2008</td>\n",
       "    </tr>\n",
       "    <tr>\n",
       "      <th>198</th>\n",
       "      <td>Gentoo</td>\n",
       "      <td>Biscoe</td>\n",
       "      <td>45.5</td>\n",
       "      <td>13.9</td>\n",
       "      <td>210.0</td>\n",
       "      <td>4200.0</td>\n",
       "      <td>female</td>\n",
       "      <td>2008</td>\n",
       "    </tr>\n",
       "    <tr>\n",
       "      <th>200</th>\n",
       "      <td>Gentoo</td>\n",
       "      <td>Biscoe</td>\n",
       "      <td>44.9</td>\n",
       "      <td>13.3</td>\n",
       "      <td>213.0</td>\n",
       "      <td>5100.0</td>\n",
       "      <td>female</td>\n",
       "      <td>2008</td>\n",
       "    </tr>\n",
       "    <tr>\n",
       "      <th>202</th>\n",
       "      <td>Gentoo</td>\n",
       "      <td>Biscoe</td>\n",
       "      <td>46.6</td>\n",
       "      <td>14.2</td>\n",
       "      <td>210.0</td>\n",
       "      <td>4850.0</td>\n",
       "      <td>female</td>\n",
       "      <td>2008</td>\n",
       "    </tr>\n",
       "    <tr>\n",
       "      <th>204</th>\n",
       "      <td>Gentoo</td>\n",
       "      <td>Biscoe</td>\n",
       "      <td>45.1</td>\n",
       "      <td>14.4</td>\n",
       "      <td>210.0</td>\n",
       "      <td>4400.0</td>\n",
       "      <td>female</td>\n",
       "      <td>2008</td>\n",
       "    </tr>\n",
       "    <tr>\n",
       "      <th>206</th>\n",
       "      <td>Gentoo</td>\n",
       "      <td>Biscoe</td>\n",
       "      <td>46.5</td>\n",
       "      <td>14.4</td>\n",
       "      <td>217.0</td>\n",
       "      <td>4900.0</td>\n",
       "      <td>female</td>\n",
       "      <td>2008</td>\n",
       "    </tr>\n",
       "    <tr>\n",
       "      <th>208</th>\n",
       "      <td>Gentoo</td>\n",
       "      <td>Biscoe</td>\n",
       "      <td>43.8</td>\n",
       "      <td>13.9</td>\n",
       "      <td>208.0</td>\n",
       "      <td>4300.0</td>\n",
       "      <td>female</td>\n",
       "      <td>2008</td>\n",
       "    </tr>\n",
       "    <tr>\n",
       "      <th>210</th>\n",
       "      <td>Gentoo</td>\n",
       "      <td>Biscoe</td>\n",
       "      <td>43.2</td>\n",
       "      <td>14.5</td>\n",
       "      <td>208.0</td>\n",
       "      <td>4450.0</td>\n",
       "      <td>female</td>\n",
       "      <td>2008</td>\n",
       "    </tr>\n",
       "    <tr>\n",
       "      <th>212</th>\n",
       "      <td>Gentoo</td>\n",
       "      <td>Biscoe</td>\n",
       "      <td>45.3</td>\n",
       "      <td>13.8</td>\n",
       "      <td>208.0</td>\n",
       "      <td>4200.0</td>\n",
       "      <td>female</td>\n",
       "      <td>2008</td>\n",
       "    </tr>\n",
       "    <tr>\n",
       "      <th>214</th>\n",
       "      <td>Gentoo</td>\n",
       "      <td>Biscoe</td>\n",
       "      <td>45.7</td>\n",
       "      <td>13.9</td>\n",
       "      <td>214.0</td>\n",
       "      <td>4400.0</td>\n",
       "      <td>female</td>\n",
       "      <td>2008</td>\n",
       "    </tr>\n",
       "    <tr>\n",
       "      <th>216</th>\n",
       "      <td>Gentoo</td>\n",
       "      <td>Biscoe</td>\n",
       "      <td>45.8</td>\n",
       "      <td>14.2</td>\n",
       "      <td>219.0</td>\n",
       "      <td>4700.0</td>\n",
       "      <td>female</td>\n",
       "      <td>2008</td>\n",
       "    </tr>\n",
       "    <tr>\n",
       "      <th>220</th>\n",
       "      <td>Gentoo</td>\n",
       "      <td>Biscoe</td>\n",
       "      <td>43.5</td>\n",
       "      <td>14.2</td>\n",
       "      <td>220.0</td>\n",
       "      <td>4700.0</td>\n",
       "      <td>female</td>\n",
       "      <td>2008</td>\n",
       "    </tr>\n",
       "    <tr>\n",
       "      <th>222</th>\n",
       "      <td>Gentoo</td>\n",
       "      <td>Biscoe</td>\n",
       "      <td>47.7</td>\n",
       "      <td>15.0</td>\n",
       "      <td>216.0</td>\n",
       "      <td>4750.0</td>\n",
       "      <td>female</td>\n",
       "      <td>2008</td>\n",
       "    </tr>\n",
       "    <tr>\n",
       "      <th>225</th>\n",
       "      <td>Gentoo</td>\n",
       "      <td>Biscoe</td>\n",
       "      <td>46.5</td>\n",
       "      <td>14.8</td>\n",
       "      <td>217.0</td>\n",
       "      <td>5200.0</td>\n",
       "      <td>female</td>\n",
       "      <td>2008</td>\n",
       "    </tr>\n",
       "    <tr>\n",
       "      <th>226</th>\n",
       "      <td>Gentoo</td>\n",
       "      <td>Biscoe</td>\n",
       "      <td>46.4</td>\n",
       "      <td>15.0</td>\n",
       "      <td>216.0</td>\n",
       "      <td>4700.0</td>\n",
       "      <td>female</td>\n",
       "      <td>2008</td>\n",
       "    </tr>\n",
       "    <tr>\n",
       "      <th>228</th>\n",
       "      <td>Gentoo</td>\n",
       "      <td>Biscoe</td>\n",
       "      <td>47.5</td>\n",
       "      <td>14.2</td>\n",
       "      <td>209.0</td>\n",
       "      <td>4600.0</td>\n",
       "      <td>female</td>\n",
       "      <td>2008</td>\n",
       "    </tr>\n",
       "    <tr>\n",
       "      <th>230</th>\n",
       "      <td>Gentoo</td>\n",
       "      <td>Biscoe</td>\n",
       "      <td>45.2</td>\n",
       "      <td>13.8</td>\n",
       "      <td>215.0</td>\n",
       "      <td>4750.0</td>\n",
       "      <td>female</td>\n",
       "      <td>2008</td>\n",
       "    </tr>\n",
       "    <tr>\n",
       "      <th>232</th>\n",
       "      <td>Gentoo</td>\n",
       "      <td>Biscoe</td>\n",
       "      <td>49.1</td>\n",
       "      <td>14.5</td>\n",
       "      <td>212.0</td>\n",
       "      <td>4625.0</td>\n",
       "      <td>female</td>\n",
       "      <td>2009</td>\n",
       "    </tr>\n",
       "    <tr>\n",
       "      <th>234</th>\n",
       "      <td>Gentoo</td>\n",
       "      <td>Biscoe</td>\n",
       "      <td>47.4</td>\n",
       "      <td>14.6</td>\n",
       "      <td>212.0</td>\n",
       "      <td>4725.0</td>\n",
       "      <td>female</td>\n",
       "      <td>2009</td>\n",
       "    </tr>\n",
       "    <tr>\n",
       "      <th>236</th>\n",
       "      <td>Gentoo</td>\n",
       "      <td>Biscoe</td>\n",
       "      <td>44.9</td>\n",
       "      <td>13.8</td>\n",
       "      <td>212.0</td>\n",
       "      <td>4750.0</td>\n",
       "      <td>female</td>\n",
       "      <td>2009</td>\n",
       "    </tr>\n",
       "    <tr>\n",
       "      <th>238</th>\n",
       "      <td>Gentoo</td>\n",
       "      <td>Biscoe</td>\n",
       "      <td>43.4</td>\n",
       "      <td>14.4</td>\n",
       "      <td>218.0</td>\n",
       "      <td>4600.0</td>\n",
       "      <td>female</td>\n",
       "      <td>2009</td>\n",
       "    </tr>\n",
       "    <tr>\n",
       "      <th>240</th>\n",
       "      <td>Gentoo</td>\n",
       "      <td>Biscoe</td>\n",
       "      <td>47.5</td>\n",
       "      <td>14.0</td>\n",
       "      <td>212.0</td>\n",
       "      <td>4875.0</td>\n",
       "      <td>female</td>\n",
       "      <td>2009</td>\n",
       "    </tr>\n",
       "    <tr>\n",
       "      <th>242</th>\n",
       "      <td>Gentoo</td>\n",
       "      <td>Biscoe</td>\n",
       "      <td>47.5</td>\n",
       "      <td>15.0</td>\n",
       "      <td>218.0</td>\n",
       "      <td>4950.0</td>\n",
       "      <td>female</td>\n",
       "      <td>2009</td>\n",
       "    </tr>\n",
       "    <tr>\n",
       "      <th>244</th>\n",
       "      <td>Gentoo</td>\n",
       "      <td>Biscoe</td>\n",
       "      <td>45.5</td>\n",
       "      <td>14.5</td>\n",
       "      <td>212.0</td>\n",
       "      <td>4750.0</td>\n",
       "      <td>female</td>\n",
       "      <td>2009</td>\n",
       "    </tr>\n",
       "    <tr>\n",
       "      <th>246</th>\n",
       "      <td>Gentoo</td>\n",
       "      <td>Biscoe</td>\n",
       "      <td>44.5</td>\n",
       "      <td>14.7</td>\n",
       "      <td>214.0</td>\n",
       "      <td>4850.0</td>\n",
       "      <td>female</td>\n",
       "      <td>2009</td>\n",
       "    </tr>\n",
       "    <tr>\n",
       "      <th>249</th>\n",
       "      <td>Gentoo</td>\n",
       "      <td>Biscoe</td>\n",
       "      <td>46.9</td>\n",
       "      <td>14.6</td>\n",
       "      <td>222.0</td>\n",
       "      <td>4875.0</td>\n",
       "      <td>female</td>\n",
       "      <td>2009</td>\n",
       "    </tr>\n",
       "    <tr>\n",
       "      <th>250</th>\n",
       "      <td>Gentoo</td>\n",
       "      <td>Biscoe</td>\n",
       "      <td>48.4</td>\n",
       "      <td>14.4</td>\n",
       "      <td>203.0</td>\n",
       "      <td>4625.0</td>\n",
       "      <td>female</td>\n",
       "      <td>2009</td>\n",
       "    </tr>\n",
       "    <tr>\n",
       "      <th>252</th>\n",
       "      <td>Gentoo</td>\n",
       "      <td>Biscoe</td>\n",
       "      <td>48.5</td>\n",
       "      <td>15.0</td>\n",
       "      <td>219.0</td>\n",
       "      <td>4850.0</td>\n",
       "      <td>female</td>\n",
       "      <td>2009</td>\n",
       "    </tr>\n",
       "    <tr>\n",
       "      <th>254</th>\n",
       "      <td>Gentoo</td>\n",
       "      <td>Biscoe</td>\n",
       "      <td>47.2</td>\n",
       "      <td>15.5</td>\n",
       "      <td>215.0</td>\n",
       "      <td>4975.0</td>\n",
       "      <td>female</td>\n",
       "      <td>2009</td>\n",
       "    </tr>\n",
       "    <tr>\n",
       "      <th>258</th>\n",
       "      <td>Gentoo</td>\n",
       "      <td>Biscoe</td>\n",
       "      <td>41.7</td>\n",
       "      <td>14.7</td>\n",
       "      <td>210.0</td>\n",
       "      <td>4700.0</td>\n",
       "      <td>female</td>\n",
       "      <td>2009</td>\n",
       "    </tr>\n",
       "    <tr>\n",
       "      <th>260</th>\n",
       "      <td>Gentoo</td>\n",
       "      <td>Biscoe</td>\n",
       "      <td>43.3</td>\n",
       "      <td>14.0</td>\n",
       "      <td>208.0</td>\n",
       "      <td>4575.0</td>\n",
       "      <td>female</td>\n",
       "      <td>2009</td>\n",
       "    </tr>\n",
       "    <tr>\n",
       "      <th>262</th>\n",
       "      <td>Gentoo</td>\n",
       "      <td>Biscoe</td>\n",
       "      <td>50.5</td>\n",
       "      <td>15.2</td>\n",
       "      <td>216.0</td>\n",
       "      <td>5000.0</td>\n",
       "      <td>female</td>\n",
       "      <td>2009</td>\n",
       "    </tr>\n",
       "    <tr>\n",
       "      <th>264</th>\n",
       "      <td>Gentoo</td>\n",
       "      <td>Biscoe</td>\n",
       "      <td>43.5</td>\n",
       "      <td>15.2</td>\n",
       "      <td>213.0</td>\n",
       "      <td>4650.0</td>\n",
       "      <td>female</td>\n",
       "      <td>2009</td>\n",
       "    </tr>\n",
       "    <tr>\n",
       "      <th>266</th>\n",
       "      <td>Gentoo</td>\n",
       "      <td>Biscoe</td>\n",
       "      <td>46.2</td>\n",
       "      <td>14.1</td>\n",
       "      <td>217.0</td>\n",
       "      <td>4375.0</td>\n",
       "      <td>female</td>\n",
       "      <td>2009</td>\n",
       "    </tr>\n",
       "    <tr>\n",
       "      <th>270</th>\n",
       "      <td>Gentoo</td>\n",
       "      <td>Biscoe</td>\n",
       "      <td>47.2</td>\n",
       "      <td>13.7</td>\n",
       "      <td>214.0</td>\n",
       "      <td>4925.0</td>\n",
       "      <td>female</td>\n",
       "      <td>2009</td>\n",
       "    </tr>\n",
       "    <tr>\n",
       "      <th>272</th>\n",
       "      <td>Gentoo</td>\n",
       "      <td>Biscoe</td>\n",
       "      <td>46.8</td>\n",
       "      <td>14.3</td>\n",
       "      <td>215.0</td>\n",
       "      <td>4850.0</td>\n",
       "      <td>female</td>\n",
       "      <td>2009</td>\n",
       "    </tr>\n",
       "    <tr>\n",
       "      <th>274</th>\n",
       "      <td>Gentoo</td>\n",
       "      <td>Biscoe</td>\n",
       "      <td>45.2</td>\n",
       "      <td>14.8</td>\n",
       "      <td>212.0</td>\n",
       "      <td>5200.0</td>\n",
       "      <td>female</td>\n",
       "      <td>2009</td>\n",
       "    </tr>\n",
       "  </tbody>\n",
       "</table>\n",
       "</div>"
      ],
      "text/plain": [
       "    species  island  bill_length_mm  bill_depth_mm  flipper_length_mm  \\\n",
       "152  Gentoo  Biscoe            46.1           13.2              211.0   \n",
       "154  Gentoo  Biscoe            48.7           14.1              210.0   \n",
       "157  Gentoo  Biscoe            46.5           13.5              210.0   \n",
       "158  Gentoo  Biscoe            45.4           14.6              211.0   \n",
       "160  Gentoo  Biscoe            43.3           13.4              209.0   \n",
       "162  Gentoo  Biscoe            40.9           13.7              214.0   \n",
       "164  Gentoo  Biscoe            45.5           13.7              214.0   \n",
       "166  Gentoo  Biscoe            45.8           14.6              210.0   \n",
       "168  Gentoo  Biscoe            42.0           13.5              210.0   \n",
       "170  Gentoo  Biscoe            46.2           14.5              209.0   \n",
       "173  Gentoo  Biscoe            45.1           14.5              215.0   \n",
       "174  Gentoo  Biscoe            46.5           14.5              213.0   \n",
       "176  Gentoo  Biscoe            42.9           13.1              215.0   \n",
       "180  Gentoo  Biscoe            48.2           14.3              210.0   \n",
       "183  Gentoo  Biscoe            42.8           14.2              209.0   \n",
       "184  Gentoo  Biscoe            45.1           14.5              207.0   \n",
       "186  Gentoo  Biscoe            49.1           14.8              220.0   \n",
       "188  Gentoo  Biscoe            42.6           13.7              213.0   \n",
       "190  Gentoo  Biscoe            44.0           13.6              208.0   \n",
       "192  Gentoo  Biscoe            42.7           13.7              208.0   \n",
       "194  Gentoo  Biscoe            45.3           13.7              210.0   \n",
       "197  Gentoo  Biscoe            43.6           13.9              217.0   \n",
       "198  Gentoo  Biscoe            45.5           13.9              210.0   \n",
       "200  Gentoo  Biscoe            44.9           13.3              213.0   \n",
       "202  Gentoo  Biscoe            46.6           14.2              210.0   \n",
       "204  Gentoo  Biscoe            45.1           14.4              210.0   \n",
       "206  Gentoo  Biscoe            46.5           14.4              217.0   \n",
       "208  Gentoo  Biscoe            43.8           13.9              208.0   \n",
       "210  Gentoo  Biscoe            43.2           14.5              208.0   \n",
       "212  Gentoo  Biscoe            45.3           13.8              208.0   \n",
       "214  Gentoo  Biscoe            45.7           13.9              214.0   \n",
       "216  Gentoo  Biscoe            45.8           14.2              219.0   \n",
       "220  Gentoo  Biscoe            43.5           14.2              220.0   \n",
       "222  Gentoo  Biscoe            47.7           15.0              216.0   \n",
       "225  Gentoo  Biscoe            46.5           14.8              217.0   \n",
       "226  Gentoo  Biscoe            46.4           15.0              216.0   \n",
       "228  Gentoo  Biscoe            47.5           14.2              209.0   \n",
       "230  Gentoo  Biscoe            45.2           13.8              215.0   \n",
       "232  Gentoo  Biscoe            49.1           14.5              212.0   \n",
       "234  Gentoo  Biscoe            47.4           14.6              212.0   \n",
       "236  Gentoo  Biscoe            44.9           13.8              212.0   \n",
       "238  Gentoo  Biscoe            43.4           14.4              218.0   \n",
       "240  Gentoo  Biscoe            47.5           14.0              212.0   \n",
       "242  Gentoo  Biscoe            47.5           15.0              218.0   \n",
       "244  Gentoo  Biscoe            45.5           14.5              212.0   \n",
       "246  Gentoo  Biscoe            44.5           14.7              214.0   \n",
       "249  Gentoo  Biscoe            46.9           14.6              222.0   \n",
       "250  Gentoo  Biscoe            48.4           14.4              203.0   \n",
       "252  Gentoo  Biscoe            48.5           15.0              219.0   \n",
       "254  Gentoo  Biscoe            47.2           15.5              215.0   \n",
       "258  Gentoo  Biscoe            41.7           14.7              210.0   \n",
       "260  Gentoo  Biscoe            43.3           14.0              208.0   \n",
       "262  Gentoo  Biscoe            50.5           15.2              216.0   \n",
       "264  Gentoo  Biscoe            43.5           15.2              213.0   \n",
       "266  Gentoo  Biscoe            46.2           14.1              217.0   \n",
       "270  Gentoo  Biscoe            47.2           13.7              214.0   \n",
       "272  Gentoo  Biscoe            46.8           14.3              215.0   \n",
       "274  Gentoo  Biscoe            45.2           14.8              212.0   \n",
       "\n",
       "     body_mass_g     sex  year  \n",
       "152       4500.0  female  2007  \n",
       "154       4450.0  female  2007  \n",
       "157       4550.0  female  2007  \n",
       "158       4800.0  female  2007  \n",
       "160       4400.0  female  2007  \n",
       "162       4650.0  female  2007  \n",
       "164       4650.0  female  2007  \n",
       "166       4200.0  female  2007  \n",
       "168       4150.0  female  2007  \n",
       "170       4800.0  female  2007  \n",
       "173       5000.0  female  2007  \n",
       "174       4400.0  female  2007  \n",
       "176       5000.0  female  2007  \n",
       "180       4600.0  female  2007  \n",
       "183       4700.0  female  2007  \n",
       "184       5050.0  female  2007  \n",
       "186       5150.0  female  2008  \n",
       "188       4950.0  female  2008  \n",
       "190       4350.0  female  2008  \n",
       "192       3950.0  female  2008  \n",
       "194       4300.0  female  2008  \n",
       "197       4900.0  female  2008  \n",
       "198       4200.0  female  2008  \n",
       "200       5100.0  female  2008  \n",
       "202       4850.0  female  2008  \n",
       "204       4400.0  female  2008  \n",
       "206       4900.0  female  2008  \n",
       "208       4300.0  female  2008  \n",
       "210       4450.0  female  2008  \n",
       "212       4200.0  female  2008  \n",
       "214       4400.0  female  2008  \n",
       "216       4700.0  female  2008  \n",
       "220       4700.0  female  2008  \n",
       "222       4750.0  female  2008  \n",
       "225       5200.0  female  2008  \n",
       "226       4700.0  female  2008  \n",
       "228       4600.0  female  2008  \n",
       "230       4750.0  female  2008  \n",
       "232       4625.0  female  2009  \n",
       "234       4725.0  female  2009  \n",
       "236       4750.0  female  2009  \n",
       "238       4600.0  female  2009  \n",
       "240       4875.0  female  2009  \n",
       "242       4950.0  female  2009  \n",
       "244       4750.0  female  2009  \n",
       "246       4850.0  female  2009  \n",
       "249       4875.0  female  2009  \n",
       "250       4625.0  female  2009  \n",
       "252       4850.0  female  2009  \n",
       "254       4975.0  female  2009  \n",
       "258       4700.0  female  2009  \n",
       "260       4575.0  female  2009  \n",
       "262       5000.0  female  2009  \n",
       "264       4650.0  female  2009  \n",
       "266       4375.0  female  2009  \n",
       "270       4925.0  female  2009  \n",
       "272       4850.0  female  2009  \n",
       "274       5200.0  female  2009  "
      ]
     },
     "execution_count": 22,
     "metadata": {},
     "output_type": "execute_result"
    }
   ],
   "source": [
    "# Creating a seperate dataframe\n",
    "female_gentoos = penguins[(penguins['sex'] == 'female') & (penguins['species'] == 'Gentoo')]\n",
    "\n",
    "# Checking our new dataframe\n",
    "female_gentoos"
   ]
  },
  {
   "cell_type": "code",
   "execution_count": 25,
   "id": "aced17b9",
   "metadata": {},
   "outputs": [
    {
     "data": {
      "text/plain": [
       "<Axes: title={'center': 'Frequency of flipper length in female Gentoo penguins'}, xlabel='Flipper Length (mm)', ylabel='Frequency'>"
      ]
     },
     "execution_count": 25,
     "metadata": {},
     "output_type": "execute_result"
    },
    {
     "data": {
      "image/png": "[encoded data removed]",
      "text/plain": [
       "<Figure size 640x480 with 1 Axes>"
      ]
     },
     "metadata": {},
     "output_type": "display_data"
    }
   ],
   "source": [
    "female_gentoos['flipper_length_mm'].plot(\n",
    "    kind = 'hist',\n",
    "    title = 'Frequency of flipper length in female Gentoo penguins',\n",
    "    xlabel = 'Flipper Length (mm)',\n",
    "    color = 'hotpink'\n",
    ")"
   ]
  },
  {
   "cell_type": "code",
   "execution_count": 27,
   "id": "69031355",
   "metadata": {},
   "outputs": [
    {
     "data": {
      "text/plain": [
       "<Axes: ylabel='Frequency'>"
      ]
     },
     "execution_count": 27,
     "metadata": {},
     "output_type": "execute_result"
    },
    {
     "data": {
      "image/png": "[encoded data removed]",
      "text/plain": [
       "<Figure size 640x480 with 1 Axes>"
      ]
     },
     "metadata": {},
     "output_type": "display_data"
    }
   ],
   "source": [
    "# Selecting rows and columns simultaneoulsy to plot\n",
    "penguins.loc[(penguins['sex'] == 'female') & (penguins['species'] == 'Gentoo'), 'flipper_length_mm'].plot(\n",
    "    kind = 'hist',\n",
    "    color = 'purple'\n",
    ")"
   ]
  },
  {
   "cell_type": "code",
   "execution_count": null,
   "id": "4933bd4a",
   "metadata": {},
   "outputs": [],
   "source": []
  }
 ],
 "metadata": {
  "kernelspec": {
   "display_name": "EDS220",
   "language": "python",
   "name": "eds220-env"
  },
  "language_info": {
   "codemirror_mode": {
    "name": "ipython",
    "version": 3
   },
   "file_extension": ".py",
   "mimetype": "text/x-python",
   "name": "python",
   "nbconvert_exporter": "python",
   "pygments_lexer": "ipython3",
   "version": "3.11.4"
  }
 },
 "nbformat": 4,
 "nbformat_minor": 5
}
