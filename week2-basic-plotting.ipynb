{
 "cells": [
  {
   "cell_type": "code",
   "execution_count": null,
   "id": "e69635ad",
   "metadata": {
    "vscode": {
     "languageId": "plaintext"
    }
   },
   "outputs": [],
   "source": [
    "import pandas as pd\n",
    "\n",
    "# Read in file\n",
    "df = pd.read_csv('data/wetlands_seasonal_bird_diversity.csv')\n",
    "\n",
    "# Check the first 5 rows\n",
    "df.head()"
   ]
  },
  {
   "cell_type": "code",
   "execution_count": null,
   "id": "19622df5",
   "metadata": {
    "vscode": {
     "languageId": "plaintext"
    }
   },
   "outputs": [],
   "source": [
    "# Default plot(): one line plot per column with numeric data\n",
    "df.plot()"
   ]
  },
  {
   "cell_type": "markdown",
   "id": "08cd21be",
   "metadata": {},
   "source": [
    "# Line Plots"
   ]
  },
  {
   "cell_type": "code",
   "execution_count": null,
   "id": "d17354ea",
   "metadata": {
    "vscode": {
     "languageId": "plaintext"
    }
   },
   "outputs": [],
   "source": [
    "df.plot(x='x_values_column', y='y_values_column')"
   ]
  },
  {
   "cell_type": "code",
   "execution_count": null,
   "id": "a58e12d9",
   "metadata": {
    "vscode": {
     "languageId": "plaintext"
    }
   },
   "outputs": [],
   "source": [
    "# Birds species registered during winter at CSM yearly\n",
    "df.plot(x='year', y='CSM_winter')"
   ]
  },
  {
   "cell_type": "code",
   "execution_count": null,
   "id": "7d7860e9",
   "metadata": {
    "vscode": {
     "languageId": "plaintext"
    }
   },
   "outputs": [],
   "source": [
    "df.plot(x='year', \n",
    "        y='CSM_winter',\n",
    "        title='Bird species registered during winter at Carpinteria Salt Marsh',\n",
    "        xlabel='Year',\n",
    "        ylabel='Number of bird species',\n",
    "        color='green',\n",
    "        legend=False\n",
    "        )"
   ]
  },
  {
   "cell_type": "markdown",
   "id": "0a22ca2f",
   "metadata": {},
   "source": [
    "## Check-in"
   ]
  },
  {
   "cell_type": "markdown",
   "id": "db14a3a4",
   "metadata": {},
   "source": [
    "1. Plot a graph of the spring bird surveys at Mugu Lagoon with respect to the years. Include some basic customization."
   ]
  },
  {
   "cell_type": "code",
   "execution_count": null,
   "id": "67d69f43",
   "metadata": {
    "vscode": {
     "languageId": "plaintext"
    }
   },
   "outputs": [],
   "source": []
  },
  {
   "cell_type": "markdown",
   "id": "e41f56f4",
   "metadata": {},
   "source": [
    "2. Use the isna() method for pandas.Series and row selection to select the rows in which Mugu Lagoon has NAs during the spring survey."
   ]
  },
  {
   "cell_type": "markdown",
   "id": "e76e8d01",
   "metadata": {},
   "source": [
    "### Multiple Line Plot"
   ]
  },
  {
   "cell_type": "code",
   "execution_count": null,
   "id": "172047d5",
   "metadata": {
    "vscode": {
     "languageId": "plaintext"
    }
   },
   "outputs": [],
   "source": [
    "df.plot(x='year', \n",
    "        y=['TJE_spring', 'TJE_fall'],\n",
    "        title = 'Seasonal bird surveys at Tijuana Estuary',\n",
    "        xlabel='Year',\n",
    "        ylabel='Number of bird species',        \n",
    "        color = {'TJE_spring':'#F48FB1',\n",
    "                 'TJE_fall': '#AB47BC'\n",
    "                 }\n",
    "        )"
   ]
  },
  {
   "cell_type": "code",
   "execution_count": null,
   "id": "cac6cf98",
   "metadata": {
    "vscode": {
     "languageId": "plaintext"
    }
   },
   "outputs": [],
   "source": [
    "df.plot(x='year', \n",
    "        y=['TJE_spring', 'TJE_fall'],\n",
    "        title = 'Seasonal bird surveys at Tijuana Estuary',\n",
    "        xlabel='Year',\n",
    "        ylabel='Number of bird species',        \n",
    "        color = {'TJE_spring':'#F48FB1',\n",
    "                 'TJE_fall': '#AB47BC'\n",
    "                 },\n",
    "        subplots=True\n",
    "        )"
   ]
  },
  {
   "cell_type": "markdown",
   "id": "cd5bd4d5",
   "metadata": {},
   "source": [
    "### Updating the index"
   ]
  },
  {
   "cell_type": "code",
   "execution_count": null,
   "id": "b706a15a",
   "metadata": {
    "vscode": {
     "languageId": "plaintext"
    }
   },
   "outputs": [],
   "source": [
    "df = df.set_index(new_index)"
   ]
  },
  {
   "cell_type": "code",
   "execution_count": null,
   "id": "48281226",
   "metadata": {
    "vscode": {
     "languageId": "plaintext"
    }
   },
   "outputs": [],
   "source": [
    "# Set `column_name` column in df as the new index (reassignment)\n",
    "df = df.set_index('column_name')"
   ]
  },
  {
   "cell_type": "code",
   "execution_count": null,
   "id": "da119927",
   "metadata": {
    "vscode": {
     "languageId": "plaintext"
    }
   },
   "outputs": [],
   "source": [
    "# Set `column_name` column in df as the new index (modify df in-place)\n",
    "df.set_index('column_name', inplace=True)"
   ]
  },
  {
   "cell_type": "markdown",
   "id": "0c9e1b0d",
   "metadata": {},
   "source": [
    "#### Example"
   ]
  },
  {
   "cell_type": "code",
   "execution_count": null,
   "id": "0eb45160",
   "metadata": {
    "vscode": {
     "languageId": "plaintext"
    }
   },
   "outputs": [],
   "source": [
    "# Update index to be the year column\n",
    "df = df.set_index('year')\n",
    "df.head()"
   ]
  },
  {
   "cell_type": "code",
   "execution_count": null,
   "id": "3719fa18",
   "metadata": {
    "vscode": {
     "languageId": "plaintext"
    }
   },
   "outputs": [],
   "source": [
    "# Simple plot of Carpinteria Salt Marsh winter surveys\n",
    "df.plot(y='CSM_winter')"
   ]
  },
  {
   "cell_type": "code",
   "execution_count": null,
   "id": "e56e2ef4",
   "metadata": {
    "vscode": {
     "languageId": "plaintext"
    }
   },
   "outputs": [],
   "source": [
    "df = df.reset_index()\n",
    "df.head()"
   ]
  },
  {
   "cell_type": "markdown",
   "id": "def9d9e7",
   "metadata": {},
   "source": [
    "## Check-in\n",
    "Without running the code, give a step-by-step breakdown of what this code is doing:\n",
    "```\n",
    "df.set_index('year').loc[:,'SDW_winter':'TJE_fall'].plot()\n",
    "```\n",
    "\n",
    "Is this code modifying the data frame df? Why or why not?\n",
    "\n",
    "Run the code and examine the graph. Review the data description. Do we have all the necessary information to make sure it makes sense to directly compare the surveys at these different sites?"
   ]
  },
  {
   "cell_type": "markdown",
   "id": "1dd58a16",
   "metadata": {},
   "source": [
    "## Method Chaining"
   ]
  },
  {
   "cell_type": "code",
   "execution_count": null,
   "id": "4ad01ce3",
   "metadata": {
    "vscode": {
     "languageId": "plaintext"
    }
   },
   "outputs": [],
   "source": [
    "df.set_index('year').loc[:,'SDW_winter':'TJE_fall'].plot()"
   ]
  },
  {
   "cell_type": "code",
   "execution_count": null,
   "id": "c9d03dee",
   "metadata": {
    "vscode": {
     "languageId": "plaintext"
    }
   },
   "outputs": [],
   "source": [
    "(df.set_index('year')\n",
    "  .loc[:,'SDW_winter':'TJE_fall']\n",
    "  .plot()\n",
    ")"
   ]
  },
  {
   "cell_type": "code",
   "execution_count": null,
   "id": "f8077d09",
   "metadata": {
    "vscode": {
     "languageId": "plaintext"
    }
   },
   "outputs": [],
   "source": [
    "year_index_df = df.set_index('year')\n",
    "subset_df = year_index_df.loc[:,'SDW_winter':'TJE_fall']\n",
    "subset_df.plot()"
   ]
  },
  {
   "cell_type": "markdown",
   "id": "6b1814e1",
   "metadata": {
    "vscode": {
     "languageId": "plaintext"
    }
   },
   "source": [
    "### Data exploration"
   ]
  },
  {
   "cell_type": "code",
   "execution_count": null,
   "id": "5556532f",
   "metadata": {
    "vscode": {
     "languageId": "plaintext"
    }
   },
   "outputs": [],
   "source": [
    "# Read in data\n",
    "URL = 'https://raw.githubusercontent.com/allisonhorst/palmerpenguins/main/inst/extdata/penguins.csv'\n",
    "penguins = pd.read_csv(URL)\n",
    "\n",
    "penguins.head()"
   ]
  },
  {
   "cell_type": "code",
   "execution_count": null,
   "id": "4e4736e8",
   "metadata": {
    "vscode": {
     "languageId": "plaintext"
    }
   },
   "outputs": [],
   "source": [
    "# Check column data types and NA values\n",
    "penguins.info()"
   ]
  },
  {
   "cell_type": "code",
   "execution_count": null,
   "id": "a6324800",
   "metadata": {
    "vscode": {
     "languageId": "plaintext"
    }
   },
   "outputs": [],
   "source": [
    "# Simple statistics about numeric columns\n",
    "penguins.describe()"
   ]
  },
  {
   "cell_type": "code",
   "execution_count": null,
   "id": "3ce72f2f",
   "metadata": {
    "vscode": {
     "languageId": "plaintext"
    }
   },
   "outputs": [],
   "source": [
    "# Count unique values in categorical columns and year\n",
    "penguins[['species', 'island', 'sex', 'year']].nunique()"
   ]
  },
  {
   "cell_type": "code",
   "execution_count": null,
   "id": "80bd9cd7",
   "metadata": {
    "vscode": {
     "languageId": "plaintext"
    }
   },
   "outputs": [],
   "source": [
    "# Get unique values in species column\n",
    "penguins['species'].unique()"
   ]
  },
  {
   "cell_type": "code",
   "execution_count": null,
   "id": "0aa3a01e",
   "metadata": {
    "vscode": {
     "languageId": "plaintext"
    }
   },
   "outputs": [],
   "source": [
    "# Number of values per unique value in species column\n",
    "penguins['species'].value_counts()"
   ]
  },
  {
   "cell_type": "markdown",
   "id": "dfdf9c3f",
   "metadata": {},
   "source": [
    "### `kind` arguement in `plot()`"
   ]
  },
  {
   "cell_type": "markdown",
   "id": "5c3f8d4e",
   "metadata": {},
   "source": [
    "## Scatter plot"
   ]
  },
  {
   "cell_type": "code",
   "execution_count": null,
   "id": "15b45e30",
   "metadata": {
    "vscode": {
     "languageId": "plaintext"
    }
   },
   "outputs": [],
   "source": [
    "penguins.plot(kind='scatter',\n",
    "              x='flipper_length_mm', \n",
    "              y='body_mass_g')"
   ]
  },
  {
   "cell_type": "code",
   "execution_count": null,
   "id": "9dfefeff",
   "metadata": {
    "vscode": {
     "languageId": "plaintext"
    }
   },
   "outputs": [],
   "source": [
    "penguins.plot(kind='scatter',\n",
    "              x='flipper_length_mm', \n",
    "              y='body_mass_g',\n",
    "              title='Flipper length and body mass for Palmer penguins',\n",
    "              xlabel='Flipper length (mm)',\n",
    "              ylabel='Body mass (g)',\n",
    "              color='#ff3b01',\n",
    "              alpha=0.4  # Controls transparency\n",
    "              )"
   ]
  },
  {
   "cell_type": "markdown",
   "id": "dfc8372f",
   "metadata": {},
   "source": [
    "### Bar plots"
   ]
  },
  {
   "cell_type": "code",
   "execution_count": null,
   "id": "898b747d",
   "metadata": {
    "vscode": {
     "languageId": "plaintext"
    }
   },
   "outputs": [],
   "source": [
    "smallest = penguins['body_mass_g'].nsmallest(10)\n",
    "smallest"
   ]
  },
  {
   "cell_type": "code",
   "execution_count": null,
   "id": "f6487686",
   "metadata": {
    "vscode": {
     "languageId": "plaintext"
    }
   },
   "outputs": [],
   "source": [
    "smallest.plot(kind='bar')"
   ]
  },
  {
   "cell_type": "code",
   "execution_count": null,
   "id": "b8669840",
   "metadata": {
    "vscode": {
     "languageId": "plaintext"
    }
   },
   "outputs": [],
   "source": [
    "penguins.nsmallest(10, 'body_mass_g')"
   ]
  },
  {
   "cell_type": "markdown",
   "id": "092acc1a",
   "metadata": {
    "vscode": {
     "languageId": "plaintext"
    }
   },
   "source": [
    "### Histograms"
   ]
  },
  {
   "cell_type": "code",
   "execution_count": null,
   "id": "20c0a65f",
   "metadata": {
    "vscode": {
     "languageId": "plaintext"
    }
   },
   "outputs": [],
   "source": [
    "# Using plot without subsetting data - a mess again\n",
    "penguins.plot(kind='hist')"
   ]
  },
  {
   "cell_type": "code",
   "execution_count": null,
   "id": "c7e13494",
   "metadata": {
    "vscode": {
     "languageId": "plaintext"
    }
   },
   "outputs": [],
   "source": [
    "# Distribution of flipper length measurements\n",
    "# First select data, then plot\n",
    "penguins['flipper_length_mm'].plot(kind='hist',\n",
    "                                title='Penguin flipper lengths',\n",
    "                                xlabel='Flipper length (mm)',\n",
    "                                grid=True)"
   ]
  },
  {
   "cell_type": "markdown",
   "id": "4d793b30",
   "metadata": {
    "vscode": {
     "languageId": "plaintext"
    }
   },
   "source": [
    "### Check-in\n",
    "1. Select the bill_length_mm and bill_depth_mm columns in the penguins dataframe and then update the kind parameter to box to make boxplots of the bill length and bill depth.\n"
   ]
  },
  {
   "cell_type": "markdown",
   "id": "a64b2aa3",
   "metadata": {},
   "source": [
    "\n",
    "### Check-in\n",
    "2. Create a simple histogram of the flipper length of female gentoo penguins."
   ]
  }
 ],
 "metadata": {
  "language_info": {
   "name": "python"
  }
 },
 "nbformat": 4,
 "nbformat_minor": 5
}
